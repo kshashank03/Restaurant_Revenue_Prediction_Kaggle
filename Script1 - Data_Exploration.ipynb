{
 "metadata": {
  "language_info": {
   "codemirror_mode": {
    "name": "ipython",
    "version": 3
   },
   "file_extension": ".py",
   "mimetype": "text/x-python",
   "name": "python",
   "nbconvert_exporter": "python",
   "pygments_lexer": "ipython3",
   "version": "3.9.1"
  },
  "orig_nbformat": 2,
  "kernelspec": {
   "name": "python3",
   "display_name": "Python 3.9.1 64-bit ('webscraping': conda)",
   "metadata": {
    "interpreter": {
     "hash": "98af3940ceb3ab3e60da436f12748b348944f780175787b146ebe54fcc7877a8"
    }
   }
  }
 },
 "nbformat": 4,
 "nbformat_minor": 2,
 "cells": [
  {
   "cell_type": "code",
   "execution_count": 14,
   "metadata": {},
   "outputs": [],
   "source": [
    "import pandas as pd\n",
    "import numpy as np\n",
    "import os"
   ]
  },
  {
   "cell_type": "code",
   "execution_count": 2,
   "metadata": {},
   "outputs": [],
   "source": [
    "pwd = os.getcwd()"
   ]
  },
  {
   "cell_type": "code",
   "execution_count": 3,
   "metadata": {},
   "outputs": [
    {
     "output_type": "execute_result",
     "data": {
      "text/plain": [
       "      Id   Open Date        City  City Group Type  P1   P2   P3   P4  P5  ...  \\\n",
       "0      0  07/17/1999    İstanbul  Big Cities   IL   4  5.0  4.0  4.0   2  ...   \n",
       "1      1  02/14/2008      Ankara  Big Cities   FC   4  5.0  4.0  4.0   1  ...   \n",
       "2      2  03/09/2013  Diyarbakır       Other   IL   2  4.0  2.0  5.0   2  ...   \n",
       "3      3  02/02/2012       Tokat       Other   IL   6  4.5  6.0  6.0   4  ...   \n",
       "4      4  05/09/2009   Gaziantep       Other   IL   3  4.0  3.0  4.0   2  ...   \n",
       "..   ...         ...         ...         ...  ...  ..  ...  ...  ...  ..  ...   \n",
       "132  132  06/25/2008     Trabzon       Other   FC   2  3.0  3.0  5.0   4  ...   \n",
       "133  133  10/12/2006       İzmir  Big Cities   FC   4  5.0  4.0  4.0   2  ...   \n",
       "134  134  07/08/2006     Kayseri       Other   FC   3  4.0  4.0  4.0   2  ...   \n",
       "135  135  10/29/2010    İstanbul  Big Cities   FC   4  5.0  4.0  5.0   2  ...   \n",
       "136  136  09/01/2009    İstanbul  Big Cities   FC   4  5.0  3.0  5.0   2  ...   \n",
       "\n",
       "     P29  P30  P31  P32  P33  P34  P35  P36  P37    revenue  \n",
       "0    3.0    5    3    4    5    5    4    3    4  5653753.0  \n",
       "1    3.0    0    0    0    0    0    0    0    0  6923131.0  \n",
       "2    3.0    0    0    0    0    0    0    0    0  2055379.0  \n",
       "3    7.5   25   12   10    6   18   12   12    6  2675511.0  \n",
       "4    3.0    5    1    3    2    3    4    3    3  4316715.0  \n",
       "..   ...  ...  ...  ...  ...  ...  ...  ...  ...        ...  \n",
       "132  3.0    0    0    0    0    0    0    0    0  5787594.0  \n",
       "133  3.0    0    0    0    0    0    0    0    0  9262754.0  \n",
       "134  3.0    0    0    0    0    0    0    0    0  2544857.0  \n",
       "135  3.0    0    0    0    0    0    0    0    0  7217634.0  \n",
       "136  3.0    0    0    0    0    0    0    0    0  6363241.0  \n",
       "\n",
       "[137 rows x 43 columns]"
      ],
      "text/html": "<div>\n<style scoped>\n    .dataframe tbody tr th:only-of-type {\n        vertical-align: middle;\n    }\n\n    .dataframe tbody tr th {\n        vertical-align: top;\n    }\n\n    .dataframe thead th {\n        text-align: right;\n    }\n</style>\n<table border=\"1\" class=\"dataframe\">\n  <thead>\n    <tr style=\"text-align: right;\">\n      <th></th>\n      <th>Id</th>\n      <th>Open Date</th>\n      <th>City</th>\n      <th>City Group</th>\n      <th>Type</th>\n      <th>P1</th>\n      <th>P2</th>\n      <th>P3</th>\n      <th>P4</th>\n      <th>P5</th>\n      <th>...</th>\n      <th>P29</th>\n      <th>P30</th>\n      <th>P31</th>\n      <th>P32</th>\n      <th>P33</th>\n      <th>P34</th>\n      <th>P35</th>\n      <th>P36</th>\n      <th>P37</th>\n      <th>revenue</th>\n    </tr>\n  </thead>\n  <tbody>\n    <tr>\n      <th>0</th>\n      <td>0</td>\n      <td>07/17/1999</td>\n      <td>İstanbul</td>\n      <td>Big Cities</td>\n      <td>IL</td>\n      <td>4</td>\n      <td>5.0</td>\n      <td>4.0</td>\n      <td>4.0</td>\n      <td>2</td>\n      <td>...</td>\n      <td>3.0</td>\n      <td>5</td>\n      <td>3</td>\n      <td>4</td>\n      <td>5</td>\n      <td>5</td>\n      <td>4</td>\n      <td>3</td>\n      <td>4</td>\n      <td>5653753.0</td>\n    </tr>\n    <tr>\n      <th>1</th>\n      <td>1</td>\n      <td>02/14/2008</td>\n      <td>Ankara</td>\n      <td>Big Cities</td>\n      <td>FC</td>\n      <td>4</td>\n      <td>5.0</td>\n      <td>4.0</td>\n      <td>4.0</td>\n      <td>1</td>\n      <td>...</td>\n      <td>3.0</td>\n      <td>0</td>\n      <td>0</td>\n      <td>0</td>\n      <td>0</td>\n      <td>0</td>\n      <td>0</td>\n      <td>0</td>\n      <td>0</td>\n      <td>6923131.0</td>\n    </tr>\n    <tr>\n      <th>2</th>\n      <td>2</td>\n      <td>03/09/2013</td>\n      <td>Diyarbakır</td>\n      <td>Other</td>\n      <td>IL</td>\n      <td>2</td>\n      <td>4.0</td>\n      <td>2.0</td>\n      <td>5.0</td>\n      <td>2</td>\n      <td>...</td>\n      <td>3.0</td>\n      <td>0</td>\n      <td>0</td>\n      <td>0</td>\n      <td>0</td>\n      <td>0</td>\n      <td>0</td>\n      <td>0</td>\n      <td>0</td>\n      <td>2055379.0</td>\n    </tr>\n    <tr>\n      <th>3</th>\n      <td>3</td>\n      <td>02/02/2012</td>\n      <td>Tokat</td>\n      <td>Other</td>\n      <td>IL</td>\n      <td>6</td>\n      <td>4.5</td>\n      <td>6.0</td>\n      <td>6.0</td>\n      <td>4</td>\n      <td>...</td>\n      <td>7.5</td>\n      <td>25</td>\n      <td>12</td>\n      <td>10</td>\n      <td>6</td>\n      <td>18</td>\n      <td>12</td>\n      <td>12</td>\n      <td>6</td>\n      <td>2675511.0</td>\n    </tr>\n    <tr>\n      <th>4</th>\n      <td>4</td>\n      <td>05/09/2009</td>\n      <td>Gaziantep</td>\n      <td>Other</td>\n      <td>IL</td>\n      <td>3</td>\n      <td>4.0</td>\n      <td>3.0</td>\n      <td>4.0</td>\n      <td>2</td>\n      <td>...</td>\n      <td>3.0</td>\n      <td>5</td>\n      <td>1</td>\n      <td>3</td>\n      <td>2</td>\n      <td>3</td>\n      <td>4</td>\n      <td>3</td>\n      <td>3</td>\n      <td>4316715.0</td>\n    </tr>\n    <tr>\n      <th>...</th>\n      <td>...</td>\n      <td>...</td>\n      <td>...</td>\n      <td>...</td>\n      <td>...</td>\n      <td>...</td>\n      <td>...</td>\n      <td>...</td>\n      <td>...</td>\n      <td>...</td>\n      <td>...</td>\n      <td>...</td>\n      <td>...</td>\n      <td>...</td>\n      <td>...</td>\n      <td>...</td>\n      <td>...</td>\n      <td>...</td>\n      <td>...</td>\n      <td>...</td>\n      <td>...</td>\n    </tr>\n    <tr>\n      <th>132</th>\n      <td>132</td>\n      <td>06/25/2008</td>\n      <td>Trabzon</td>\n      <td>Other</td>\n      <td>FC</td>\n      <td>2</td>\n      <td>3.0</td>\n      <td>3.0</td>\n      <td>5.0</td>\n      <td>4</td>\n      <td>...</td>\n      <td>3.0</td>\n      <td>0</td>\n      <td>0</td>\n      <td>0</td>\n      <td>0</td>\n      <td>0</td>\n      <td>0</td>\n      <td>0</td>\n      <td>0</td>\n      <td>5787594.0</td>\n    </tr>\n    <tr>\n      <th>133</th>\n      <td>133</td>\n      <td>10/12/2006</td>\n      <td>İzmir</td>\n      <td>Big Cities</td>\n      <td>FC</td>\n      <td>4</td>\n      <td>5.0</td>\n      <td>4.0</td>\n      <td>4.0</td>\n      <td>2</td>\n      <td>...</td>\n      <td>3.0</td>\n      <td>0</td>\n      <td>0</td>\n      <td>0</td>\n      <td>0</td>\n      <td>0</td>\n      <td>0</td>\n      <td>0</td>\n      <td>0</td>\n      <td>9262754.0</td>\n    </tr>\n    <tr>\n      <th>134</th>\n      <td>134</td>\n      <td>07/08/2006</td>\n      <td>Kayseri</td>\n      <td>Other</td>\n      <td>FC</td>\n      <td>3</td>\n      <td>4.0</td>\n      <td>4.0</td>\n      <td>4.0</td>\n      <td>2</td>\n      <td>...</td>\n      <td>3.0</td>\n      <td>0</td>\n      <td>0</td>\n      <td>0</td>\n      <td>0</td>\n      <td>0</td>\n      <td>0</td>\n      <td>0</td>\n      <td>0</td>\n      <td>2544857.0</td>\n    </tr>\n    <tr>\n      <th>135</th>\n      <td>135</td>\n      <td>10/29/2010</td>\n      <td>İstanbul</td>\n      <td>Big Cities</td>\n      <td>FC</td>\n      <td>4</td>\n      <td>5.0</td>\n      <td>4.0</td>\n      <td>5.0</td>\n      <td>2</td>\n      <td>...</td>\n      <td>3.0</td>\n      <td>0</td>\n      <td>0</td>\n      <td>0</td>\n      <td>0</td>\n      <td>0</td>\n      <td>0</td>\n      <td>0</td>\n      <td>0</td>\n      <td>7217634.0</td>\n    </tr>\n    <tr>\n      <th>136</th>\n      <td>136</td>\n      <td>09/01/2009</td>\n      <td>İstanbul</td>\n      <td>Big Cities</td>\n      <td>FC</td>\n      <td>4</td>\n      <td>5.0</td>\n      <td>3.0</td>\n      <td>5.0</td>\n      <td>2</td>\n      <td>...</td>\n      <td>3.0</td>\n      <td>0</td>\n      <td>0</td>\n      <td>0</td>\n      <td>0</td>\n      <td>0</td>\n      <td>0</td>\n      <td>0</td>\n      <td>0</td>\n      <td>6363241.0</td>\n    </tr>\n  </tbody>\n</table>\n<p>137 rows × 43 columns</p>\n</div>"
     },
     "metadata": {},
     "execution_count": 3
    }
   ],
   "source": [
    "train_import = pd.read_csv(pwd + \"/train.csv\")\n",
    "train_import"
   ]
  },
  {
   "cell_type": "code",
   "execution_count": 4,
   "metadata": {},
   "outputs": [
    {
     "output_type": "execute_result",
     "data": {
      "text/plain": [
       "Index(['Id', 'Open Date', 'City', 'City Group', 'Type', 'P1', 'P2', 'P3', 'P4',\n",
       "       'P5', 'P6', 'P7', 'P8', 'P9', 'P10', 'P11', 'P12', 'P13', 'P14', 'P15',\n",
       "       'P16', 'P17', 'P18', 'P19', 'P20', 'P21', 'P22', 'P23', 'P24', 'P25',\n",
       "       'P26', 'P27', 'P28', 'P29', 'P30', 'P31', 'P32', 'P33', 'P34', 'P35',\n",
       "       'P36', 'P37', 'revenue'],\n",
       "      dtype='object')"
      ]
     },
     "metadata": {},
     "execution_count": 4
    }
   ],
   "source": [
    "train_import.columns"
   ]
  },
  {
   "cell_type": "code",
   "execution_count": 5,
   "metadata": {},
   "outputs": [
    {
     "output_type": "execute_result",
     "data": {
      "text/plain": [
       "array(['İstanbul', 'Ankara', 'Diyarbakır', 'Tokat', 'Gaziantep',\n",
       "       'Afyonkarahisar', 'Edirne', 'Kocaeli', 'Bursa', 'İzmir', 'Sakarya',\n",
       "       'Elazığ', 'Kayseri', 'Eskişehir', 'Şanlıurfa', 'Samsun', 'Adana',\n",
       "       'Antalya', 'Kastamonu', 'Uşak', 'Muğla', 'Kırklareli', 'Konya',\n",
       "       'Karabük', 'Tekirdağ', 'Denizli', 'Balıkesir', 'Aydın', 'Amasya',\n",
       "       'Kütahya', 'Bolu', 'Trabzon', 'Isparta', 'Osmaniye'], dtype=object)"
      ]
     },
     "metadata": {},
     "execution_count": 5
    }
   ],
   "source": [
    "train_import[\"City\"].unique()"
   ]
  },
  {
   "cell_type": "code",
   "execution_count": 6,
   "metadata": {},
   "outputs": [
    {
     "output_type": "execute_result",
     "data": {
      "text/plain": [
       "array(['Big Cities', 'Other'], dtype=object)"
      ]
     },
     "metadata": {},
     "execution_count": 6
    }
   ],
   "source": [
    "train_import[\"City Group\"].unique()"
   ]
  },
  {
   "cell_type": "code",
   "execution_count": 7,
   "metadata": {},
   "outputs": [
    {
     "output_type": "execute_result",
     "data": {
      "text/plain": [
       "array(['IL', 'FC', 'DT'], dtype=object)"
      ]
     },
     "metadata": {},
     "execution_count": 7
    }
   ],
   "source": [
    "train_import[\"Type\"].unique()"
   ]
  },
  {
   "cell_type": "code",
   "execution_count": 8,
   "metadata": {},
   "outputs": [
    {
     "output_type": "execute_result",
     "data": {
      "text/plain": [
       "count    1.370000e+02\n",
       "mean     4.453533e+06\n",
       "std      2.576072e+06\n",
       "min      1.149870e+06\n",
       "25%      2.999068e+06\n",
       "50%      3.939804e+06\n",
       "75%      5.166635e+06\n",
       "max      1.969694e+07\n",
       "Name: revenue, dtype: float64"
      ]
     },
     "metadata": {},
     "execution_count": 8
    }
   ],
   "source": [
    "train_import[\"revenue\"].describe()"
   ]
  },
  {
   "source": [
    "# Look at city level statistics\n",
    "\n",
    "train_city_stats = train_import.copy()\n",
    "\n",
    "city_summary_stats = train_city_stats.groupby([\"City\", \"City Group\"]).agg({\"revenue\":[np.sum, np.average, np.median, np.count_nonzero]}).reset_index().sort_values(by=[(\"revenue\", \"sum\")], ascending=False)\n",
    "\n",
    "city_summary_stats"
   ],
   "cell_type": "code",
   "metadata": {},
   "execution_count": 32,
   "outputs": [
    {
     "output_type": "execute_result",
     "data": {
      "text/plain": [
       "              City  City Group      revenue                           \\\n",
       "                                        sum       average     median   \n",
       "31        İstanbul  Big Cities  278890598.0  5.577812e+06  4648184.0   \n",
       "3           Ankara  Big Cities   62232711.0  3.275406e+06  3164972.0   \n",
       "32           İzmir  Big Cities   47588137.0  5.287571e+06  4250758.0   \n",
       "8            Bursa       Other   20461475.0  4.092295e+06  3351383.0   \n",
       "26          Samsun       Other   16239348.0  3.247870e+06  3248660.0   \n",
       "0            Adana       Other   14684833.0  4.894944e+06  4467728.0   \n",
       "4          Antalya       Other   13925793.0  3.481448e+06  3505861.0   \n",
       "18         Kayseri       Other   13702727.0  4.567576e+06  3956086.0   \n",
       "25         Sakarya       Other   13315413.0  3.328853e+06  3003633.5   \n",
       "13       Eskişehir       Other   11873860.0  3.957953e+06  3939804.0   \n",
       "10      Diyarbakır       Other   11206054.0  3.735351e+06  2738052.0   \n",
       "29         Trabzon       Other   10568201.0  5.284100e+06  5284100.5   \n",
       "27        Tekirdağ       Other    9937412.0  3.312471e+06  3410878.0   \n",
       "23           Muğla       Other    8222258.0  4.111129e+06  4111129.0   \n",
       "5            Aydın       Other    6859597.0  3.429798e+06  3429798.5   \n",
       "12          Elazığ       Other    5525735.0  5.525735e+06  5525735.0   \n",
       "11          Edirne       Other    5444227.0  5.444227e+06  5444227.0   \n",
       "20           Konya       Other    5334513.0  2.667256e+06  2667256.5   \n",
       "1   Afyonkarahisar       Other    4952497.0  4.952497e+06  4952497.0   \n",
       "6        Balıkesir       Other    4758476.0  4.758476e+06  4758476.0   \n",
       "14       Gaziantep       Other    4316715.0  4.316715e+06  4316715.0   \n",
       "7             Bolu       Other    4263629.0  4.263629e+06  4263629.0   \n",
       "15         Isparta       Other    4015749.0  4.015749e+06  4015749.0   \n",
       "16         Karabük       Other    3807496.0  3.807496e+06  3807496.0   \n",
       "19         Kocaeli       Other    3745135.0  3.745135e+06  3745135.0   \n",
       "24        Osmaniye       Other    3376145.0  3.376145e+06  3376145.0   \n",
       "17       Kastamonu       Other    3273041.0  3.273041e+06  3273041.0   \n",
       "33       Şanlıurfa       Other    3261924.0  3.261924e+06  3261924.0   \n",
       "21         Kütahya       Other    2993069.0  2.993069e+06  2993069.0   \n",
       "2           Amasya       Other    2954086.0  2.954086e+06  2954086.0   \n",
       "28           Tokat       Other    2675511.0  2.675511e+06  2675511.0   \n",
       "9          Denizli       Other    2344689.0  2.344689e+06  2344689.0   \n",
       "30            Uşak       Other    1763231.0  1.763231e+06  1763231.0   \n",
       "22      Kırklareli       Other    1619683.0  1.619683e+06  1619683.0   \n",
       "\n",
       "                  \n",
       "   count_nonzero  \n",
       "31          50.0  \n",
       "3           19.0  \n",
       "32           9.0  \n",
       "8            5.0  \n",
       "26           5.0  \n",
       "0            3.0  \n",
       "4            4.0  \n",
       "18           3.0  \n",
       "25           4.0  \n",
       "13           3.0  \n",
       "10           3.0  \n",
       "29           2.0  \n",
       "27           3.0  \n",
       "23           2.0  \n",
       "5            2.0  \n",
       "12           1.0  \n",
       "11           1.0  \n",
       "20           2.0  \n",
       "1            1.0  \n",
       "6            1.0  \n",
       "14           1.0  \n",
       "7            1.0  \n",
       "15           1.0  \n",
       "16           1.0  \n",
       "19           1.0  \n",
       "24           1.0  \n",
       "17           1.0  \n",
       "33           1.0  \n",
       "21           1.0  \n",
       "2            1.0  \n",
       "28           1.0  \n",
       "9            1.0  \n",
       "30           1.0  \n",
       "22           1.0  "
      ],
      "text/html": "<div>\n<style scoped>\n    .dataframe tbody tr th:only-of-type {\n        vertical-align: middle;\n    }\n\n    .dataframe tbody tr th {\n        vertical-align: top;\n    }\n\n    .dataframe thead tr th {\n        text-align: left;\n    }\n</style>\n<table border=\"1\" class=\"dataframe\">\n  <thead>\n    <tr>\n      <th></th>\n      <th>City</th>\n      <th>City Group</th>\n      <th colspan=\"4\" halign=\"left\">revenue</th>\n    </tr>\n    <tr>\n      <th></th>\n      <th></th>\n      <th></th>\n      <th>sum</th>\n      <th>average</th>\n      <th>median</th>\n      <th>count_nonzero</th>\n    </tr>\n  </thead>\n  <tbody>\n    <tr>\n      <th>31</th>\n      <td>İstanbul</td>\n      <td>Big Cities</td>\n      <td>278890598.0</td>\n      <td>5.577812e+06</td>\n      <td>4648184.0</td>\n      <td>50.0</td>\n    </tr>\n    <tr>\n      <th>3</th>\n      <td>Ankara</td>\n      <td>Big Cities</td>\n      <td>62232711.0</td>\n      <td>3.275406e+06</td>\n      <td>3164972.0</td>\n      <td>19.0</td>\n    </tr>\n    <tr>\n      <th>32</th>\n      <td>İzmir</td>\n      <td>Big Cities</td>\n      <td>47588137.0</td>\n      <td>5.287571e+06</td>\n      <td>4250758.0</td>\n      <td>9.0</td>\n    </tr>\n    <tr>\n      <th>8</th>\n      <td>Bursa</td>\n      <td>Other</td>\n      <td>20461475.0</td>\n      <td>4.092295e+06</td>\n      <td>3351383.0</td>\n      <td>5.0</td>\n    </tr>\n    <tr>\n      <th>26</th>\n      <td>Samsun</td>\n      <td>Other</td>\n      <td>16239348.0</td>\n      <td>3.247870e+06</td>\n      <td>3248660.0</td>\n      <td>5.0</td>\n    </tr>\n    <tr>\n      <th>0</th>\n      <td>Adana</td>\n      <td>Other</td>\n      <td>14684833.0</td>\n      <td>4.894944e+06</td>\n      <td>4467728.0</td>\n      <td>3.0</td>\n    </tr>\n    <tr>\n      <th>4</th>\n      <td>Antalya</td>\n      <td>Other</td>\n      <td>13925793.0</td>\n      <td>3.481448e+06</td>\n      <td>3505861.0</td>\n      <td>4.0</td>\n    </tr>\n    <tr>\n      <th>18</th>\n      <td>Kayseri</td>\n      <td>Other</td>\n      <td>13702727.0</td>\n      <td>4.567576e+06</td>\n      <td>3956086.0</td>\n      <td>3.0</td>\n    </tr>\n    <tr>\n      <th>25</th>\n      <td>Sakarya</td>\n      <td>Other</td>\n      <td>13315413.0</td>\n      <td>3.328853e+06</td>\n      <td>3003633.5</td>\n      <td>4.0</td>\n    </tr>\n    <tr>\n      <th>13</th>\n      <td>Eskişehir</td>\n      <td>Other</td>\n      <td>11873860.0</td>\n      <td>3.957953e+06</td>\n      <td>3939804.0</td>\n      <td>3.0</td>\n    </tr>\n    <tr>\n      <th>10</th>\n      <td>Diyarbakır</td>\n      <td>Other</td>\n      <td>11206054.0</td>\n      <td>3.735351e+06</td>\n      <td>2738052.0</td>\n      <td>3.0</td>\n    </tr>\n    <tr>\n      <th>29</th>\n      <td>Trabzon</td>\n      <td>Other</td>\n      <td>10568201.0</td>\n      <td>5.284100e+06</td>\n      <td>5284100.5</td>\n      <td>2.0</td>\n    </tr>\n    <tr>\n      <th>27</th>\n      <td>Tekirdağ</td>\n      <td>Other</td>\n      <td>9937412.0</td>\n      <td>3.312471e+06</td>\n      <td>3410878.0</td>\n      <td>3.0</td>\n    </tr>\n    <tr>\n      <th>23</th>\n      <td>Muğla</td>\n      <td>Other</td>\n      <td>8222258.0</td>\n      <td>4.111129e+06</td>\n      <td>4111129.0</td>\n      <td>2.0</td>\n    </tr>\n    <tr>\n      <th>5</th>\n      <td>Aydın</td>\n      <td>Other</td>\n      <td>6859597.0</td>\n      <td>3.429798e+06</td>\n      <td>3429798.5</td>\n      <td>2.0</td>\n    </tr>\n    <tr>\n      <th>12</th>\n      <td>Elazığ</td>\n      <td>Other</td>\n      <td>5525735.0</td>\n      <td>5.525735e+06</td>\n      <td>5525735.0</td>\n      <td>1.0</td>\n    </tr>\n    <tr>\n      <th>11</th>\n      <td>Edirne</td>\n      <td>Other</td>\n      <td>5444227.0</td>\n      <td>5.444227e+06</td>\n      <td>5444227.0</td>\n      <td>1.0</td>\n    </tr>\n    <tr>\n      <th>20</th>\n      <td>Konya</td>\n      <td>Other</td>\n      <td>5334513.0</td>\n      <td>2.667256e+06</td>\n      <td>2667256.5</td>\n      <td>2.0</td>\n    </tr>\n    <tr>\n      <th>1</th>\n      <td>Afyonkarahisar</td>\n      <td>Other</td>\n      <td>4952497.0</td>\n      <td>4.952497e+06</td>\n      <td>4952497.0</td>\n      <td>1.0</td>\n    </tr>\n    <tr>\n      <th>6</th>\n      <td>Balıkesir</td>\n      <td>Other</td>\n      <td>4758476.0</td>\n      <td>4.758476e+06</td>\n      <td>4758476.0</td>\n      <td>1.0</td>\n    </tr>\n    <tr>\n      <th>14</th>\n      <td>Gaziantep</td>\n      <td>Other</td>\n      <td>4316715.0</td>\n      <td>4.316715e+06</td>\n      <td>4316715.0</td>\n      <td>1.0</td>\n    </tr>\n    <tr>\n      <th>7</th>\n      <td>Bolu</td>\n      <td>Other</td>\n      <td>4263629.0</td>\n      <td>4.263629e+06</td>\n      <td>4263629.0</td>\n      <td>1.0</td>\n    </tr>\n    <tr>\n      <th>15</th>\n      <td>Isparta</td>\n      <td>Other</td>\n      <td>4015749.0</td>\n      <td>4.015749e+06</td>\n      <td>4015749.0</td>\n      <td>1.0</td>\n    </tr>\n    <tr>\n      <th>16</th>\n      <td>Karabük</td>\n      <td>Other</td>\n      <td>3807496.0</td>\n      <td>3.807496e+06</td>\n      <td>3807496.0</td>\n      <td>1.0</td>\n    </tr>\n    <tr>\n      <th>19</th>\n      <td>Kocaeli</td>\n      <td>Other</td>\n      <td>3745135.0</td>\n      <td>3.745135e+06</td>\n      <td>3745135.0</td>\n      <td>1.0</td>\n    </tr>\n    <tr>\n      <th>24</th>\n      <td>Osmaniye</td>\n      <td>Other</td>\n      <td>3376145.0</td>\n      <td>3.376145e+06</td>\n      <td>3376145.0</td>\n      <td>1.0</td>\n    </tr>\n    <tr>\n      <th>17</th>\n      <td>Kastamonu</td>\n      <td>Other</td>\n      <td>3273041.0</td>\n      <td>3.273041e+06</td>\n      <td>3273041.0</td>\n      <td>1.0</td>\n    </tr>\n    <tr>\n      <th>33</th>\n      <td>Şanlıurfa</td>\n      <td>Other</td>\n      <td>3261924.0</td>\n      <td>3.261924e+06</td>\n      <td>3261924.0</td>\n      <td>1.0</td>\n    </tr>\n    <tr>\n      <th>21</th>\n      <td>Kütahya</td>\n      <td>Other</td>\n      <td>2993069.0</td>\n      <td>2.993069e+06</td>\n      <td>2993069.0</td>\n      <td>1.0</td>\n    </tr>\n    <tr>\n      <th>2</th>\n      <td>Amasya</td>\n      <td>Other</td>\n      <td>2954086.0</td>\n      <td>2.954086e+06</td>\n      <td>2954086.0</td>\n      <td>1.0</td>\n    </tr>\n    <tr>\n      <th>28</th>\n      <td>Tokat</td>\n      <td>Other</td>\n      <td>2675511.0</td>\n      <td>2.675511e+06</td>\n      <td>2675511.0</td>\n      <td>1.0</td>\n    </tr>\n    <tr>\n      <th>9</th>\n      <td>Denizli</td>\n      <td>Other</td>\n      <td>2344689.0</td>\n      <td>2.344689e+06</td>\n      <td>2344689.0</td>\n      <td>1.0</td>\n    </tr>\n    <tr>\n      <th>30</th>\n      <td>Uşak</td>\n      <td>Other</td>\n      <td>1763231.0</td>\n      <td>1.763231e+06</td>\n      <td>1763231.0</td>\n      <td>1.0</td>\n    </tr>\n    <tr>\n      <th>22</th>\n      <td>Kırklareli</td>\n      <td>Other</td>\n      <td>1619683.0</td>\n      <td>1.619683e+06</td>\n      <td>1619683.0</td>\n      <td>1.0</td>\n    </tr>\n  </tbody>\n</table>\n</div>"
     },
     "metadata": {},
     "execution_count": 32
    }
   ]
  },
  {
   "source": [
    "It appears that we have a few big groups of cities, those with 1 restaurant, < 10 restaurants, Ankara (19 restaurants), and Istanbul (50 restaurants). I assume that we'll need to build different models for different cities. "
   ],
   "cell_type": "markdown",
   "metadata": {}
  },
  {
   "source": [
    "# Correlation Coefficients Test"
   ],
   "cell_type": "markdown",
   "metadata": {}
  },
  {
   "cell_type": "code",
   "execution_count": 38,
   "metadata": {},
   "outputs": [
    {
     "output_type": "execute_result",
     "data": {
      "text/plain": [
       "      index   revenue\n",
       "38  revenue  1.000000\n",
       "2        P2  0.191518\n",
       "28      P28  0.155534\n",
       "6        P6  0.139094\n",
       "21      P21  0.097411\n",
       "11      P11  0.084247\n",
       "22      P22  0.083562\n",
       "1        P1  0.070217\n",
       "17      P17  0.067137\n",
       "7        P7  0.051165\n",
       "23      P23  0.045507\n",
       "25      P25  0.036365\n",
       "4        P4  0.035685\n",
       "19      P19  0.027984\n",
       "24      P24  0.014222\n",
       "20      P20  0.014147\n",
       "14      P14  0.006441\n",
       "15      P15  0.000742\n",
       "0        Id -0.006277\n",
       "26      P26 -0.007650\n",
       "27      P27 -0.013680\n",
       "37      P37 -0.019051\n",
       "3        P3 -0.024613\n",
       "5        P5 -0.028191\n",
       "33      P33 -0.032426\n",
       "18      P18 -0.034537\n",
       "16      P16 -0.037997\n",
       "31      P31 -0.040418\n",
       "35      P35 -0.050156\n",
       "9        P9 -0.050352\n",
       "36      P36 -0.050534\n",
       "12      P12 -0.062193\n",
       "32      P32 -0.065857\n",
       "30      P30 -0.066203\n",
       "34      P34 -0.072343\n",
       "10      P10 -0.073220\n",
       "8        P8 -0.084215\n",
       "13      P13 -0.105085\n",
       "29      P29 -0.114846"
      ],
      "text/html": "<div>\n<style scoped>\n    .dataframe tbody tr th:only-of-type {\n        vertical-align: middle;\n    }\n\n    .dataframe tbody tr th {\n        vertical-align: top;\n    }\n\n    .dataframe thead th {\n        text-align: right;\n    }\n</style>\n<table border=\"1\" class=\"dataframe\">\n  <thead>\n    <tr style=\"text-align: right;\">\n      <th></th>\n      <th>index</th>\n      <th>revenue</th>\n    </tr>\n  </thead>\n  <tbody>\n    <tr>\n      <th>38</th>\n      <td>revenue</td>\n      <td>1.000000</td>\n    </tr>\n    <tr>\n      <th>2</th>\n      <td>P2</td>\n      <td>0.191518</td>\n    </tr>\n    <tr>\n      <th>28</th>\n      <td>P28</td>\n      <td>0.155534</td>\n    </tr>\n    <tr>\n      <th>6</th>\n      <td>P6</td>\n      <td>0.139094</td>\n    </tr>\n    <tr>\n      <th>21</th>\n      <td>P21</td>\n      <td>0.097411</td>\n    </tr>\n    <tr>\n      <th>11</th>\n      <td>P11</td>\n      <td>0.084247</td>\n    </tr>\n    <tr>\n      <th>22</th>\n      <td>P22</td>\n      <td>0.083562</td>\n    </tr>\n    <tr>\n      <th>1</th>\n      <td>P1</td>\n      <td>0.070217</td>\n    </tr>\n    <tr>\n      <th>17</th>\n      <td>P17</td>\n      <td>0.067137</td>\n    </tr>\n    <tr>\n      <th>7</th>\n      <td>P7</td>\n      <td>0.051165</td>\n    </tr>\n    <tr>\n      <th>23</th>\n      <td>P23</td>\n      <td>0.045507</td>\n    </tr>\n    <tr>\n      <th>25</th>\n      <td>P25</td>\n      <td>0.036365</td>\n    </tr>\n    <tr>\n      <th>4</th>\n      <td>P4</td>\n      <td>0.035685</td>\n    </tr>\n    <tr>\n      <th>19</th>\n      <td>P19</td>\n      <td>0.027984</td>\n    </tr>\n    <tr>\n      <th>24</th>\n      <td>P24</td>\n      <td>0.014222</td>\n    </tr>\n    <tr>\n      <th>20</th>\n      <td>P20</td>\n      <td>0.014147</td>\n    </tr>\n    <tr>\n      <th>14</th>\n      <td>P14</td>\n      <td>0.006441</td>\n    </tr>\n    <tr>\n      <th>15</th>\n      <td>P15</td>\n      <td>0.000742</td>\n    </tr>\n    <tr>\n      <th>0</th>\n      <td>Id</td>\n      <td>-0.006277</td>\n    </tr>\n    <tr>\n      <th>26</th>\n      <td>P26</td>\n      <td>-0.007650</td>\n    </tr>\n    <tr>\n      <th>27</th>\n      <td>P27</td>\n      <td>-0.013680</td>\n    </tr>\n    <tr>\n      <th>37</th>\n      <td>P37</td>\n      <td>-0.019051</td>\n    </tr>\n    <tr>\n      <th>3</th>\n      <td>P3</td>\n      <td>-0.024613</td>\n    </tr>\n    <tr>\n      <th>5</th>\n      <td>P5</td>\n      <td>-0.028191</td>\n    </tr>\n    <tr>\n      <th>33</th>\n      <td>P33</td>\n      <td>-0.032426</td>\n    </tr>\n    <tr>\n      <th>18</th>\n      <td>P18</td>\n      <td>-0.034537</td>\n    </tr>\n    <tr>\n      <th>16</th>\n      <td>P16</td>\n      <td>-0.037997</td>\n    </tr>\n    <tr>\n      <th>31</th>\n      <td>P31</td>\n      <td>-0.040418</td>\n    </tr>\n    <tr>\n      <th>35</th>\n      <td>P35</td>\n      <td>-0.050156</td>\n    </tr>\n    <tr>\n      <th>9</th>\n      <td>P9</td>\n      <td>-0.050352</td>\n    </tr>\n    <tr>\n      <th>36</th>\n      <td>P36</td>\n      <td>-0.050534</td>\n    </tr>\n    <tr>\n      <th>12</th>\n      <td>P12</td>\n      <td>-0.062193</td>\n    </tr>\n    <tr>\n      <th>32</th>\n      <td>P32</td>\n      <td>-0.065857</td>\n    </tr>\n    <tr>\n      <th>30</th>\n      <td>P30</td>\n      <td>-0.066203</td>\n    </tr>\n    <tr>\n      <th>34</th>\n      <td>P34</td>\n      <td>-0.072343</td>\n    </tr>\n    <tr>\n      <th>10</th>\n      <td>P10</td>\n      <td>-0.073220</td>\n    </tr>\n    <tr>\n      <th>8</th>\n      <td>P8</td>\n      <td>-0.084215</td>\n    </tr>\n    <tr>\n      <th>13</th>\n      <td>P13</td>\n      <td>-0.105085</td>\n    </tr>\n    <tr>\n      <th>29</th>\n      <td>P29</td>\n      <td>-0.114846</td>\n    </tr>\n  </tbody>\n</table>\n</div>"
     },
     "metadata": {},
     "execution_count": 38
    }
   ],
   "source": [
    "corr_test = train_import.copy()\n",
    "corr_test = corr_test.corr()[\"revenue\"].reset_index().sort_values(by=\"revenue\", ascending=False)\n",
    "corr_test"
   ]
  },
  {
   "cell_type": "code",
   "execution_count": null,
   "metadata": {},
   "outputs": [],
   "source": []
  }
 ]
}