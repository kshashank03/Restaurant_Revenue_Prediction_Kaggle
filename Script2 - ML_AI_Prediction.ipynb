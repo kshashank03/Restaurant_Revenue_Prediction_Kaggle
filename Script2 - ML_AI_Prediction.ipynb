{
 "metadata": {
  "language_info": {
   "codemirror_mode": {
    "name": "ipython",
    "version": 3
   },
   "file_extension": ".py",
   "mimetype": "text/x-python",
   "name": "python",
   "nbconvert_exporter": "python",
   "pygments_lexer": "ipython3",
   "version": "3.7.10-final"
  },
  "orig_nbformat": 2,
  "kernelspec": {
   "name": "python3",
   "display_name": "Python 3.7.10 64-bit ('tensorflow': conda)",
   "metadata": {
    "interpreter": {
     "hash": "d36e255458e31a29f527eb52fefea68899c70442c5f8ed7f862cc396cd8e7941"
    }
   }
  }
 },
 "nbformat": 4,
 "nbformat_minor": 2,
 "cells": [
  {
   "cell_type": "code",
   "execution_count": 23,
   "metadata": {},
   "outputs": [],
   "source": [
    "import numpy as np\n",
    "import pandas as pd\n",
    "from tensorflow import keras\n",
    "import os\n",
    "from sklearn.linear_model import LinearRegression\n",
    "from sklearn.model_selection import train_test_split"
   ]
  },
  {
   "cell_type": "code",
   "execution_count": 7,
   "metadata": {},
   "outputs": [],
   "source": [
    "pwd = os.getcwd()"
   ]
  },
  {
   "cell_type": "code",
   "execution_count": 8,
   "metadata": {},
   "outputs": [
    {
     "output_type": "execute_result",
     "data": {
      "text/plain": [
       "      Id   Open Date        City  City Group Type  P1   P2   P3   P4  P5  ...  \\\n",
       "0      0  07/17/1999    İstanbul  Big Cities   IL   4  5.0  4.0  4.0   2  ...   \n",
       "1      1  02/14/2008      Ankara  Big Cities   FC   4  5.0  4.0  4.0   1  ...   \n",
       "2      2  03/09/2013  Diyarbakır       Other   IL   2  4.0  2.0  5.0   2  ...   \n",
       "3      3  02/02/2012       Tokat       Other   IL   6  4.5  6.0  6.0   4  ...   \n",
       "4      4  05/09/2009   Gaziantep       Other   IL   3  4.0  3.0  4.0   2  ...   \n",
       "..   ...         ...         ...         ...  ...  ..  ...  ...  ...  ..  ...   \n",
       "132  132  06/25/2008     Trabzon       Other   FC   2  3.0  3.0  5.0   4  ...   \n",
       "133  133  10/12/2006       İzmir  Big Cities   FC   4  5.0  4.0  4.0   2  ...   \n",
       "134  134  07/08/2006     Kayseri       Other   FC   3  4.0  4.0  4.0   2  ...   \n",
       "135  135  10/29/2010    İstanbul  Big Cities   FC   4  5.0  4.0  5.0   2  ...   \n",
       "136  136  09/01/2009    İstanbul  Big Cities   FC   4  5.0  3.0  5.0   2  ...   \n",
       "\n",
       "     P29  P30  P31  P32  P33  P34  P35  P36  P37    revenue  \n",
       "0    3.0    5    3    4    5    5    4    3    4  5653753.0  \n",
       "1    3.0    0    0    0    0    0    0    0    0  6923131.0  \n",
       "2    3.0    0    0    0    0    0    0    0    0  2055379.0  \n",
       "3    7.5   25   12   10    6   18   12   12    6  2675511.0  \n",
       "4    3.0    5    1    3    2    3    4    3    3  4316715.0  \n",
       "..   ...  ...  ...  ...  ...  ...  ...  ...  ...        ...  \n",
       "132  3.0    0    0    0    0    0    0    0    0  5787594.0  \n",
       "133  3.0    0    0    0    0    0    0    0    0  9262754.0  \n",
       "134  3.0    0    0    0    0    0    0    0    0  2544857.0  \n",
       "135  3.0    0    0    0    0    0    0    0    0  7217634.0  \n",
       "136  3.0    0    0    0    0    0    0    0    0  6363241.0  \n",
       "\n",
       "[137 rows x 43 columns]"
      ],
      "text/html": "<div>\n<style scoped>\n    .dataframe tbody tr th:only-of-type {\n        vertical-align: middle;\n    }\n\n    .dataframe tbody tr th {\n        vertical-align: top;\n    }\n\n    .dataframe thead th {\n        text-align: right;\n    }\n</style>\n<table border=\"1\" class=\"dataframe\">\n  <thead>\n    <tr style=\"text-align: right;\">\n      <th></th>\n      <th>Id</th>\n      <th>Open Date</th>\n      <th>City</th>\n      <th>City Group</th>\n      <th>Type</th>\n      <th>P1</th>\n      <th>P2</th>\n      <th>P3</th>\n      <th>P4</th>\n      <th>P5</th>\n      <th>...</th>\n      <th>P29</th>\n      <th>P30</th>\n      <th>P31</th>\n      <th>P32</th>\n      <th>P33</th>\n      <th>P34</th>\n      <th>P35</th>\n      <th>P36</th>\n      <th>P37</th>\n      <th>revenue</th>\n    </tr>\n  </thead>\n  <tbody>\n    <tr>\n      <th>0</th>\n      <td>0</td>\n      <td>07/17/1999</td>\n      <td>İstanbul</td>\n      <td>Big Cities</td>\n      <td>IL</td>\n      <td>4</td>\n      <td>5.0</td>\n      <td>4.0</td>\n      <td>4.0</td>\n      <td>2</td>\n      <td>...</td>\n      <td>3.0</td>\n      <td>5</td>\n      <td>3</td>\n      <td>4</td>\n      <td>5</td>\n      <td>5</td>\n      <td>4</td>\n      <td>3</td>\n      <td>4</td>\n      <td>5653753.0</td>\n    </tr>\n    <tr>\n      <th>1</th>\n      <td>1</td>\n      <td>02/14/2008</td>\n      <td>Ankara</td>\n      <td>Big Cities</td>\n      <td>FC</td>\n      <td>4</td>\n      <td>5.0</td>\n      <td>4.0</td>\n      <td>4.0</td>\n      <td>1</td>\n      <td>...</td>\n      <td>3.0</td>\n      <td>0</td>\n      <td>0</td>\n      <td>0</td>\n      <td>0</td>\n      <td>0</td>\n      <td>0</td>\n      <td>0</td>\n      <td>0</td>\n      <td>6923131.0</td>\n    </tr>\n    <tr>\n      <th>2</th>\n      <td>2</td>\n      <td>03/09/2013</td>\n      <td>Diyarbakır</td>\n      <td>Other</td>\n      <td>IL</td>\n      <td>2</td>\n      <td>4.0</td>\n      <td>2.0</td>\n      <td>5.0</td>\n      <td>2</td>\n      <td>...</td>\n      <td>3.0</td>\n      <td>0</td>\n      <td>0</td>\n      <td>0</td>\n      <td>0</td>\n      <td>0</td>\n      <td>0</td>\n      <td>0</td>\n      <td>0</td>\n      <td>2055379.0</td>\n    </tr>\n    <tr>\n      <th>3</th>\n      <td>3</td>\n      <td>02/02/2012</td>\n      <td>Tokat</td>\n      <td>Other</td>\n      <td>IL</td>\n      <td>6</td>\n      <td>4.5</td>\n      <td>6.0</td>\n      <td>6.0</td>\n      <td>4</td>\n      <td>...</td>\n      <td>7.5</td>\n      <td>25</td>\n      <td>12</td>\n      <td>10</td>\n      <td>6</td>\n      <td>18</td>\n      <td>12</td>\n      <td>12</td>\n      <td>6</td>\n      <td>2675511.0</td>\n    </tr>\n    <tr>\n      <th>4</th>\n      <td>4</td>\n      <td>05/09/2009</td>\n      <td>Gaziantep</td>\n      <td>Other</td>\n      <td>IL</td>\n      <td>3</td>\n      <td>4.0</td>\n      <td>3.0</td>\n      <td>4.0</td>\n      <td>2</td>\n      <td>...</td>\n      <td>3.0</td>\n      <td>5</td>\n      <td>1</td>\n      <td>3</td>\n      <td>2</td>\n      <td>3</td>\n      <td>4</td>\n      <td>3</td>\n      <td>3</td>\n      <td>4316715.0</td>\n    </tr>\n    <tr>\n      <th>...</th>\n      <td>...</td>\n      <td>...</td>\n      <td>...</td>\n      <td>...</td>\n      <td>...</td>\n      <td>...</td>\n      <td>...</td>\n      <td>...</td>\n      <td>...</td>\n      <td>...</td>\n      <td>...</td>\n      <td>...</td>\n      <td>...</td>\n      <td>...</td>\n      <td>...</td>\n      <td>...</td>\n      <td>...</td>\n      <td>...</td>\n      <td>...</td>\n      <td>...</td>\n      <td>...</td>\n    </tr>\n    <tr>\n      <th>132</th>\n      <td>132</td>\n      <td>06/25/2008</td>\n      <td>Trabzon</td>\n      <td>Other</td>\n      <td>FC</td>\n      <td>2</td>\n      <td>3.0</td>\n      <td>3.0</td>\n      <td>5.0</td>\n      <td>4</td>\n      <td>...</td>\n      <td>3.0</td>\n      <td>0</td>\n      <td>0</td>\n      <td>0</td>\n      <td>0</td>\n      <td>0</td>\n      <td>0</td>\n      <td>0</td>\n      <td>0</td>\n      <td>5787594.0</td>\n    </tr>\n    <tr>\n      <th>133</th>\n      <td>133</td>\n      <td>10/12/2006</td>\n      <td>İzmir</td>\n      <td>Big Cities</td>\n      <td>FC</td>\n      <td>4</td>\n      <td>5.0</td>\n      <td>4.0</td>\n      <td>4.0</td>\n      <td>2</td>\n      <td>...</td>\n      <td>3.0</td>\n      <td>0</td>\n      <td>0</td>\n      <td>0</td>\n      <td>0</td>\n      <td>0</td>\n      <td>0</td>\n      <td>0</td>\n      <td>0</td>\n      <td>9262754.0</td>\n    </tr>\n    <tr>\n      <th>134</th>\n      <td>134</td>\n      <td>07/08/2006</td>\n      <td>Kayseri</td>\n      <td>Other</td>\n      <td>FC</td>\n      <td>3</td>\n      <td>4.0</td>\n      <td>4.0</td>\n      <td>4.0</td>\n      <td>2</td>\n      <td>...</td>\n      <td>3.0</td>\n      <td>0</td>\n      <td>0</td>\n      <td>0</td>\n      <td>0</td>\n      <td>0</td>\n      <td>0</td>\n      <td>0</td>\n      <td>0</td>\n      <td>2544857.0</td>\n    </tr>\n    <tr>\n      <th>135</th>\n      <td>135</td>\n      <td>10/29/2010</td>\n      <td>İstanbul</td>\n      <td>Big Cities</td>\n      <td>FC</td>\n      <td>4</td>\n      <td>5.0</td>\n      <td>4.0</td>\n      <td>5.0</td>\n      <td>2</td>\n      <td>...</td>\n      <td>3.0</td>\n      <td>0</td>\n      <td>0</td>\n      <td>0</td>\n      <td>0</td>\n      <td>0</td>\n      <td>0</td>\n      <td>0</td>\n      <td>0</td>\n      <td>7217634.0</td>\n    </tr>\n    <tr>\n      <th>136</th>\n      <td>136</td>\n      <td>09/01/2009</td>\n      <td>İstanbul</td>\n      <td>Big Cities</td>\n      <td>FC</td>\n      <td>4</td>\n      <td>5.0</td>\n      <td>3.0</td>\n      <td>5.0</td>\n      <td>2</td>\n      <td>...</td>\n      <td>3.0</td>\n      <td>0</td>\n      <td>0</td>\n      <td>0</td>\n      <td>0</td>\n      <td>0</td>\n      <td>0</td>\n      <td>0</td>\n      <td>0</td>\n      <td>6363241.0</td>\n    </tr>\n  </tbody>\n</table>\n<p>137 rows × 43 columns</p>\n</div>"
     },
     "metadata": {},
     "execution_count": 8
    }
   ],
   "source": [
    "train_import = pd.read_csv(pwd + \"/train.csv\")\n",
    "train_import"
   ]
  },
  {
   "cell_type": "code",
   "execution_count": 25,
   "metadata": {},
   "outputs": [
    {
     "output_type": "execute_result",
     "data": {
      "text/plain": [
       "array([[4., 5., 4., ..., 4., 3., 4.],\n",
       "       [4., 5., 4., ..., 0., 0., 0.],\n",
       "       [2., 4., 2., ..., 0., 0., 0.],\n",
       "       ...,\n",
       "       [3., 4., 4., ..., 0., 0., 0.],\n",
       "       [4., 5., 4., ..., 0., 0., 0.],\n",
       "       [4., 5., 3., ..., 0., 0., 0.]])"
      ]
     },
     "metadata": {},
     "execution_count": 25
    }
   ],
   "source": [
    "x_train = np.array(train_import.iloc[:, 5:-1])\n",
    "x_train"
   ]
  },
  {
   "cell_type": "code",
   "execution_count": 26,
   "metadata": {},
   "outputs": [
    {
     "output_type": "execute_result",
     "data": {
      "text/plain": [
       "array([ 5653753.,  6923131.,  2055379.,  2675511.,  4316715.,  5017319.,\n",
       "        5166635.,  4491607.,  4952497.,  5444227.,  3745135.,  5161370.,\n",
       "        1734634.,  4807746.,  1999097.,  3218918., 19696939.,  8213524.,\n",
       "        5337526.,  2021934.,  5525735.,  1149870.,  3956086.,  2999068.,\n",
       "        8904084.,  3778621.,  2267425.,  5435276.,  4705945.,  3447890.,\n",
       "        3008199.,  2058644.,  3261924.,  2371202.,  4100886.,  3903884.,\n",
       "        3028267.,  2740687.,  5461700.,  3818055.,  6836483.,  4554237.,\n",
       "        4952255.,  2732645.,  4264176.,  3752885.,  4250758.,  7865428.,\n",
       "        7201784.,  8630682.,  2156098.,  3273041.,  1763231.,  5595267.,\n",
       "        4651866.,  6941173.,  2390534.,  3258837.,  3004429.,  3600467.,\n",
       "        3164972.,  4350573.,  5286212.,  1619683.,  2551252.,  1756069.,\n",
       "        1882131.,  4052733.,  3836721.,  3452382.,  3982767.,  4136425.,\n",
       "        2525375.,  3347767.,  5500818., 16549064.,  4590423.,  1904842.,\n",
       "        3871344.,  6313221.,  3727364.,  4066618.,  3807496.,  5966193.,\n",
       "        4250553.,  7495092.,  3351383.,  5906596.,  2025297.,  2364478.,\n",
       "        3426169.,  2083447.,  6782425.,  3410878.,  3753720.,  1270499.,\n",
       "        6412623.,  6694797.,  2344689., 13575224.,  9652350.,  4758476.,\n",
       "        2738052.,  4429512.,  4467728.,  2792031.,  4888774.,  3248660.,\n",
       "        3570392.,  4219263.,  2954086.,  2993069.,  3784230.,  2097022.,\n",
       "        4155435.,  4882985.,  8894598.,  2018785.,  1847826.,  3780019.,\n",
       "        4067566.,  3445076.,  4286645.,  4263629.,  3810007.,  4780607.,\n",
       "        4015749.,  7592272.,  2383840.,  3939804.,  3376145.,  3199619.,\n",
       "        5787594.,  9262754.,  2544857.,  7217634.,  6363241.])"
      ]
     },
     "metadata": {},
     "execution_count": 26
    }
   ],
   "source": [
    "y_train = np.array(train_import[\"revenue\"])\n",
    "y_train"
   ]
  },
  {
   "cell_type": "code",
   "execution_count": 27,
   "metadata": {},
   "outputs": [],
   "source": [
    "from sklearn.model_selection import train_test_split\n",
    "\n",
    "x_train, x_test, y_train, y_test = train_test_split(x_train,y_train,test_size=0.2,random_state=42)"
   ]
  },
  {
   "cell_type": "code",
   "execution_count": 35,
   "metadata": {},
   "outputs": [],
   "source": [
    "from sklearn.preprocessing import StandardScaler\n",
    "\n",
    "sc_x = StandardScaler()\n",
    "\n",
    "x_train = sc_x.fit_transform(x_train)\n",
    "x_test = sc_x.transform(x_test)"
   ]
  },
  {
   "cell_type": "code",
   "execution_count": 34,
   "metadata": {},
   "outputs": [],
   "source": [
    "# There's no revenue data here so I can't really use it with my models, just for entry into the contest\n",
    "\n",
    "# test_import = pd.read_csv(pwd + \"/test.csv\")\n",
    "# test_import"
   ]
  },
  {
   "cell_type": "code",
   "execution_count": 10,
   "metadata": {},
   "outputs": [],
   "source": [
    "test_data = test_import.copy()\n",
    "train_data = train_import.copy()"
   ]
  },
  {
   "cell_type": "code",
   "execution_count": 18,
   "metadata": {},
   "outputs": [
    {
     "output_type": "execute_result",
     "data": {
      "text/plain": [
       "array([[ 1. ,  4. ,  4. , ...,  0. ,  0. ,  0. ],\n",
       "       [ 3. ,  4. ,  4. , ...,  0. ,  0. ,  0. ],\n",
       "       [ 3. ,  4. ,  4. , ...,  0. ,  0. ,  0. ],\n",
       "       ...,\n",
       "       [ 4. ,  5. ,  4. , ...,  4. ,  4. ,  2. ],\n",
       "       [12. ,  7.5,  6. , ...,  0. ,  0. ,  0. ],\n",
       "       [ 2. ,  5. ,  4. , ...,  4. ,  2. ,  0. ]])"
      ]
     },
     "metadata": {},
     "execution_count": 18
    }
   ],
   "source": [
    "x_test = np.array(test_data.iloc[:, 5:])\n",
    "x_test"
   ]
  },
  {
   "cell_type": "code",
   "execution_count": 19,
   "metadata": {},
   "outputs": [
    {
     "output_type": "execute_result",
     "data": {
      "text/plain": [
       "array([[4., 5., 4., ..., 4., 3., 4.],\n",
       "       [4., 5., 4., ..., 0., 0., 0.],\n",
       "       [2., 4., 2., ..., 0., 0., 0.],\n",
       "       ...,\n",
       "       [3., 4., 4., ..., 0., 0., 0.],\n",
       "       [4., 5., 4., ..., 0., 0., 0.],\n",
       "       [4., 5., 3., ..., 0., 0., 0.]])"
      ]
     },
     "metadata": {},
     "execution_count": 19
    }
   ],
   "source": [
    "x_train = np.array(train_data.iloc[:, 5:-1])\n",
    "x_train"
   ]
  },
  {
   "cell_type": "code",
   "execution_count": 13,
   "metadata": {},
   "outputs": [
    {
     "output_type": "execute_result",
     "data": {
      "text/plain": [
       "array([ 5653753.,  6923131.,  2055379.,  2675511.,  4316715.,  5017319.,\n",
       "        5166635.,  4491607.,  4952497.,  5444227.,  3745135.,  5161370.,\n",
       "        1734634.,  4807746.,  1999097.,  3218918., 19696939.,  8213524.,\n",
       "        5337526.,  2021934.,  5525735.,  1149870.,  3956086.,  2999068.,\n",
       "        8904084.,  3778621.,  2267425.,  5435276.,  4705945.,  3447890.,\n",
       "        3008199.,  2058644.,  3261924.,  2371202.,  4100886.,  3903884.,\n",
       "        3028267.,  2740687.,  5461700.,  3818055.,  6836483.,  4554237.,\n",
       "        4952255.,  2732645.,  4264176.,  3752885.,  4250758.,  7865428.,\n",
       "        7201784.,  8630682.,  2156098.,  3273041.,  1763231.,  5595267.,\n",
       "        4651866.,  6941173.,  2390534.,  3258837.,  3004429.,  3600467.,\n",
       "        3164972.,  4350573.,  5286212.,  1619683.,  2551252.,  1756069.,\n",
       "        1882131.,  4052733.,  3836721.,  3452382.,  3982767.,  4136425.,\n",
       "        2525375.,  3347767.,  5500818., 16549064.,  4590423.,  1904842.,\n",
       "        3871344.,  6313221.,  3727364.,  4066618.,  3807496.,  5966193.,\n",
       "        4250553.,  7495092.,  3351383.,  5906596.,  2025297.,  2364478.,\n",
       "        3426169.,  2083447.,  6782425.,  3410878.,  3753720.,  1270499.,\n",
       "        6412623.,  6694797.,  2344689., 13575224.,  9652350.,  4758476.,\n",
       "        2738052.,  4429512.,  4467728.,  2792031.,  4888774.,  3248660.,\n",
       "        3570392.,  4219263.,  2954086.,  2993069.,  3784230.,  2097022.,\n",
       "        4155435.,  4882985.,  8894598.,  2018785.,  1847826.,  3780019.,\n",
       "        4067566.,  3445076.,  4286645.,  4263629.,  3810007.,  4780607.,\n",
       "        4015749.,  7592272.,  2383840.,  3939804.,  3376145.,  3199619.,\n",
       "        5787594.,  9262754.,  2544857.,  7217634.,  6363241.])"
      ]
     },
     "metadata": {},
     "execution_count": 13
    }
   ],
   "source": [
    "y_train = np.array(train_data[\"revenue\"])\n",
    "y_train"
   ]
  },
  {
   "source": [
    "Receiving a \"direct kernel connection broken\" error here"
   ],
   "cell_type": "markdown",
   "metadata": {}
  },
  {
   "cell_type": "code",
   "execution_count": 7,
   "metadata": {},
   "outputs": [
    {
     "output_type": "stream",
     "name": "stdout",
     "text": [
      "Train on 137 samples\nEpoch 1/100\n"
     ]
    }
   ],
   "source": [
    "model = keras.models.Sequential([\n",
    "    keras.layers.Flatten(),\n",
    "    keras.layers.Dense(units=128, activation='relu'),\n",
    "    keras.layers.Dense(units=64)\n",
    "])\n",
    "\n",
    "model.compile(optimizer='adam', loss='mse', metrics=['mae'])\n",
    "\n",
    "history = model.fit(x_train, y_train, epochs=100)"
   ]
  },
  {
   "cell_type": "code",
   "execution_count": 7,
   "metadata": {},
   "outputs": [
    {
     "output_type": "stream",
     "name": "stdout",
     "text": [
      "Train on 10 samples\nEpoch 1/100\n"
     ]
    }
   ],
   "source": [
    "rooms = np.array(range(1, 11))\n",
    "price = np.array(range(100, 600, 50))\n",
    "\n",
    "model = keras.models.Sequential([\n",
    "    keras.layers.Flatten(),\n",
    "    keras.layers.Dense(units=128, activation='relu'),\n",
    "    keras.layers.Dense(units=64) \n",
    "])\n",
    "\n",
    "model.compile(optimizer='adam', loss='mse', metrics=['mae'])\n",
    "\n",
    "history = model.fit(rooms, price, epochs=100)\n",
    "\n",
    "print(model.predict([7.0]))"
   ]
  },
  {
   "source": [
    "# Multiple Linear Regression"
   ],
   "cell_type": "markdown",
   "metadata": {}
  },
  {
   "cell_type": "code",
   "execution_count": 36,
   "metadata": {},
   "outputs": [],
   "source": [
    "# # Scaling values\n",
    "# from sklearn.compose import ColumnTransformer\n",
    "# from sklearn.preprocessing import OneHotEncoder\n",
    "\n",
    "# ct = ColumnTransformer(transformers=[('encoder', OneHotEncoder(), (0, 1, 2))], remainder='passthrough')\n",
    "# X = np.array(ct.fit_transform(x_train))\n",
    "# X"
   ]
  },
  {
   "cell_type": "code",
   "execution_count": 49,
   "metadata": {},
   "outputs": [
    {
     "output_type": "execute_result",
     "data": {
      "text/plain": [
       "LinearRegression()"
      ]
     },
     "metadata": {},
     "execution_count": 49
    }
   ],
   "source": [
    "from sklearn.linear_model import LinearRegression\n",
    "from sklearn.metrics import mean_squared_error\n",
    "\n",
    "regressor = LinearRegression()\n",
    "regressor.fit(x_train, y_train)"
   ]
  },
  {
   "cell_type": "code",
   "execution_count": 38,
   "metadata": {},
   "outputs": [
    {
     "output_type": "execute_result",
     "data": {
      "text/plain": [
       "array([ 2480433.55, -2676811.92,  1974982.26,  5085938.51,  4797791.87,\n",
       "        4034271.49,  7476796.34,  1834625.38,  4885354.53,  4631910.08,\n",
       "        1218920.96,  -320206.43,  3706689.01,  7069159.62,  1502641.59,\n",
       "        3083970.4 ,  4548768.2 ,  4147395.18,  3552766.81,  4073549.57,\n",
       "       -6033368.5 ,  2465801.73,  4824766.74,  3218442.01,  3994736.93,\n",
       "        5066134.53,  4388800.31,  3697780.8 ])"
      ]
     },
     "metadata": {},
     "execution_count": 38
    }
   ],
   "source": [
    "y_pred = regressor.predict(x_test)\n",
    "y_pred"
   ]
  },
  {
   "cell_type": "code",
   "execution_count": 39,
   "metadata": {},
   "outputs": [
    {
     "output_type": "stream",
     "name": "stdout",
     "text": [
      "[[ 2480433.55  2792031.  ]\n [-2676811.92  4467728.  ]\n [ 1974982.26  1734634.  ]\n [ 5085938.51  2267425.  ]\n [ 4797791.87  4263629.  ]\n [ 4034271.49  1882131.  ]\n [ 7476796.34  2551252.  ]\n [ 1834625.38  4882985.  ]\n [ 4885354.53  9262754.  ]\n [ 4631910.08  7495092.  ]\n [ 1218920.96  4250553.  ]\n [ -320206.43  3752885.  ]\n [ 3706689.01  3452382.  ]\n [ 7069159.62  4052733.  ]\n [ 1502641.59  2058644.  ]\n [ 3083970.4   4952255.  ]\n [ 4548768.2   5435276.  ]\n [ 4147395.18  2021934.  ]\n [ 3552766.81  5787594.  ]\n [ 4073549.57  2390534.  ]\n [-6033368.5   4780607.  ]\n [ 2465801.73  4316715.  ]\n [ 4824766.74  4219263.  ]\n [ 3218442.01  3028267.  ]\n [ 3994736.93  2364478.  ]\n [ 5066134.53  9652350.  ]\n [ 4388800.31 19696939.  ]\n [ 3697780.8   5337526.  ]]\n"
     ]
    }
   ],
   "source": [
    "print(np.concatenate((y_pred.reshape(len(y_pred), 1), y_test.reshape(len(y_test), 1)), axis=1))"
   ]
  },
  {
   "source": [
    "# Support Vector Machines"
   ],
   "cell_type": "markdown",
   "metadata": {}
  },
  {
   "cell_type": "code",
   "execution_count": 62,
   "metadata": {},
   "outputs": [
    {
     "output_type": "execute_result",
     "data": {
      "text/plain": [
       "SVR()"
      ]
     },
     "metadata": {},
     "execution_count": 62
    }
   ],
   "source": [
    "from sklearn.svm import SVR\n",
    "regressor = SVR(kernel='rbf')\n",
    "regressor.fit(x_train, y_train)"
   ]
  },
  {
   "cell_type": "code",
   "execution_count": 63,
   "metadata": {},
   "outputs": [
    {
     "output_type": "stream",
     "name": "stdout",
     "text": [
      "[[ 3871336.15  2792031.  ]\n [ 3871345.3   4467728.  ]\n [ 3871335.6   1734634.  ]\n [ 3871345.26  2267425.  ]\n [ 3871335.77  4263629.  ]\n [ 3871335.99  1882131.  ]\n [ 3871344.37  2551252.  ]\n [ 3871344.17  4882985.  ]\n [ 3871337.63  9262754.  ]\n [ 3871337.51  7495092.  ]\n [ 3871345.41  4250553.  ]\n [ 3871345.54  3752885.  ]\n [ 3871335.97  3452382.  ]\n [ 3871341.41  4052733.  ]\n [ 3871345.48  2058644.  ]\n [ 3871345.87  4952255.  ]\n [ 3871341.91  5435276.  ]\n [ 3871336.    2021934.  ]\n [ 3871335.96  5787594.  ]\n [ 3871338.32  2390534.  ]\n [ 3871343.84  4780607.  ]\n [ 3871343.86  4316715.  ]\n [ 3871337.29  4219263.  ]\n [ 3871340.64  3028267.  ]\n [ 3871342.09  2364478.  ]\n [ 3871338.71  9652350.  ]\n [ 3871337.55 19696939.  ]\n [ 3871347.38  5337526.  ]]\n"
     ]
    }
   ],
   "source": [
    "y_pred = regressor.predict(x_test)\n",
    "print(np.concatenate((y_pred.reshape(len(y_pred), 1), y_test.reshape(len(y_test), 1)), axis=1))"
   ]
  },
  {
   "cell_type": "code",
   "execution_count": 64,
   "metadata": {},
   "outputs": [
    {
     "output_type": "execute_result",
     "data": {
      "text/plain": [
       "3607695.1901047085"
      ]
     },
     "metadata": {},
     "execution_count": 64
    }
   ],
   "source": [
    "rmse = np.sqrt(mean_squared_error(y_test, y_pred))\n",
    "rmse"
   ]
  },
  {
   "cell_type": "code",
   "execution_count": 42,
   "metadata": {},
   "outputs": [
    {
     "output_type": "execute_result",
     "data": {
      "text/plain": [
       "array([[-1.73, -4.16, -3.45, ..., -0.79, -0.7 , -1.01],\n",
       "       [-1.38, -2.76, -4.34, ..., -0.4 , -0.5 , -0.35],\n",
       "       [-1.62, -4.16, -4.34, ..., -0.79, -0.7 , -1.01],\n",
       "       ...,\n",
       "       [-1.5 , -2.76, -4.34, ..., -0.79, -0.7 , -1.01],\n",
       "       [-1.5 , -2.76, -4.34, ..., -0.79, -0.7 , -1.01],\n",
       "       [-1.38, -2.76, -4.34, ..., -0.4 , -0.5 , -0.35]])"
      ]
     },
     "metadata": {},
     "execution_count": 42
    }
   ],
   "source": [
    "y_pred"
   ]
  },
  {
   "source": [
    "# XGBoost"
   ],
   "cell_type": "markdown",
   "metadata": {}
  },
  {
   "cell_type": "code",
   "execution_count": 91,
   "metadata": {},
   "outputs": [],
   "source": [
    "import xgboost as xgb"
   ]
  },
  {
   "cell_type": "code",
   "execution_count": 92,
   "metadata": {},
   "outputs": [],
   "source": [
    "# Convert the dataset into an optimized data structure called Dmatrix that XGBoost supports and gives it acclaimed performance and efficiency gains.\n",
    "\n",
    "data_dmatrix = xgb.DMatrix(data=x_train, label=y_train)"
   ]
  },
  {
   "cell_type": "code",
   "execution_count": 93,
   "metadata": {},
   "outputs": [
    {
     "output_type": "stream",
     "name": "stdout",
     "text": [
      "[22:24:48] WARNING: /Users/runner/miniforge3/conda-bld/xgboost_1607604592557/work/src/objective/regression_obj.cu:170: reg:linear is now deprecated in favor of reg:squarederror.\n"
     ]
    },
    {
     "output_type": "execute_result",
     "data": {
      "text/plain": [
       "XGBRegressor(alpha=10, base_score=0.5, booster='gbtree', colsample_bylevel=1,\n",
       "             colsample_bynode=1, colsample_bytree=0.3, gamma=0, gpu_id=-1,\n",
       "             importance_type='gain', interaction_constraints='',\n",
       "             learning_rate=0.1, max_delta_step=0, max_depth=5,\n",
       "             min_child_weight=1, missing=nan, monotone_constraints='()',\n",
       "             n_estimators=37, n_jobs=12, num_parallel_tree=1,\n",
       "             objective='reg:linear', random_state=0, reg_alpha=10, reg_lambda=1,\n",
       "             scale_pos_weight=1, subsample=1, tree_method='exact',\n",
       "             validate_parameters=1, verbosity=None)"
      ]
     },
     "metadata": {},
     "execution_count": 93
    }
   ],
   "source": [
    "xg_reg = xgb.XGBRegressor(objective='reg:linear', colsample_bytree=0.3, learning_rate=0.1, max_depth = 5, alpha=10, n_estimators=37)\n",
    "xg_reg.fit(x_train, y_train)"
   ]
  },
  {
   "cell_type": "code",
   "execution_count": 94,
   "metadata": {},
   "outputs": [
    {
     "output_type": "execute_result",
     "data": {
      "text/plain": [
       "3397373.678355542"
      ]
     },
     "metadata": {},
     "execution_count": 94
    }
   ],
   "source": [
    "y_pred = xg_reg.predict(x_test)\n",
    "rmse = np.sqrt(mean_squared_error(y_test, y_pred))\n",
    "rmse"
   ]
  },
  {
   "cell_type": "code",
   "execution_count": 95,
   "metadata": {},
   "outputs": [
    {
     "output_type": "execute_result",
     "data": {
      "text/plain": [
       "     Predicted      Actual   Difference\n",
       "0   2396398.75   2792031.0   -395632.25\n",
       "1   4310062.50   4467728.0  -2071329.25\n",
       "2   3028950.75   1734634.0    661764.75\n",
       "3   4402993.00   2267425.0    128973.75\n",
       "4   3269804.50   4263629.0  -1867230.25\n",
       "5   2949179.50   1882131.0    514267.75\n",
       "6   3877983.50   2551252.0   -154853.25\n",
       "7   3740843.50   4882985.0  -2486586.25\n",
       "8   5836961.50   9262754.0  -6866355.25\n",
       "9   4540477.00   7495092.0  -5098693.25\n",
       "10  4236761.00   4250553.0  -1854154.25\n",
       "11  4955568.00   3752885.0  -1356486.25\n",
       "12  3228476.00   3452382.0  -1055983.25\n",
       "13  7374976.00   4052733.0  -1656334.25\n",
       "14  4596433.50   2058644.0    337754.75\n",
       "15  5069091.50   4952255.0  -2555856.25\n",
       "16  5225313.00   5435276.0  -3038877.25\n",
       "17  3150295.50   2021934.0    374464.75\n",
       "18  3470713.25   5787594.0  -3391195.25\n",
       "19  4864527.50   2390534.0      5864.75\n",
       "20  3644225.00   4780607.0  -2384208.25\n",
       "21  4154103.50   4316715.0  -1920316.25\n",
       "22  3921966.25   4219263.0  -1822864.25\n",
       "23  4493270.50   3028267.0   -631868.25\n",
       "24  3521163.25   2364478.0     31920.75\n",
       "25  4546734.50   9652350.0  -7255951.25\n",
       "26  4617690.50  19696939.0 -17300540.25\n",
       "27  4352279.00   5337526.0  -2941127.25"
      ],
      "text/html": "<div>\n<style scoped>\n    .dataframe tbody tr th:only-of-type {\n        vertical-align: middle;\n    }\n\n    .dataframe tbody tr th {\n        vertical-align: top;\n    }\n\n    .dataframe thead th {\n        text-align: right;\n    }\n</style>\n<table border=\"1\" class=\"dataframe\">\n  <thead>\n    <tr style=\"text-align: right;\">\n      <th></th>\n      <th>Predicted</th>\n      <th>Actual</th>\n      <th>Difference</th>\n    </tr>\n  </thead>\n  <tbody>\n    <tr>\n      <th>0</th>\n      <td>2396398.75</td>\n      <td>2792031.0</td>\n      <td>-395632.25</td>\n    </tr>\n    <tr>\n      <th>1</th>\n      <td>4310062.50</td>\n      <td>4467728.0</td>\n      <td>-2071329.25</td>\n    </tr>\n    <tr>\n      <th>2</th>\n      <td>3028950.75</td>\n      <td>1734634.0</td>\n      <td>661764.75</td>\n    </tr>\n    <tr>\n      <th>3</th>\n      <td>4402993.00</td>\n      <td>2267425.0</td>\n      <td>128973.75</td>\n    </tr>\n    <tr>\n      <th>4</th>\n      <td>3269804.50</td>\n      <td>4263629.0</td>\n      <td>-1867230.25</td>\n    </tr>\n    <tr>\n      <th>5</th>\n      <td>2949179.50</td>\n      <td>1882131.0</td>\n      <td>514267.75</td>\n    </tr>\n    <tr>\n      <th>6</th>\n      <td>3877983.50</td>\n      <td>2551252.0</td>\n      <td>-154853.25</td>\n    </tr>\n    <tr>\n      <th>7</th>\n      <td>3740843.50</td>\n      <td>4882985.0</td>\n      <td>-2486586.25</td>\n    </tr>\n    <tr>\n      <th>8</th>\n      <td>5836961.50</td>\n      <td>9262754.0</td>\n      <td>-6866355.25</td>\n    </tr>\n    <tr>\n      <th>9</th>\n      <td>4540477.00</td>\n      <td>7495092.0</td>\n      <td>-5098693.25</td>\n    </tr>\n    <tr>\n      <th>10</th>\n      <td>4236761.00</td>\n      <td>4250553.0</td>\n      <td>-1854154.25</td>\n    </tr>\n    <tr>\n      <th>11</th>\n      <td>4955568.00</td>\n      <td>3752885.0</td>\n      <td>-1356486.25</td>\n    </tr>\n    <tr>\n      <th>12</th>\n      <td>3228476.00</td>\n      <td>3452382.0</td>\n      <td>-1055983.25</td>\n    </tr>\n    <tr>\n      <th>13</th>\n      <td>7374976.00</td>\n      <td>4052733.0</td>\n      <td>-1656334.25</td>\n    </tr>\n    <tr>\n      <th>14</th>\n      <td>4596433.50</td>\n      <td>2058644.0</td>\n      <td>337754.75</td>\n    </tr>\n    <tr>\n      <th>15</th>\n      <td>5069091.50</td>\n      <td>4952255.0</td>\n      <td>-2555856.25</td>\n    </tr>\n    <tr>\n      <th>16</th>\n      <td>5225313.00</td>\n      <td>5435276.0</td>\n      <td>-3038877.25</td>\n    </tr>\n    <tr>\n      <th>17</th>\n      <td>3150295.50</td>\n      <td>2021934.0</td>\n      <td>374464.75</td>\n    </tr>\n    <tr>\n      <th>18</th>\n      <td>3470713.25</td>\n      <td>5787594.0</td>\n      <td>-3391195.25</td>\n    </tr>\n    <tr>\n      <th>19</th>\n      <td>4864527.50</td>\n      <td>2390534.0</td>\n      <td>5864.75</td>\n    </tr>\n    <tr>\n      <th>20</th>\n      <td>3644225.00</td>\n      <td>4780607.0</td>\n      <td>-2384208.25</td>\n    </tr>\n    <tr>\n      <th>21</th>\n      <td>4154103.50</td>\n      <td>4316715.0</td>\n      <td>-1920316.25</td>\n    </tr>\n    <tr>\n      <th>22</th>\n      <td>3921966.25</td>\n      <td>4219263.0</td>\n      <td>-1822864.25</td>\n    </tr>\n    <tr>\n      <th>23</th>\n      <td>4493270.50</td>\n      <td>3028267.0</td>\n      <td>-631868.25</td>\n    </tr>\n    <tr>\n      <th>24</th>\n      <td>3521163.25</td>\n      <td>2364478.0</td>\n      <td>31920.75</td>\n    </tr>\n    <tr>\n      <th>25</th>\n      <td>4546734.50</td>\n      <td>9652350.0</td>\n      <td>-7255951.25</td>\n    </tr>\n    <tr>\n      <th>26</th>\n      <td>4617690.50</td>\n      <td>19696939.0</td>\n      <td>-17300540.25</td>\n    </tr>\n    <tr>\n      <th>27</th>\n      <td>4352279.00</td>\n      <td>5337526.0</td>\n      <td>-2941127.25</td>\n    </tr>\n  </tbody>\n</table>\n</div>"
     },
     "metadata": {},
     "execution_count": 95
    }
   ],
   "source": [
    "differences = [i - j for i in y_pred for j in y_test]\n",
    "evaluation_values = list(zip(y_pred,y_test, differences))\n",
    "\n",
    "pd.DataFrame(data=evaluation_values, columns=[\"Predicted\", \"Actual\", \"Difference\"])"
   ]
  },
  {
   "source": [
    "# XGBoost: Determining the Best Predictor"
   ],
   "cell_type": "markdown",
   "metadata": {}
  },
  {
   "cell_type": "code",
   "execution_count": 96,
   "metadata": {},
   "outputs": [
    {
     "output_type": "execute_result",
     "data": {
      "text/plain": [
       "['P1',\n",
       " 'P2',\n",
       " 'P3',\n",
       " 'P4',\n",
       " 'P5',\n",
       " 'P6',\n",
       " 'P7',\n",
       " 'P8',\n",
       " 'P9',\n",
       " 'P10',\n",
       " 'P11',\n",
       " 'P12',\n",
       " 'P13',\n",
       " 'P14',\n",
       " 'P15',\n",
       " 'P16',\n",
       " 'P17',\n",
       " 'P18',\n",
       " 'P19',\n",
       " 'P20',\n",
       " 'P21',\n",
       " 'P22',\n",
       " 'P23',\n",
       " 'P24',\n",
       " 'P25',\n",
       " 'P26',\n",
       " 'P27',\n",
       " 'P28',\n",
       " 'P29',\n",
       " 'P30',\n",
       " 'P31',\n",
       " 'P32',\n",
       " 'P33',\n",
       " 'P34',\n",
       " 'P35',\n",
       " 'P36',\n",
       " 'P37']"
      ]
     },
     "metadata": {},
     "execution_count": 96
    }
   ],
   "source": [
    "data_columns = list(train_data.columns[5: -1])\n",
    "data_columns"
   ]
  },
  {
   "cell_type": "code",
   "execution_count": 110,
   "metadata": {},
   "outputs": [
    {
     "output_type": "stream",
     "name": "stdout",
     "text": [
      "[22:29:35] WARNING: /Users/runner/miniforge3/conda-bld/xgboost_1607604592557/work/src/objective/regression_obj.cu:170: reg:linear is now deprecated in favor of reg:squarederror.\n",
      "[22:29:35] WARNING: /Users/runner/miniforge3/conda-bld/xgboost_1607604592557/work/src/objective/regression_obj.cu:170: reg:linear is now deprecated in favor of reg:squarederror.\n",
      "[22:29:35] WARNING: /Users/runner/miniforge3/conda-bld/xgboost_1607604592557/work/src/objective/regression_obj.cu:170: reg:linear is now deprecated in favor of reg:squarederror.\n",
      "[22:29:35] WARNING: /Users/runner/miniforge3/conda-bld/xgboost_1607604592557/work/src/objective/regression_obj.cu:170: reg:linear is now deprecated in favor of reg:squarederror.\n",
      "[22:29:35] WARNING: /Users/runner/miniforge3/conda-bld/xgboost_1607604592557/work/src/objective/regression_obj.cu:170: reg:linear is now deprecated in favor of reg:squarederror.\n",
      "[22:29:35] WARNING: /Users/runner/miniforge3/conda-bld/xgboost_1607604592557/work/src/objective/regression_obj.cu:170: reg:linear is now deprecated in favor of reg:squarederror.\n",
      "[22:29:35] WARNING: /Users/runner/miniforge3/conda-bld/xgboost_1607604592557/work/src/objective/regression_obj.cu:170: reg:linear is now deprecated in favor of reg:squarederror.\n",
      "[22:29:35] WARNING: /Users/runner/miniforge3/conda-bld/xgboost_1607604592557/work/src/objective/regression_obj.cu:170: reg:linear is now deprecated in favor of reg:squarederror.\n",
      "[22:29:35] WARNING: /Users/runner/miniforge3/conda-bld/xgboost_1607604592557/work/src/objective/regression_obj.cu:170: reg:linear is now deprecated in favor of reg:squarederror.\n",
      "[22:29:35] WARNING: /Users/runner/miniforge3/conda-bld/xgboost_1607604592557/work/src/objective/regression_obj.cu:170: reg:linear is now deprecated in favor of reg:squarederror.\n",
      "[22:29:35] WARNING: /Users/runner/miniforge3/conda-bld/xgboost_1607604592557/work/src/objective/regression_obj.cu:170: reg:linear is now deprecated in favor of reg:squarederror.\n",
      "[22:29:35] WARNING: /Users/runner/miniforge3/conda-bld/xgboost_1607604592557/work/src/objective/regression_obj.cu:170: reg:linear is now deprecated in favor of reg:squarederror.\n",
      "[22:29:35] WARNING: /Users/runner/miniforge3/conda-bld/xgboost_1607604592557/work/src/objective/regression_obj.cu:170: reg:linear is now deprecated in favor of reg:squarederror.\n",
      "[22:29:35] WARNING: /Users/runner/miniforge3/conda-bld/xgboost_1607604592557/work/src/objective/regression_obj.cu:170: reg:linear is now deprecated in favor of reg:squarederror.\n",
      "[22:29:35] WARNING: /Users/runner/miniforge3/conda-bld/xgboost_1607604592557/work/src/objective/regression_obj.cu:170: reg:linear is now deprecated in favor of reg:squarederror.\n",
      "[22:29:35] WARNING: /Users/runner/miniforge3/conda-bld/xgboost_1607604592557/work/src/objective/regression_obj.cu:170: reg:linear is now deprecated in favor of reg:squarederror.\n",
      "[22:29:35] WARNING: /Users/runner/miniforge3/conda-bld/xgboost_1607604592557/work/src/objective/regression_obj.cu:170: reg:linear is now deprecated in favor of reg:squarederror.\n",
      "[22:29:35] WARNING: /Users/runner/miniforge3/conda-bld/xgboost_1607604592557/work/src/objective/regression_obj.cu:170: reg:linear is now deprecated in favor of reg:squarederror.\n",
      "[22:29:35] WARNING: /Users/runner/miniforge3/conda-bld/xgboost_1607604592557/work/src/objective/regression_obj.cu:170: reg:linear is now deprecated in favor of reg:squarederror.\n",
      "[22:29:35] WARNING: /Users/runner/miniforge3/conda-bld/xgboost_1607604592557/work/src/objective/regression_obj.cu:170: reg:linear is now deprecated in favor of reg:squarederror.\n",
      "[22:29:35] WARNING: /Users/runner/miniforge3/conda-bld/xgboost_1607604592557/work/src/objective/regression_obj.cu:170: reg:linear is now deprecated in favor of reg:squarederror.\n",
      "[22:29:35] WARNING: /Users/runner/miniforge3/conda-bld/xgboost_1607604592557/work/src/objective/regression_obj.cu:170: reg:linear is now deprecated in favor of reg:squarederror.\n",
      "[22:29:35] WARNING: /Users/runner/miniforge3/conda-bld/xgboost_1607604592557/work/src/objective/regression_obj.cu:170: reg:linear is now deprecated in favor of reg:squarederror.\n",
      "[22:29:35] WARNING: /Users/runner/miniforge3/conda-bld/xgboost_1607604592557/work/src/objective/regression_obj.cu:170: reg:linear is now deprecated in favor of reg:squarederror.\n",
      "[22:29:35] WARNING: /Users/runner/miniforge3/conda-bld/xgboost_1607604592557/work/src/objective/regression_obj.cu:170: reg:linear is now deprecated in favor of reg:squarederror.\n",
      "[22:29:35] WARNING: /Users/runner/miniforge3/conda-bld/xgboost_1607604592557/work/src/objective/regression_obj.cu:170: reg:linear is now deprecated in favor of reg:squarederror.\n",
      "[22:29:35] WARNING: /Users/runner/miniforge3/conda-bld/xgboost_1607604592557/work/src/objective/regression_obj.cu:170: reg:linear is now deprecated in favor of reg:squarederror.\n",
      "[22:29:35] WARNING: /Users/runner/miniforge3/conda-bld/xgboost_1607604592557/work/src/objective/regression_obj.cu:170: reg:linear is now deprecated in favor of reg:squarederror.\n",
      "[22:29:35] WARNING: /Users/runner/miniforge3/conda-bld/xgboost_1607604592557/work/src/objective/regression_obj.cu:170: reg:linear is now deprecated in favor of reg:squarederror.\n",
      "[22:29:35] WARNING: /Users/runner/miniforge3/conda-bld/xgboost_1607604592557/work/src/objective/regression_obj.cu:170: reg:linear is now deprecated in favor of reg:squarederror.\n",
      "[22:29:35] WARNING: /Users/runner/miniforge3/conda-bld/xgboost_1607604592557/work/src/objective/regression_obj.cu:170: reg:linear is now deprecated in favor of reg:squarederror.\n",
      "[22:29:35] WARNING: /Users/runner/miniforge3/conda-bld/xgboost_1607604592557/work/src/objective/regression_obj.cu:170: reg:linear is now deprecated in favor of reg:squarederror.\n",
      "[22:29:35] WARNING: /Users/runner/miniforge3/conda-bld/xgboost_1607604592557/work/src/objective/regression_obj.cu:170: reg:linear is now deprecated in favor of reg:squarederror.\n",
      "[22:29:35] WARNING: /Users/runner/miniforge3/conda-bld/xgboost_1607604592557/work/src/objective/regression_obj.cu:170: reg:linear is now deprecated in favor of reg:squarederror.\n",
      "[22:29:35] WARNING: /Users/runner/miniforge3/conda-bld/xgboost_1607604592557/work/src/objective/regression_obj.cu:170: reg:linear is now deprecated in favor of reg:squarederror.\n",
      "[22:29:35] WARNING: /Users/runner/miniforge3/conda-bld/xgboost_1607604592557/work/src/objective/regression_obj.cu:170: reg:linear is now deprecated in favor of reg:squarederror.\n",
      "[22:29:35] WARNING: /Users/runner/miniforge3/conda-bld/xgboost_1607604592557/work/src/objective/regression_obj.cu:170: reg:linear is now deprecated in favor of reg:squarederror.\n"
     ]
    },
    {
     "output_type": "execute_result",
     "data": {
      "text/plain": [
       "[('P1', 4055429.5598395076),\n",
       " ('P2', 3902955.1874582013),\n",
       " ('P3', 3988268.554669144),\n",
       " ('P4', 3997695.299494247),\n",
       " ('P5', 3987322.6667521233),\n",
       " ('P6', 3962508.169753699),\n",
       " ('P7', 3991173.1431297534),\n",
       " ('P8', 3979728.282420966),\n",
       " ('P9', 3993454.9892118177),\n",
       " ('P10', 3940302.98273921),\n",
       " ('P11', 3970171.0337823248),\n",
       " ('P12', 4091517.5480089905),\n",
       " ('P13', 3937221.211140536),\n",
       " ('P14', 4069553.893310859),\n",
       " ('P15', 4011910.8906503166),\n",
       " ('P16', 4035851.878988354),\n",
       " ('P17', 4050546.4354938306),\n",
       " ('P18', 4040869.923313019),\n",
       " ('P19', 4084850.218645744),\n",
       " ('P20', 3945643.9584370037),\n",
       " ('P21', 4008773.077968041),\n",
       " ('P22', 4003420.9105809764),\n",
       " ('P23', 4037171.7264988944),\n",
       " ('P24', 4020063.665000636),\n",
       " ('P25', 4030530.705422222),\n",
       " ('P26', 4028384.287320061),\n",
       " ('P27', 3990357.757425615),\n",
       " ('P28', 4009201.4519840353),\n",
       " ('P29', 4024007.422628658),\n",
       " ('P30', 4027848.396975335),\n",
       " ('P31', 4015067.7634051),\n",
       " ('P32', 4036956.789382087),\n",
       " ('P33', 3993118.3408750035),\n",
       " ('P34', 4024281.2036644714),\n",
       " ('P35', 4028342.378940913),\n",
       " ('P36', 4051288.696670842),\n",
       " ('P37', 4006557.8866699794)]"
      ]
     },
     "metadata": {},
     "execution_count": 110
    }
   ],
   "source": [
    "rmse_values = []\n",
    "\n",
    "xg_reg = xgb.XGBRegressor(objective='reg:linear', colsample_bytree=0.3, learning_rate=0.1, max_depth = 5, alpha=10, n_estimators=10)\n",
    "\n",
    "for i in data_columns:\n",
    "    x_train_shrunk = np.array([[x] for x in x_train[:, data_columns.index(i)]])\n",
    "    x_test_shrunk = np.array(np.array([[x] for x in x_test[:, data_columns.index(i)]]))\n",
    "    xg_reg.fit(x_train_shrunk, y_train)\n",
    "    y_pred = xg_reg.predict(x_test_shrunk)\n",
    "    rmse = np.sqrt(mean_squared_error(y_test, y_pred))\n",
    "\n",
    "    rmse_values.append(rmse)\n",
    "\n",
    "list(zip(data_columns, rmse_values))"
   ]
  },
  {
   "source": [
    "## None of the above seem like particularly good predictors so let's try and remove outliers based on revenue"
   ],
   "cell_type": "markdown",
   "metadata": {}
  },
  {
   "cell_type": "code",
   "execution_count": 112,
   "metadata": {},
   "outputs": [
    {
     "output_type": "execute_result",
     "data": {
      "text/plain": [
       "      Id   Open Date        City  City Group Type  P1   P2   P3   P4  P5  ...  \\\n",
       "16    16  01/07/2000    İstanbul  Big Cities   FC   3  5.0  4.0  4.0   2  ...   \n",
       "75    75  10/15/2005    İstanbul  Big Cities   FC   5  5.0  4.0  5.0   1  ...   \n",
       "99    99  12/18/1999    İstanbul  Big Cities   IL   4  5.0  4.0  4.0   2  ...   \n",
       "100  100  09/21/2007    İstanbul  Big Cities   FC   3  5.0  4.0  4.0   2  ...   \n",
       "133  133  10/12/2006       İzmir  Big Cities   FC   4  5.0  4.0  4.0   2  ...   \n",
       "..   ...         ...         ...         ...  ...  ..  ...  ...  ...  ..  ...   \n",
       "65    65  12/21/2013       İzmir  Big Cities   FC   3  5.0  4.0  3.0   1  ...   \n",
       "12    12  02/28/2013      Ankara  Big Cities   IL   2  2.0  4.0  4.0   2  ...   \n",
       "63    63  08/05/2013  Kırklareli       Other   FC   2  2.0  4.0  4.0   3  ...   \n",
       "95    95  06/08/2012      Samsun       Other   FC   2  4.0  4.0  4.0   2  ...   \n",
       "21    21  01/25/2014    İstanbul  Big Cities   FC   5  5.0  4.0  4.0   2  ...   \n",
       "\n",
       "     P29  P30  P31  P32  P33  P34  P35  P36  P37     revenue  \n",
       "16   2.0    0    0    0    0    0    0    0    0  19696939.0  \n",
       "75   0.0    0    0    0    0    0    0    0    0  16549064.0  \n",
       "99   1.0    5    5    4    2    5    5    5    3  13575224.0  \n",
       "100  3.0    0    0    0    0    0    0    0    0   9652350.0  \n",
       "133  3.0    0    0    0    0    0    0    0    0   9262754.0  \n",
       "..   ...  ...  ...  ...  ...  ...  ...  ...  ...         ...  \n",
       "65   3.0    0    0    0    0    0    0    0    0   1756069.0  \n",
       "12   3.0    0    0    0    0    0    0    0    0   1734634.0  \n",
       "63   3.0    0    0    0    0    0    0    0    0   1619683.0  \n",
       "95   3.0    0    0    0    0    0    0    0    0   1270499.0  \n",
       "21   1.0    0    0    0    0    0    0    0    0   1149870.0  \n",
       "\n",
       "[137 rows x 43 columns]"
      ],
      "text/html": "<div>\n<style scoped>\n    .dataframe tbody tr th:only-of-type {\n        vertical-align: middle;\n    }\n\n    .dataframe tbody tr th {\n        vertical-align: top;\n    }\n\n    .dataframe thead th {\n        text-align: right;\n    }\n</style>\n<table border=\"1\" class=\"dataframe\">\n  <thead>\n    <tr style=\"text-align: right;\">\n      <th></th>\n      <th>Id</th>\n      <th>Open Date</th>\n      <th>City</th>\n      <th>City Group</th>\n      <th>Type</th>\n      <th>P1</th>\n      <th>P2</th>\n      <th>P3</th>\n      <th>P4</th>\n      <th>P5</th>\n      <th>...</th>\n      <th>P29</th>\n      <th>P30</th>\n      <th>P31</th>\n      <th>P32</th>\n      <th>P33</th>\n      <th>P34</th>\n      <th>P35</th>\n      <th>P36</th>\n      <th>P37</th>\n      <th>revenue</th>\n    </tr>\n  </thead>\n  <tbody>\n    <tr>\n      <th>16</th>\n      <td>16</td>\n      <td>01/07/2000</td>\n      <td>İstanbul</td>\n      <td>Big Cities</td>\n      <td>FC</td>\n      <td>3</td>\n      <td>5.0</td>\n      <td>4.0</td>\n      <td>4.0</td>\n      <td>2</td>\n      <td>...</td>\n      <td>2.0</td>\n      <td>0</td>\n      <td>0</td>\n      <td>0</td>\n      <td>0</td>\n      <td>0</td>\n      <td>0</td>\n      <td>0</td>\n      <td>0</td>\n      <td>19696939.0</td>\n    </tr>\n    <tr>\n      <th>75</th>\n      <td>75</td>\n      <td>10/15/2005</td>\n      <td>İstanbul</td>\n      <td>Big Cities</td>\n      <td>FC</td>\n      <td>5</td>\n      <td>5.0</td>\n      <td>4.0</td>\n      <td>5.0</td>\n      <td>1</td>\n      <td>...</td>\n      <td>0.0</td>\n      <td>0</td>\n      <td>0</td>\n      <td>0</td>\n      <td>0</td>\n      <td>0</td>\n      <td>0</td>\n      <td>0</td>\n      <td>0</td>\n      <td>16549064.0</td>\n    </tr>\n    <tr>\n      <th>99</th>\n      <td>99</td>\n      <td>12/18/1999</td>\n      <td>İstanbul</td>\n      <td>Big Cities</td>\n      <td>IL</td>\n      <td>4</td>\n      <td>5.0</td>\n      <td>4.0</td>\n      <td>4.0</td>\n      <td>2</td>\n      <td>...</td>\n      <td>1.0</td>\n      <td>5</td>\n      <td>5</td>\n      <td>4</td>\n      <td>2</td>\n      <td>5</td>\n      <td>5</td>\n      <td>5</td>\n      <td>3</td>\n      <td>13575224.0</td>\n    </tr>\n    <tr>\n      <th>100</th>\n      <td>100</td>\n      <td>09/21/2007</td>\n      <td>İstanbul</td>\n      <td>Big Cities</td>\n      <td>FC</td>\n      <td>3</td>\n      <td>5.0</td>\n      <td>4.0</td>\n      <td>4.0</td>\n      <td>2</td>\n      <td>...</td>\n      <td>3.0</td>\n      <td>0</td>\n      <td>0</td>\n      <td>0</td>\n      <td>0</td>\n      <td>0</td>\n      <td>0</td>\n      <td>0</td>\n      <td>0</td>\n      <td>9652350.0</td>\n    </tr>\n    <tr>\n      <th>133</th>\n      <td>133</td>\n      <td>10/12/2006</td>\n      <td>İzmir</td>\n      <td>Big Cities</td>\n      <td>FC</td>\n      <td>4</td>\n      <td>5.0</td>\n      <td>4.0</td>\n      <td>4.0</td>\n      <td>2</td>\n      <td>...</td>\n      <td>3.0</td>\n      <td>0</td>\n      <td>0</td>\n      <td>0</td>\n      <td>0</td>\n      <td>0</td>\n      <td>0</td>\n      <td>0</td>\n      <td>0</td>\n      <td>9262754.0</td>\n    </tr>\n    <tr>\n      <th>...</th>\n      <td>...</td>\n      <td>...</td>\n      <td>...</td>\n      <td>...</td>\n      <td>...</td>\n      <td>...</td>\n      <td>...</td>\n      <td>...</td>\n      <td>...</td>\n      <td>...</td>\n      <td>...</td>\n      <td>...</td>\n      <td>...</td>\n      <td>...</td>\n      <td>...</td>\n      <td>...</td>\n      <td>...</td>\n      <td>...</td>\n      <td>...</td>\n      <td>...</td>\n      <td>...</td>\n    </tr>\n    <tr>\n      <th>65</th>\n      <td>65</td>\n      <td>12/21/2013</td>\n      <td>İzmir</td>\n      <td>Big Cities</td>\n      <td>FC</td>\n      <td>3</td>\n      <td>5.0</td>\n      <td>4.0</td>\n      <td>3.0</td>\n      <td>1</td>\n      <td>...</td>\n      <td>3.0</td>\n      <td>0</td>\n      <td>0</td>\n      <td>0</td>\n      <td>0</td>\n      <td>0</td>\n      <td>0</td>\n      <td>0</td>\n      <td>0</td>\n      <td>1756069.0</td>\n    </tr>\n    <tr>\n      <th>12</th>\n      <td>12</td>\n      <td>02/28/2013</td>\n      <td>Ankara</td>\n      <td>Big Cities</td>\n      <td>IL</td>\n      <td>2</td>\n      <td>2.0</td>\n      <td>4.0</td>\n      <td>4.0</td>\n      <td>2</td>\n      <td>...</td>\n      <td>3.0</td>\n      <td>0</td>\n      <td>0</td>\n      <td>0</td>\n      <td>0</td>\n      <td>0</td>\n      <td>0</td>\n      <td>0</td>\n      <td>0</td>\n      <td>1734634.0</td>\n    </tr>\n    <tr>\n      <th>63</th>\n      <td>63</td>\n      <td>08/05/2013</td>\n      <td>Kırklareli</td>\n      <td>Other</td>\n      <td>FC</td>\n      <td>2</td>\n      <td>2.0</td>\n      <td>4.0</td>\n      <td>4.0</td>\n      <td>3</td>\n      <td>...</td>\n      <td>3.0</td>\n      <td>0</td>\n      <td>0</td>\n      <td>0</td>\n      <td>0</td>\n      <td>0</td>\n      <td>0</td>\n      <td>0</td>\n      <td>0</td>\n      <td>1619683.0</td>\n    </tr>\n    <tr>\n      <th>95</th>\n      <td>95</td>\n      <td>06/08/2012</td>\n      <td>Samsun</td>\n      <td>Other</td>\n      <td>FC</td>\n      <td>2</td>\n      <td>4.0</td>\n      <td>4.0</td>\n      <td>4.0</td>\n      <td>2</td>\n      <td>...</td>\n      <td>3.0</td>\n      <td>0</td>\n      <td>0</td>\n      <td>0</td>\n      <td>0</td>\n      <td>0</td>\n      <td>0</td>\n      <td>0</td>\n      <td>0</td>\n      <td>1270499.0</td>\n    </tr>\n    <tr>\n      <th>21</th>\n      <td>21</td>\n      <td>01/25/2014</td>\n      <td>İstanbul</td>\n      <td>Big Cities</td>\n      <td>FC</td>\n      <td>5</td>\n      <td>5.0</td>\n      <td>4.0</td>\n      <td>4.0</td>\n      <td>2</td>\n      <td>...</td>\n      <td>1.0</td>\n      <td>0</td>\n      <td>0</td>\n      <td>0</td>\n      <td>0</td>\n      <td>0</td>\n      <td>0</td>\n      <td>0</td>\n      <td>0</td>\n      <td>1149870.0</td>\n    </tr>\n  </tbody>\n</table>\n<p>137 rows × 43 columns</p>\n</div>"
     },
     "metadata": {},
     "execution_count": 112
    }
   ],
   "source": [
    "train_import.sort_values(by=\"revenue\", ascending=False)"
   ]
  },
  {
   "cell_type": "code",
   "execution_count": 113,
   "metadata": {},
   "outputs": [],
   "source": [
    "import seaborn as sns"
   ]
  },
  {
   "cell_type": "code",
   "execution_count": 116,
   "metadata": {},
   "outputs": [
    {
     "output_type": "execute_result",
     "data": {
      "text/plain": [
       "<AxesSubplot:xlabel='revenue', ylabel='Density'>"
      ]
     },
     "metadata": {},
     "execution_count": 116
    },
    {
     "output_type": "display_data",
     "data": {
      "text/plain": "<Figure size 432x288 with 1 Axes>",
      "image/svg+xml": "<?xml version=\"1.0\" encoding=\"utf-8\" standalone=\"no\"?>\n<!DOCTYPE svg PUBLIC \"-//W3C//DTD SVG 1.1//EN\"\n  \"http://www.w3.org/Graphics/SVG/1.1/DTD/svg11.dtd\">\n<!-- Created with matplotlib (https://matplotlib.org/) -->\n<svg height=\"272.794688pt\" version=\"1.1\" viewBox=\"0 0 385.78125 272.794688\" width=\"385.78125pt\" xmlns=\"http://www.w3.org/2000/svg\" xmlns:xlink=\"http://www.w3.org/1999/xlink\">\n <metadata>\n  <rdf:RDF xmlns:cc=\"http://creativecommons.org/ns#\" xmlns:dc=\"http://purl.org/dc/elements/1.1/\" xmlns:rdf=\"http://www.w3.org/1999/02/22-rdf-syntax-ns#\">\n   <cc:Work>\n    <dc:type rdf:resource=\"http://purl.org/dc/dcmitype/StillImage\"/>\n    <dc:date>2021-03-01T22:39:47.657418</dc:date>\n    <dc:format>image/svg+xml</dc:format>\n    <dc:creator>\n     <cc:Agent>\n      <dc:title>Matplotlib v3.3.4, https://matplotlib.org/</dc:title>\n     </cc:Agent>\n    </dc:creator>\n   </cc:Work>\n  </rdf:RDF>\n </metadata>\n <defs>\n  <style type=\"text/css\">*{stroke-linecap:butt;stroke-linejoin:round;}</style>\n </defs>\n <g id=\"figure_1\">\n  <g id=\"patch_1\">\n   <path d=\"M 0 272.794688 \nL 385.78125 272.794688 \nL 385.78125 0 \nL 0 0 \nz\n\" style=\"fill:none;\"/>\n  </g>\n  <g id=\"axes_1\">\n   <g id=\"patch_2\">\n    <path d=\"M 43.78125 235.238438 \nL 378.58125 235.238438 \nL 378.58125 17.798438 \nL 43.78125 17.798438 \nz\n\" style=\"fill:#ffffff;\"/>\n   </g>\n   <g id=\"patch_3\">\n    <path clip-path=\"url(#p903f13f46b)\" d=\"M 95.146803 235.238438 \nL 105.236755 235.238438 \nL 105.236755 178.760515 \nL 95.146803 178.760515 \nz\n\" style=\"fill:#1f77b4;opacity:0.4;\"/>\n   </g>\n   <g id=\"patch_4\">\n    <path clip-path=\"url(#p903f13f46b)\" d=\"M 105.236755 235.238438 \nL 115.326707 235.238438 \nL 115.326707 97.181295 \nL 105.236755 97.181295 \nz\n\" style=\"fill:#1f77b4;opacity:0.4;\"/>\n   </g>\n   <g id=\"patch_5\">\n    <path clip-path=\"url(#p903f13f46b)\" d=\"M 115.326707 235.238438 \nL 125.416659 235.238438 \nL 125.416659 97.181295 \nL 115.326707 97.181295 \nz\n\" style=\"fill:#1f77b4;opacity:0.4;\"/>\n   </g>\n   <g id=\"patch_6\">\n    <path clip-path=\"url(#p903f13f46b)\" d=\"M 125.416659 235.238438 \nL 135.506611 235.238438 \nL 135.506611 28.152723 \nL 125.416659 28.152723 \nz\n\" style=\"fill:#1f77b4;opacity:0.4;\"/>\n   </g>\n   <g id=\"patch_7\">\n    <path clip-path=\"url(#p903f13f46b)\" d=\"M 135.506611 235.238438 \nL 145.596562 235.238438 \nL 145.596562 128.557918 \nL 135.506611 128.557918 \nz\n\" style=\"fill:#1f77b4;opacity:0.4;\"/>\n   </g>\n   <g id=\"patch_8\">\n    <path clip-path=\"url(#p903f13f46b)\" d=\"M 145.596562 235.238438 \nL 155.686514 235.238438 \nL 155.686514 159.934541 \nL 145.596562 159.934541 \nz\n\" style=\"fill:#1f77b4;opacity:0.4;\"/>\n   </g>\n   <g id=\"patch_9\">\n    <path clip-path=\"url(#p903f13f46b)\" d=\"M 155.686514 235.238438 \nL 165.776466 235.238438 \nL 165.776466 203.861814 \nL 155.686514 203.861814 \nz\n\" style=\"fill:#1f77b4;opacity:0.4;\"/>\n   </g>\n   <g id=\"patch_10\">\n    <path clip-path=\"url(#p903f13f46b)\" d=\"M 165.776466 235.238438 \nL 175.866418 235.238438 \nL 175.866418 191.311165 \nL 165.776466 191.311165 \nz\n\" style=\"fill:#1f77b4;opacity:0.4;\"/>\n   </g>\n   <g id=\"patch_11\">\n    <path clip-path=\"url(#p903f13f46b)\" d=\"M 175.866418 235.238438 \nL 185.95637 235.238438 \nL 185.95637 222.687788 \nL 175.866418 222.687788 \nz\n\" style=\"fill:#1f77b4;opacity:0.4;\"/>\n   </g>\n   <g id=\"patch_12\">\n    <path clip-path=\"url(#p903f13f46b)\" d=\"M 185.95637 235.238438 \nL 196.046322 235.238438 \nL 196.046322 216.412463 \nL 185.95637 216.412463 \nz\n\" style=\"fill:#1f77b4;opacity:0.4;\"/>\n   </g>\n   <g id=\"patch_13\">\n    <path clip-path=\"url(#p903f13f46b)\" d=\"M 196.046322 235.238438 \nL 206.136274 235.238438 \nL 206.136274 222.687788 \nL 196.046322 222.687788 \nz\n\" style=\"fill:#1f77b4;opacity:0.4;\"/>\n   </g>\n   <g id=\"patch_14\">\n    <path clip-path=\"url(#p903f13f46b)\" d=\"M 206.136274 235.238438 \nL 216.226226 235.238438 \nL 216.226226 235.238438 \nL 206.136274 235.238438 \nz\n\" style=\"fill:#1f77b4;opacity:0.4;\"/>\n   </g>\n   <g id=\"patch_15\">\n    <path clip-path=\"url(#p903f13f46b)\" d=\"M 216.226226 235.238438 \nL 226.316178 235.238438 \nL 226.316178 235.238438 \nL 216.226226 235.238438 \nz\n\" style=\"fill:#1f77b4;opacity:0.4;\"/>\n   </g>\n   <g id=\"patch_16\">\n    <path clip-path=\"url(#p903f13f46b)\" d=\"M 226.316178 235.238438 \nL 236.40613 235.238438 \nL 236.40613 235.238438 \nL 226.316178 235.238438 \nz\n\" style=\"fill:#1f77b4;opacity:0.4;\"/>\n   </g>\n   <g id=\"patch_17\">\n    <path clip-path=\"url(#p903f13f46b)\" d=\"M 236.40613 235.238438 \nL 246.496082 235.238438 \nL 246.496082 235.238438 \nL 236.40613 235.238438 \nz\n\" style=\"fill:#1f77b4;opacity:0.4;\"/>\n   </g>\n   <g id=\"patch_18\">\n    <path clip-path=\"url(#p903f13f46b)\" d=\"M 246.496082 235.238438 \nL 256.586034 235.238438 \nL 256.586034 228.963113 \nL 246.496082 228.963113 \nz\n\" style=\"fill:#1f77b4;opacity:0.4;\"/>\n   </g>\n   <g id=\"patch_19\">\n    <path clip-path=\"url(#p903f13f46b)\" d=\"M 256.586034 235.238438 \nL 266.675986 235.238438 \nL 266.675986 235.238438 \nL 256.586034 235.238438 \nz\n\" style=\"fill:#1f77b4;opacity:0.4;\"/>\n   </g>\n   <g id=\"patch_20\">\n    <path clip-path=\"url(#p903f13f46b)\" d=\"M 266.675986 235.238438 \nL 276.765938 235.238438 \nL 276.765938 235.238438 \nL 266.675986 235.238438 \nz\n\" style=\"fill:#1f77b4;opacity:0.4;\"/>\n   </g>\n   <g id=\"patch_21\">\n    <path clip-path=\"url(#p903f13f46b)\" d=\"M 276.765938 235.238438 \nL 286.855889 235.238438 \nL 286.855889 235.238438 \nL 276.765938 235.238438 \nz\n\" style=\"fill:#1f77b4;opacity:0.4;\"/>\n   </g>\n   <g id=\"patch_22\">\n    <path clip-path=\"url(#p903f13f46b)\" d=\"M 286.855889 235.238438 \nL 296.945841 235.238438 \nL 296.945841 228.963113 \nL 286.855889 228.963113 \nz\n\" style=\"fill:#1f77b4;opacity:0.4;\"/>\n   </g>\n   <g id=\"patch_23\">\n    <path clip-path=\"url(#p903f13f46b)\" d=\"M 296.945841 235.238438 \nL 307.035793 235.238438 \nL 307.035793 235.238438 \nL 296.945841 235.238438 \nz\n\" style=\"fill:#1f77b4;opacity:0.4;\"/>\n   </g>\n   <g id=\"patch_24\">\n    <path clip-path=\"url(#p903f13f46b)\" d=\"M 307.035793 235.238438 \nL 317.125745 235.238438 \nL 317.125745 235.238438 \nL 307.035793 235.238438 \nz\n\" style=\"fill:#1f77b4;opacity:0.4;\"/>\n   </g>\n   <g id=\"patch_25\">\n    <path clip-path=\"url(#p903f13f46b)\" d=\"M 317.125745 235.238438 \nL 327.215697 235.238438 \nL 327.215697 228.963113 \nL 317.125745 228.963113 \nz\n\" style=\"fill:#1f77b4;opacity:0.4;\"/>\n   </g>\n   <g id=\"matplotlib.axis_1\">\n    <g id=\"xtick_1\">\n     <g id=\"line2d_1\">\n      <defs>\n       <path d=\"M 0 0 \nL 0 3.5 \n\" id=\"m47f0432bb4\" style=\"stroke:#000000;stroke-width:0.8;\"/>\n      </defs>\n      <g>\n       <use style=\"stroke:#000000;stroke-width:0.8;\" x=\"80.759135\" xlink:href=\"#m47f0432bb4\" y=\"235.238438\"/>\n      </g>\n     </g>\n     <g id=\"text_1\">\n      <!-- 0.0 -->\n      <g transform=\"translate(72.807573 249.836875)scale(0.1 -0.1)\">\n       <defs>\n        <path d=\"M 31.78125 66.40625 \nQ 24.171875 66.40625 20.328125 58.90625 \nQ 16.5 51.421875 16.5 36.375 \nQ 16.5 21.390625 20.328125 13.890625 \nQ 24.171875 6.390625 31.78125 6.390625 \nQ 39.453125 6.390625 43.28125 13.890625 \nQ 47.125 21.390625 47.125 36.375 \nQ 47.125 51.421875 43.28125 58.90625 \nQ 39.453125 66.40625 31.78125 66.40625 \nz\nM 31.78125 74.21875 \nQ 44.046875 74.21875 50.515625 64.515625 \nQ 56.984375 54.828125 56.984375 36.375 \nQ 56.984375 17.96875 50.515625 8.265625 \nQ 44.046875 -1.421875 31.78125 -1.421875 \nQ 19.53125 -1.421875 13.0625 8.265625 \nQ 6.59375 17.96875 6.59375 36.375 \nQ 6.59375 54.828125 13.0625 64.515625 \nQ 19.53125 74.21875 31.78125 74.21875 \nz\n\" id=\"DejaVuSans-48\"/>\n        <path d=\"M 10.6875 12.40625 \nL 21 12.40625 \nL 21 0 \nL 10.6875 0 \nz\n\" id=\"DejaVuSans-46\"/>\n       </defs>\n       <use xlink:href=\"#DejaVuSans-48\"/>\n       <use x=\"63.623047\" xlink:href=\"#DejaVuSans-46\"/>\n       <use x=\"95.410156\" xlink:href=\"#DejaVuSans-48\"/>\n      </g>\n     </g>\n    </g>\n    <g id=\"xtick_2\">\n     <g id=\"line2d_2\">\n      <g>\n       <use style=\"stroke:#000000;stroke-width:0.8;\" x=\"143.321283\" xlink:href=\"#m47f0432bb4\" y=\"235.238438\"/>\n      </g>\n     </g>\n     <g id=\"text_2\">\n      <!-- 0.5 -->\n      <g transform=\"translate(135.369721 249.836875)scale(0.1 -0.1)\">\n       <defs>\n        <path d=\"M 10.796875 72.90625 \nL 49.515625 72.90625 \nL 49.515625 64.59375 \nL 19.828125 64.59375 \nL 19.828125 46.734375 \nQ 21.96875 47.46875 24.109375 47.828125 \nQ 26.265625 48.1875 28.421875 48.1875 \nQ 40.625 48.1875 47.75 41.5 \nQ 54.890625 34.8125 54.890625 23.390625 \nQ 54.890625 11.625 47.5625 5.09375 \nQ 40.234375 -1.421875 26.90625 -1.421875 \nQ 22.3125 -1.421875 17.546875 -0.640625 \nQ 12.796875 0.140625 7.71875 1.703125 \nL 7.71875 11.625 \nQ 12.109375 9.234375 16.796875 8.0625 \nQ 21.484375 6.890625 26.703125 6.890625 \nQ 35.15625 6.890625 40.078125 11.328125 \nQ 45.015625 15.765625 45.015625 23.390625 \nQ 45.015625 31 40.078125 35.4375 \nQ 35.15625 39.890625 26.703125 39.890625 \nQ 22.75 39.890625 18.8125 39.015625 \nQ 14.890625 38.140625 10.796875 36.28125 \nz\n\" id=\"DejaVuSans-53\"/>\n       </defs>\n       <use xlink:href=\"#DejaVuSans-48\"/>\n       <use x=\"63.623047\" xlink:href=\"#DejaVuSans-46\"/>\n       <use x=\"95.410156\" xlink:href=\"#DejaVuSans-53\"/>\n      </g>\n     </g>\n    </g>\n    <g id=\"xtick_3\">\n     <g id=\"line2d_3\">\n      <g>\n       <use style=\"stroke:#000000;stroke-width:0.8;\" x=\"205.883431\" xlink:href=\"#m47f0432bb4\" y=\"235.238438\"/>\n      </g>\n     </g>\n     <g id=\"text_3\">\n      <!-- 1.0 -->\n      <g transform=\"translate(197.931869 249.836875)scale(0.1 -0.1)\">\n       <defs>\n        <path d=\"M 12.40625 8.296875 \nL 28.515625 8.296875 \nL 28.515625 63.921875 \nL 10.984375 60.40625 \nL 10.984375 69.390625 \nL 28.421875 72.90625 \nL 38.28125 72.90625 \nL 38.28125 8.296875 \nL 54.390625 8.296875 \nL 54.390625 0 \nL 12.40625 0 \nz\n\" id=\"DejaVuSans-49\"/>\n       </defs>\n       <use xlink:href=\"#DejaVuSans-49\"/>\n       <use x=\"63.623047\" xlink:href=\"#DejaVuSans-46\"/>\n       <use x=\"95.410156\" xlink:href=\"#DejaVuSans-48\"/>\n      </g>\n     </g>\n    </g>\n    <g id=\"xtick_4\">\n     <g id=\"line2d_4\">\n      <g>\n       <use style=\"stroke:#000000;stroke-width:0.8;\" x=\"268.445579\" xlink:href=\"#m47f0432bb4\" y=\"235.238438\"/>\n      </g>\n     </g>\n     <g id=\"text_4\">\n      <!-- 1.5 -->\n      <g transform=\"translate(260.494016 249.836875)scale(0.1 -0.1)\">\n       <use xlink:href=\"#DejaVuSans-49\"/>\n       <use x=\"63.623047\" xlink:href=\"#DejaVuSans-46\"/>\n       <use x=\"95.410156\" xlink:href=\"#DejaVuSans-53\"/>\n      </g>\n     </g>\n    </g>\n    <g id=\"xtick_5\">\n     <g id=\"line2d_5\">\n      <g>\n       <use style=\"stroke:#000000;stroke-width:0.8;\" x=\"331.007727\" xlink:href=\"#m47f0432bb4\" y=\"235.238438\"/>\n      </g>\n     </g>\n     <g id=\"text_5\">\n      <!-- 2.0 -->\n      <g transform=\"translate(323.056164 249.836875)scale(0.1 -0.1)\">\n       <defs>\n        <path d=\"M 19.1875 8.296875 \nL 53.609375 8.296875 \nL 53.609375 0 \nL 7.328125 0 \nL 7.328125 8.296875 \nQ 12.9375 14.109375 22.625 23.890625 \nQ 32.328125 33.6875 34.8125 36.53125 \nQ 39.546875 41.84375 41.421875 45.53125 \nQ 43.3125 49.21875 43.3125 52.78125 \nQ 43.3125 58.59375 39.234375 62.25 \nQ 35.15625 65.921875 28.609375 65.921875 \nQ 23.96875 65.921875 18.8125 64.3125 \nQ 13.671875 62.703125 7.8125 59.421875 \nL 7.8125 69.390625 \nQ 13.765625 71.78125 18.9375 73 \nQ 24.125 74.21875 28.421875 74.21875 \nQ 39.75 74.21875 46.484375 68.546875 \nQ 53.21875 62.890625 53.21875 53.421875 \nQ 53.21875 48.921875 51.53125 44.890625 \nQ 49.859375 40.875 45.40625 35.40625 \nQ 44.1875 33.984375 37.640625 27.21875 \nQ 31.109375 20.453125 19.1875 8.296875 \nz\n\" id=\"DejaVuSans-50\"/>\n       </defs>\n       <use xlink:href=\"#DejaVuSans-50\"/>\n       <use x=\"63.623047\" xlink:href=\"#DejaVuSans-46\"/>\n       <use x=\"95.410156\" xlink:href=\"#DejaVuSans-48\"/>\n      </g>\n     </g>\n    </g>\n    <g id=\"text_6\">\n     <!-- revenue -->\n     <g transform=\"translate(190.711719 263.515)scale(0.1 -0.1)\">\n      <defs>\n       <path d=\"M 41.109375 46.296875 \nQ 39.59375 47.171875 37.8125 47.578125 \nQ 36.03125 48 33.890625 48 \nQ 26.265625 48 22.1875 43.046875 \nQ 18.109375 38.09375 18.109375 28.8125 \nL 18.109375 0 \nL 9.078125 0 \nL 9.078125 54.6875 \nL 18.109375 54.6875 \nL 18.109375 46.1875 \nQ 20.953125 51.171875 25.484375 53.578125 \nQ 30.03125 56 36.53125 56 \nQ 37.453125 56 38.578125 55.875 \nQ 39.703125 55.765625 41.0625 55.515625 \nz\n\" id=\"DejaVuSans-114\"/>\n       <path d=\"M 56.203125 29.59375 \nL 56.203125 25.203125 \nL 14.890625 25.203125 \nQ 15.484375 15.921875 20.484375 11.0625 \nQ 25.484375 6.203125 34.421875 6.203125 \nQ 39.59375 6.203125 44.453125 7.46875 \nQ 49.3125 8.734375 54.109375 11.28125 \nL 54.109375 2.78125 \nQ 49.265625 0.734375 44.1875 -0.34375 \nQ 39.109375 -1.421875 33.890625 -1.421875 \nQ 20.796875 -1.421875 13.15625 6.1875 \nQ 5.515625 13.8125 5.515625 26.8125 \nQ 5.515625 40.234375 12.765625 48.109375 \nQ 20.015625 56 32.328125 56 \nQ 43.359375 56 49.78125 48.890625 \nQ 56.203125 41.796875 56.203125 29.59375 \nz\nM 47.21875 32.234375 \nQ 47.125 39.59375 43.09375 43.984375 \nQ 39.0625 48.390625 32.421875 48.390625 \nQ 24.90625 48.390625 20.390625 44.140625 \nQ 15.875 39.890625 15.1875 32.171875 \nz\n\" id=\"DejaVuSans-101\"/>\n       <path d=\"M 2.984375 54.6875 \nL 12.5 54.6875 \nL 29.59375 8.796875 \nL 46.6875 54.6875 \nL 56.203125 54.6875 \nL 35.6875 0 \nL 23.484375 0 \nz\n\" id=\"DejaVuSans-118\"/>\n       <path d=\"M 54.890625 33.015625 \nL 54.890625 0 \nL 45.90625 0 \nL 45.90625 32.71875 \nQ 45.90625 40.484375 42.875 44.328125 \nQ 39.84375 48.1875 33.796875 48.1875 \nQ 26.515625 48.1875 22.3125 43.546875 \nQ 18.109375 38.921875 18.109375 30.90625 \nL 18.109375 0 \nL 9.078125 0 \nL 9.078125 54.6875 \nL 18.109375 54.6875 \nL 18.109375 46.1875 \nQ 21.34375 51.125 25.703125 53.5625 \nQ 30.078125 56 35.796875 56 \nQ 45.21875 56 50.046875 50.171875 \nQ 54.890625 44.34375 54.890625 33.015625 \nz\n\" id=\"DejaVuSans-110\"/>\n       <path d=\"M 8.5 21.578125 \nL 8.5 54.6875 \nL 17.484375 54.6875 \nL 17.484375 21.921875 \nQ 17.484375 14.15625 20.5 10.265625 \nQ 23.53125 6.390625 29.59375 6.390625 \nQ 36.859375 6.390625 41.078125 11.03125 \nQ 45.3125 15.671875 45.3125 23.6875 \nL 45.3125 54.6875 \nL 54.296875 54.6875 \nL 54.296875 0 \nL 45.3125 0 \nL 45.3125 8.40625 \nQ 42.046875 3.421875 37.71875 1 \nQ 33.40625 -1.421875 27.6875 -1.421875 \nQ 18.265625 -1.421875 13.375 4.4375 \nQ 8.5 10.296875 8.5 21.578125 \nz\nM 31.109375 56 \nz\n\" id=\"DejaVuSans-117\"/>\n      </defs>\n      <use xlink:href=\"#DejaVuSans-114\"/>\n      <use x=\"38.863281\" xlink:href=\"#DejaVuSans-101\"/>\n      <use x=\"100.386719\" xlink:href=\"#DejaVuSans-118\"/>\n      <use x=\"159.566406\" xlink:href=\"#DejaVuSans-101\"/>\n      <use x=\"221.089844\" xlink:href=\"#DejaVuSans-110\"/>\n      <use x=\"284.46875\" xlink:href=\"#DejaVuSans-117\"/>\n      <use x=\"347.847656\" xlink:href=\"#DejaVuSans-101\"/>\n     </g>\n    </g>\n    <g id=\"text_7\">\n     <!-- 1e7 -->\n     <g transform=\"translate(359.703125 262.515)scale(0.1 -0.1)\">\n      <defs>\n       <path d=\"M 8.203125 72.90625 \nL 55.078125 72.90625 \nL 55.078125 68.703125 \nL 28.609375 0 \nL 18.3125 0 \nL 43.21875 64.59375 \nL 8.203125 64.59375 \nz\n\" id=\"DejaVuSans-55\"/>\n      </defs>\n      <use xlink:href=\"#DejaVuSans-49\"/>\n      <use x=\"63.623047\" xlink:href=\"#DejaVuSans-101\"/>\n      <use x=\"125.146484\" xlink:href=\"#DejaVuSans-55\"/>\n     </g>\n    </g>\n   </g>\n   <g id=\"matplotlib.axis_2\">\n    <g id=\"ytick_1\">\n     <g id=\"line2d_6\">\n      <defs>\n       <path d=\"M 0 0 \nL -3.5 0 \n\" id=\"m31f38d1abb\" style=\"stroke:#000000;stroke-width:0.8;\"/>\n      </defs>\n      <g>\n       <use style=\"stroke:#000000;stroke-width:0.8;\" x=\"43.78125\" xlink:href=\"#m31f38d1abb\" y=\"235.238438\"/>\n      </g>\n     </g>\n     <g id=\"text_8\">\n      <!-- 0.0 -->\n      <g transform=\"translate(20.878125 239.037656)scale(0.1 -0.1)\">\n       <use xlink:href=\"#DejaVuSans-48\"/>\n       <use x=\"63.623047\" xlink:href=\"#DejaVuSans-46\"/>\n       <use x=\"95.410156\" xlink:href=\"#DejaVuSans-48\"/>\n      </g>\n     </g>\n    </g>\n    <g id=\"ytick_2\">\n     <g id=\"line2d_7\">\n      <g>\n       <use style=\"stroke:#000000;stroke-width:0.8;\" x=\"43.78125\" xlink:href=\"#m31f38d1abb\" y=\"200.574793\"/>\n      </g>\n     </g>\n     <g id=\"text_9\">\n      <!-- 0.5 -->\n      <g transform=\"translate(20.878125 204.374012)scale(0.1 -0.1)\">\n       <use xlink:href=\"#DejaVuSans-48\"/>\n       <use x=\"63.623047\" xlink:href=\"#DejaVuSans-46\"/>\n       <use x=\"95.410156\" xlink:href=\"#DejaVuSans-53\"/>\n      </g>\n     </g>\n    </g>\n    <g id=\"ytick_3\">\n     <g id=\"line2d_8\">\n      <g>\n       <use style=\"stroke:#000000;stroke-width:0.8;\" x=\"43.78125\" xlink:href=\"#m31f38d1abb\" y=\"165.911148\"/>\n      </g>\n     </g>\n     <g id=\"text_10\">\n      <!-- 1.0 -->\n      <g transform=\"translate(20.878125 169.710367)scale(0.1 -0.1)\">\n       <use xlink:href=\"#DejaVuSans-49\"/>\n       <use x=\"63.623047\" xlink:href=\"#DejaVuSans-46\"/>\n       <use x=\"95.410156\" xlink:href=\"#DejaVuSans-48\"/>\n      </g>\n     </g>\n    </g>\n    <g id=\"ytick_4\">\n     <g id=\"line2d_9\">\n      <g>\n       <use style=\"stroke:#000000;stroke-width:0.8;\" x=\"43.78125\" xlink:href=\"#m31f38d1abb\" y=\"131.247504\"/>\n      </g>\n     </g>\n     <g id=\"text_11\">\n      <!-- 1.5 -->\n      <g transform=\"translate(20.878125 135.046722)scale(0.1 -0.1)\">\n       <use xlink:href=\"#DejaVuSans-49\"/>\n       <use x=\"63.623047\" xlink:href=\"#DejaVuSans-46\"/>\n       <use x=\"95.410156\" xlink:href=\"#DejaVuSans-53\"/>\n      </g>\n     </g>\n    </g>\n    <g id=\"ytick_5\">\n     <g id=\"line2d_10\">\n      <g>\n       <use style=\"stroke:#000000;stroke-width:0.8;\" x=\"43.78125\" xlink:href=\"#m31f38d1abb\" y=\"96.583859\"/>\n      </g>\n     </g>\n     <g id=\"text_12\">\n      <!-- 2.0 -->\n      <g transform=\"translate(20.878125 100.383078)scale(0.1 -0.1)\">\n       <use xlink:href=\"#DejaVuSans-50\"/>\n       <use x=\"63.623047\" xlink:href=\"#DejaVuSans-46\"/>\n       <use x=\"95.410156\" xlink:href=\"#DejaVuSans-48\"/>\n      </g>\n     </g>\n    </g>\n    <g id=\"ytick_6\">\n     <g id=\"line2d_11\">\n      <g>\n       <use style=\"stroke:#000000;stroke-width:0.8;\" x=\"43.78125\" xlink:href=\"#m31f38d1abb\" y=\"61.920214\"/>\n      </g>\n     </g>\n     <g id=\"text_13\">\n      <!-- 2.5 -->\n      <g transform=\"translate(20.878125 65.719433)scale(0.1 -0.1)\">\n       <use xlink:href=\"#DejaVuSans-50\"/>\n       <use x=\"63.623047\" xlink:href=\"#DejaVuSans-46\"/>\n       <use x=\"95.410156\" xlink:href=\"#DejaVuSans-53\"/>\n      </g>\n     </g>\n    </g>\n    <g id=\"ytick_7\">\n     <g id=\"line2d_12\">\n      <g>\n       <use style=\"stroke:#000000;stroke-width:0.8;\" x=\"43.78125\" xlink:href=\"#m31f38d1abb\" y=\"27.25657\"/>\n      </g>\n     </g>\n     <g id=\"text_14\">\n      <!-- 3.0 -->\n      <g transform=\"translate(20.878125 31.055789)scale(0.1 -0.1)\">\n       <defs>\n        <path d=\"M 40.578125 39.3125 \nQ 47.65625 37.796875 51.625 33 \nQ 55.609375 28.21875 55.609375 21.1875 \nQ 55.609375 10.40625 48.1875 4.484375 \nQ 40.765625 -1.421875 27.09375 -1.421875 \nQ 22.515625 -1.421875 17.65625 -0.515625 \nQ 12.796875 0.390625 7.625 2.203125 \nL 7.625 11.71875 \nQ 11.71875 9.328125 16.59375 8.109375 \nQ 21.484375 6.890625 26.8125 6.890625 \nQ 36.078125 6.890625 40.9375 10.546875 \nQ 45.796875 14.203125 45.796875 21.1875 \nQ 45.796875 27.640625 41.28125 31.265625 \nQ 36.765625 34.90625 28.71875 34.90625 \nL 20.21875 34.90625 \nL 20.21875 43.015625 \nL 29.109375 43.015625 \nQ 36.375 43.015625 40.234375 45.921875 \nQ 44.09375 48.828125 44.09375 54.296875 \nQ 44.09375 59.90625 40.109375 62.90625 \nQ 36.140625 65.921875 28.71875 65.921875 \nQ 24.65625 65.921875 20.015625 65.03125 \nQ 15.375 64.15625 9.8125 62.3125 \nL 9.8125 71.09375 \nQ 15.4375 72.65625 20.34375 73.4375 \nQ 25.25 74.21875 29.59375 74.21875 \nQ 40.828125 74.21875 47.359375 69.109375 \nQ 53.90625 64.015625 53.90625 55.328125 \nQ 53.90625 49.265625 50.4375 45.09375 \nQ 46.96875 40.921875 40.578125 39.3125 \nz\n\" id=\"DejaVuSans-51\"/>\n       </defs>\n       <use xlink:href=\"#DejaVuSans-51\"/>\n       <use x=\"63.623047\" xlink:href=\"#DejaVuSans-46\"/>\n       <use x=\"95.410156\" xlink:href=\"#DejaVuSans-48\"/>\n      </g>\n     </g>\n    </g>\n    <g id=\"text_15\">\n     <!-- Density -->\n     <g transform=\"translate(14.798438 145.527031)rotate(-90)scale(0.1 -0.1)\">\n      <defs>\n       <path d=\"M 19.671875 64.796875 \nL 19.671875 8.109375 \nL 31.59375 8.109375 \nQ 46.6875 8.109375 53.6875 14.9375 \nQ 60.6875 21.78125 60.6875 36.53125 \nQ 60.6875 51.171875 53.6875 57.984375 \nQ 46.6875 64.796875 31.59375 64.796875 \nz\nM 9.8125 72.90625 \nL 30.078125 72.90625 \nQ 51.265625 72.90625 61.171875 64.09375 \nQ 71.09375 55.28125 71.09375 36.53125 \nQ 71.09375 17.671875 61.125 8.828125 \nQ 51.171875 0 30.078125 0 \nL 9.8125 0 \nz\n\" id=\"DejaVuSans-68\"/>\n       <path d=\"M 44.28125 53.078125 \nL 44.28125 44.578125 \nQ 40.484375 46.53125 36.375 47.5 \nQ 32.28125 48.484375 27.875 48.484375 \nQ 21.1875 48.484375 17.84375 46.4375 \nQ 14.5 44.390625 14.5 40.28125 \nQ 14.5 37.15625 16.890625 35.375 \nQ 19.28125 33.59375 26.515625 31.984375 \nL 29.59375 31.296875 \nQ 39.15625 29.25 43.1875 25.515625 \nQ 47.21875 21.78125 47.21875 15.09375 \nQ 47.21875 7.46875 41.1875 3.015625 \nQ 35.15625 -1.421875 24.609375 -1.421875 \nQ 20.21875 -1.421875 15.453125 -0.5625 \nQ 10.6875 0.296875 5.421875 2 \nL 5.421875 11.28125 \nQ 10.40625 8.6875 15.234375 7.390625 \nQ 20.0625 6.109375 24.8125 6.109375 \nQ 31.15625 6.109375 34.5625 8.28125 \nQ 37.984375 10.453125 37.984375 14.40625 \nQ 37.984375 18.0625 35.515625 20.015625 \nQ 33.0625 21.96875 24.703125 23.78125 \nL 21.578125 24.515625 \nQ 13.234375 26.265625 9.515625 29.90625 \nQ 5.8125 33.546875 5.8125 39.890625 \nQ 5.8125 47.609375 11.28125 51.796875 \nQ 16.75 56 26.8125 56 \nQ 31.78125 56 36.171875 55.265625 \nQ 40.578125 54.546875 44.28125 53.078125 \nz\n\" id=\"DejaVuSans-115\"/>\n       <path d=\"M 9.421875 54.6875 \nL 18.40625 54.6875 \nL 18.40625 0 \nL 9.421875 0 \nz\nM 9.421875 75.984375 \nL 18.40625 75.984375 \nL 18.40625 64.59375 \nL 9.421875 64.59375 \nz\n\" id=\"DejaVuSans-105\"/>\n       <path d=\"M 18.3125 70.21875 \nL 18.3125 54.6875 \nL 36.8125 54.6875 \nL 36.8125 47.703125 \nL 18.3125 47.703125 \nL 18.3125 18.015625 \nQ 18.3125 11.328125 20.140625 9.421875 \nQ 21.96875 7.515625 27.59375 7.515625 \nL 36.8125 7.515625 \nL 36.8125 0 \nL 27.59375 0 \nQ 17.1875 0 13.234375 3.875 \nQ 9.28125 7.765625 9.28125 18.015625 \nL 9.28125 47.703125 \nL 2.6875 47.703125 \nL 2.6875 54.6875 \nL 9.28125 54.6875 \nL 9.28125 70.21875 \nz\n\" id=\"DejaVuSans-116\"/>\n       <path d=\"M 32.171875 -5.078125 \nQ 28.375 -14.84375 24.75 -17.8125 \nQ 21.140625 -20.796875 15.09375 -20.796875 \nL 7.90625 -20.796875 \nL 7.90625 -13.28125 \nL 13.1875 -13.28125 \nQ 16.890625 -13.28125 18.9375 -11.515625 \nQ 21 -9.765625 23.484375 -3.21875 \nL 25.09375 0.875 \nL 2.984375 54.6875 \nL 12.5 54.6875 \nL 29.59375 11.921875 \nL 46.6875 54.6875 \nL 56.203125 54.6875 \nz\n\" id=\"DejaVuSans-121\"/>\n      </defs>\n      <use xlink:href=\"#DejaVuSans-68\"/>\n      <use x=\"77.001953\" xlink:href=\"#DejaVuSans-101\"/>\n      <use x=\"138.525391\" xlink:href=\"#DejaVuSans-110\"/>\n      <use x=\"201.904297\" xlink:href=\"#DejaVuSans-115\"/>\n      <use x=\"254.003906\" xlink:href=\"#DejaVuSans-105\"/>\n      <use x=\"281.787109\" xlink:href=\"#DejaVuSans-116\"/>\n      <use x=\"320.996094\" xlink:href=\"#DejaVuSans-121\"/>\n     </g>\n    </g>\n    <g id=\"text_16\">\n     <!-- 1e−7 -->\n     <g transform=\"translate(43.78125 14.798437)scale(0.1 -0.1)\">\n      <defs>\n       <path d=\"M 10.59375 35.5 \nL 73.1875 35.5 \nL 73.1875 27.203125 \nL 10.59375 27.203125 \nz\n\" id=\"DejaVuSans-8722\"/>\n      </defs>\n      <use xlink:href=\"#DejaVuSans-49\"/>\n      <use x=\"63.623047\" xlink:href=\"#DejaVuSans-101\"/>\n      <use x=\"125.146484\" xlink:href=\"#DejaVuSans-8722\"/>\n      <use x=\"208.935547\" xlink:href=\"#DejaVuSans-55\"/>\n     </g>\n    </g>\n   </g>\n   <g id=\"line2d_13\">\n    <path clip-path=\"url(#p903f13f46b)\" d=\"M 58.999432 235.169945 \nL 63.587828 235.007087 \nL 66.646759 234.751406 \nL 69.70569 234.265866 \nL 71.235156 233.890691 \nL 72.764621 233.394763 \nL 74.294087 232.748495 \nL 75.823552 231.918234 \nL 77.353018 230.866714 \nL 78.882483 229.553864 \nL 80.411949 227.938013 \nL 81.941414 225.977493 \nL 83.47088 223.632596 \nL 85.000345 220.867807 \nL 86.529811 217.654171 \nL 88.059276 213.971621 \nL 89.588742 209.811068 \nL 91.118208 205.176029 \nL 92.647673 200.083611 \nL 95.706604 188.663159 \nL 98.765535 175.94309 \nL 109.471794 129.158282 \nL 112.530725 117.297198 \nL 115.589656 106.878904 \nL 117.119121 102.332038 \nL 118.648587 98.295561 \nL 120.178052 94.823949 \nL 121.707518 91.97241 \nL 123.236983 89.794435 \nL 124.766449 88.338567 \nL 126.295914 87.644753 \nL 127.82538 87.740684 \nL 129.354845 88.638562 \nL 130.884311 90.332691 \nL 132.413776 92.798152 \nL 133.943242 95.990758 \nL 135.472707 99.848266 \nL 137.002173 104.292757 \nL 138.531638 109.233913 \nL 141.590569 120.206605 \nL 150.767362 154.820877 \nL 153.826293 164.90879 \nL 156.885224 173.740293 \nL 158.41469 177.669267 \nL 159.944155 181.285076 \nL 161.473621 184.605535 \nL 164.532552 190.455025 \nL 167.591483 195.425749 \nL 170.650414 199.717059 \nL 173.709345 203.481098 \nL 176.768276 206.812506 \nL 179.827207 209.764579 \nL 182.886138 212.379275 \nL 185.945069 214.713639 \nL 190.533466 217.871468 \nL 205.828121 227.893229 \nL 208.887052 229.664546 \nL 211.945983 231.191384 \nL 215.004914 232.426283 \nL 218.063845 233.355622 \nL 221.122776 233.994773 \nL 224.181707 234.377247 \nL 227.240638 234.543559 \nL 230.299569 234.53413 \nL 234.887965 234.275726 \nL 248.653155 233.157815 \nL 253.241552 233.156795 \nL 257.829948 233.391248 \nL 267.006741 233.936097 \nL 271.595138 233.93183 \nL 276.183534 233.703194 \nL 285.360327 233.147676 \nL 289.948724 233.146499 \nL 294.53712 233.387324 \nL 305.243379 234.103175 \nL 309.831775 234.102342 \nL 314.420172 233.86198 \nL 325.12643 233.155883 \nL 329.714827 233.181641 \nL 334.303224 233.473822 \nL 351.127344 234.945825 \nL 358.774672 235.170546 \nL 363.363068 235.215148 \nL 363.363068 235.215148 \n\" style=\"fill:none;stroke:#1f77b4;stroke-linecap:square;stroke-width:1.5;\"/>\n   </g>\n   <g id=\"patch_26\">\n    <path d=\"M 43.78125 235.238438 \nL 43.78125 17.798438 \n\" style=\"fill:none;stroke:#000000;stroke-linecap:square;stroke-linejoin:miter;stroke-width:0.8;\"/>\n   </g>\n   <g id=\"patch_27\">\n    <path d=\"M 378.58125 235.238438 \nL 378.58125 17.798438 \n\" style=\"fill:none;stroke:#000000;stroke-linecap:square;stroke-linejoin:miter;stroke-width:0.8;\"/>\n   </g>\n   <g id=\"patch_28\">\n    <path d=\"M 43.78125 235.238438 \nL 378.58125 235.238438 \n\" style=\"fill:none;stroke:#000000;stroke-linecap:square;stroke-linejoin:miter;stroke-width:0.8;\"/>\n   </g>\n   <g id=\"patch_29\">\n    <path d=\"M 43.78125 17.798438 \nL 378.58125 17.798438 \n\" style=\"fill:none;stroke:#000000;stroke-linecap:square;stroke-linejoin:miter;stroke-width:0.8;\"/>\n   </g>\n  </g>\n </g>\n <defs>\n  <clipPath id=\"p903f13f46b\">\n   <rect height=\"217.44\" width=\"334.8\" x=\"43.78125\" y=\"17.798438\"/>\n  </clipPath>\n </defs>\n</svg>\n",
      "image/png": "[encoded data removed]"
     },
     "metadata": {
      "needs_background": "light"
     }
    }
   ],
   "source": [
    "# It seems that revenue above 1M is an outlier\n",
    "\n",
    "sns.distplot(train_import[\"revenue\"])"
   ]
  },
  {
   "cell_type": "code",
   "execution_count": 120,
   "metadata": {},
   "outputs": [],
   "source": [
    "train_no_outliers = train_import[train_import[\"revenue\"] < 10000000]"
   ]
  },
  {
   "cell_type": "code",
   "execution_count": 122,
   "metadata": {},
   "outputs": [],
   "source": [
    "x_train_new = np.array(train_no_outliers.iloc[:, 5:-1])\n",
    "y_train_new = np.array(train_no_outliers[\"revenue\"])\n",
    "\n",
    "from sklearn.model_selection import train_test_split\n",
    "\n",
    "x_train_new, x_test_new, y_train_new, y_test_new = train_test_split(x_train_new,y_train_new,test_size=0.2,random_state=42)"
   ]
  },
  {
   "cell_type": "code",
   "execution_count": 123,
   "metadata": {},
   "outputs": [
    {
     "output_type": "stream",
     "name": "stdout",
     "text": [
      "[22:45:27] WARNING: /Users/runner/miniforge3/conda-bld/xgboost_1607604592557/work/src/objective/regression_obj.cu:170: reg:linear is now deprecated in favor of reg:squarederror.\n",
      "[22:45:27] WARNING: /Users/runner/miniforge3/conda-bld/xgboost_1607604592557/work/src/objective/regression_obj.cu:170: reg:linear is now deprecated in favor of reg:squarederror.\n",
      "[22:45:27] WARNING: /Users/runner/miniforge3/conda-bld/xgboost_1607604592557/work/src/objective/regression_obj.cu:170: reg:linear is now deprecated in favor of reg:squarederror.\n",
      "[22:45:27] WARNING: /Users/runner/miniforge3/conda-bld/xgboost_1607604592557/work/src/objective/regression_obj.cu:170: reg:linear is now deprecated in favor of reg:squarederror.\n",
      "[22:45:27] WARNING: /Users/runner/miniforge3/conda-bld/xgboost_1607604592557/work/src/objective/regression_obj.cu:170: reg:linear is now deprecated in favor of reg:squarederror.\n",
      "[22:45:27] WARNING: /Users/runner/miniforge3/conda-bld/xgboost_1607604592557/work/src/objective/regression_obj.cu:170: reg:linear is now deprecated in favor of reg:squarederror.\n",
      "[22:45:27] WARNING: /Users/runner/miniforge3/conda-bld/xgboost_1607604592557/work/src/objective/regression_obj.cu:170: reg:linear is now deprecated in favor of reg:squarederror.\n",
      "[22:45:27] WARNING: /Users/runner/miniforge3/conda-bld/xgboost_1607604592557/work/src/objective/regression_obj.cu:170: reg:linear is now deprecated in favor of reg:squarederror.\n",
      "[22:45:27] WARNING: /Users/runner/miniforge3/conda-bld/xgboost_1607604592557/work/src/objective/regression_obj.cu:170: reg:linear is now deprecated in favor of reg:squarederror.\n",
      "[22:45:27] WARNING: /Users/runner/miniforge3/conda-bld/xgboost_1607604592557/work/src/objective/regression_obj.cu:170: reg:linear is now deprecated in favor of reg:squarederror.\n",
      "[22:45:27] WARNING: /Users/runner/miniforge3/conda-bld/xgboost_1607604592557/work/src/objective/regression_obj.cu:170: reg:linear is now deprecated in favor of reg:squarederror.\n",
      "[22:45:27] WARNING: /Users/runner/miniforge3/conda-bld/xgboost_1607604592557/work/src/objective/regression_obj.cu:170: reg:linear is now deprecated in favor of reg:squarederror.\n",
      "[22:45:27] WARNING: /Users/runner/miniforge3/conda-bld/xgboost_1607604592557/work/src/objective/regression_obj.cu:170: reg:linear is now deprecated in favor of reg:squarederror.\n",
      "[22:45:27] WARNING: /Users/runner/miniforge3/conda-bld/xgboost_1607604592557/work/src/objective/regression_obj.cu:170: reg:linear is now deprecated in favor of reg:squarederror.\n",
      "[22:45:27] WARNING: /Users/runner/miniforge3/conda-bld/xgboost_1607604592557/work/src/objective/regression_obj.cu:170: reg:linear is now deprecated in favor of reg:squarederror.\n",
      "[22:45:27] WARNING: /Users/runner/miniforge3/conda-bld/xgboost_1607604592557/work/src/objective/regression_obj.cu:170: reg:linear is now deprecated in favor of reg:squarederror.\n",
      "[22:45:27] WARNING: /Users/runner/miniforge3/conda-bld/xgboost_1607604592557/work/src/objective/regression_obj.cu:170: reg:linear is now deprecated in favor of reg:squarederror.\n",
      "[22:45:27] WARNING: /Users/runner/miniforge3/conda-bld/xgboost_1607604592557/work/src/objective/regression_obj.cu:170: reg:linear is now deprecated in favor of reg:squarederror.\n",
      "[22:45:27] WARNING: /Users/runner/miniforge3/conda-bld/xgboost_1607604592557/work/src/objective/regression_obj.cu:170: reg:linear is now deprecated in favor of reg:squarederror.\n",
      "[22:45:27] WARNING: /Users/runner/miniforge3/conda-bld/xgboost_1607604592557/work/src/objective/regression_obj.cu:170: reg:linear is now deprecated in favor of reg:squarederror.\n",
      "[22:45:27] WARNING: /Users/runner/miniforge3/conda-bld/xgboost_1607604592557/work/src/objective/regression_obj.cu:170: reg:linear is now deprecated in favor of reg:squarederror.\n",
      "[22:45:27] WARNING: /Users/runner/miniforge3/conda-bld/xgboost_1607604592557/work/src/objective/regression_obj.cu:170: reg:linear is now deprecated in favor of reg:squarederror.\n",
      "[22:45:27] WARNING: /Users/runner/miniforge3/conda-bld/xgboost_1607604592557/work/src/objective/regression_obj.cu:170: reg:linear is now deprecated in favor of reg:squarederror.\n",
      "[22:45:27] WARNING: /Users/runner/miniforge3/conda-bld/xgboost_1607604592557/work/src/objective/regression_obj.cu:170: reg:linear is now deprecated in favor of reg:squarederror.\n",
      "[22:45:27] WARNING: /Users/runner/miniforge3/conda-bld/xgboost_1607604592557/work/src/objective/regression_obj.cu:170: reg:linear is now deprecated in favor of reg:squarederror.\n",
      "[22:45:27] WARNING: /Users/runner/miniforge3/conda-bld/xgboost_1607604592557/work/src/objective/regression_obj.cu:170: reg:linear is now deprecated in favor of reg:squarederror.\n",
      "[22:45:27] WARNING: /Users/runner/miniforge3/conda-bld/xgboost_1607604592557/work/src/objective/regression_obj.cu:170: reg:linear is now deprecated in favor of reg:squarederror.\n",
      "[22:45:27] WARNING: /Users/runner/miniforge3/conda-bld/xgboost_1607604592557/work/src/objective/regression_obj.cu:170: reg:linear is now deprecated in favor of reg:squarederror.\n",
      "[22:45:27] WARNING: /Users/runner/miniforge3/conda-bld/xgboost_1607604592557/work/src/objective/regression_obj.cu:170: reg:linear is now deprecated in favor of reg:squarederror.\n",
      "[22:45:27] WARNING: /Users/runner/miniforge3/conda-bld/xgboost_1607604592557/work/src/objective/regression_obj.cu:170: reg:linear is now deprecated in favor of reg:squarederror.\n",
      "[22:45:27] WARNING: /Users/runner/miniforge3/conda-bld/xgboost_1607604592557/work/src/objective/regression_obj.cu:170: reg:linear is now deprecated in favor of reg:squarederror.\n",
      "[22:45:27] WARNING: /Users/runner/miniforge3/conda-bld/xgboost_1607604592557/work/src/objective/regression_obj.cu:170: reg:linear is now deprecated in favor of reg:squarederror.\n",
      "[22:45:27] WARNING: /Users/runner/miniforge3/conda-bld/xgboost_1607604592557/work/src/objective/regression_obj.cu:170: reg:linear is now deprecated in favor of reg:squarederror.\n",
      "[22:45:27] WARNING: /Users/runner/miniforge3/conda-bld/xgboost_1607604592557/work/src/objective/regression_obj.cu:170: reg:linear is now deprecated in favor of reg:squarederror.\n",
      "[22:45:27] WARNING: /Users/runner/miniforge3/conda-bld/xgboost_1607604592557/work/src/objective/regression_obj.cu:170: reg:linear is now deprecated in favor of reg:squarederror.\n",
      "[22:45:27] WARNING: /Users/runner/miniforge3/conda-bld/xgboost_1607604592557/work/src/objective/regression_obj.cu:170: reg:linear is now deprecated in favor of reg:squarederror.\n",
      "[22:45:27] WARNING: /Users/runner/miniforge3/conda-bld/xgboost_1607604592557/work/src/objective/regression_obj.cu:170: reg:linear is now deprecated in favor of reg:squarederror.\n"
     ]
    },
    {
     "output_type": "execute_result",
     "data": {
      "text/plain": [
       "[('P1', 2573576.4779502284),\n",
       " ('P2', 2469006.7580825426),\n",
       " ('P3', 2572218.582702365),\n",
       " ('P4', 2572218.582702365),\n",
       " ('P5', 2566830.7386410465),\n",
       " ('P6', 2539486.648022379),\n",
       " ('P7', 2524230.009706339),\n",
       " ('P8', 2576448.8801901303),\n",
       " ('P9', 2572218.582702365),\n",
       " ('P10', 2572218.582702365),\n",
       " ('P11', 2572218.582702365),\n",
       " ('P12', 2580505.1488624495),\n",
       " ('P13', 2572218.582702365),\n",
       " ('P14', 2609203.2916998086),\n",
       " ('P15', 2576913.459307041),\n",
       " ('P16', 2557791.2469218117),\n",
       " ('P17', 2542066.5838065282),\n",
       " ('P18', 2556501.101470461),\n",
       " ('P19', 2583813.336446157),\n",
       " ('P20', 2597733.402289234),\n",
       " ('P21', 2545938.321487837),\n",
       " ('P22', 2570048.106071825),\n",
       " ('P23', 2541111.3158726855),\n",
       " ('P24', 2611846.4143656166),\n",
       " ('P25', 2565485.4494763585),\n",
       " ('P26', 2567783.091277997),\n",
       " ('P27', 2572218.582702365),\n",
       " ('P28', 2644087.4334534784),\n",
       " ('P29', 2603096.889532303),\n",
       " ('P30', 2570939.5541909025),\n",
       " ('P31', 2565080.1334650773),\n",
       " ('P32', 2565712.4789998108),\n",
       " ('P33', 2569281.694265069),\n",
       " ('P34', 2569688.8287443356),\n",
       " ('P35', 2567993.3559188135),\n",
       " ('P36', 2555566.5612712954),\n",
       " ('P37', 2568240.6148556327)]"
      ]
     },
     "metadata": {},
     "execution_count": 123
    }
   ],
   "source": [
    "rmse_values = []\n",
    "\n",
    "xg_reg = xgb.XGBRegressor(objective='reg:linear', colsample_bytree=0.3, learning_rate=0.1, max_depth = 5, alpha=10, n_estimators=10)\n",
    "\n",
    "for i in data_columns:\n",
    "    x_train_shrunk = np.array([[x] for x in x_train_new[:, data_columns.index(i)]])\n",
    "    x_test_shrunk = np.array(np.array([[x] for x in x_test_new[:, data_columns.index(i)]]))\n",
    "    xg_reg.fit(x_train_shrunk, y_train_new)\n",
    "    y_pred = xg_reg.predict(x_test_shrunk)\n",
    "    rmse = np.sqrt(mean_squared_error(y_test_new, y_pred))\n",
    "\n",
    "    rmse_values.append(rmse)\n",
    "\n",
    "list(zip(data_columns, rmse_values))"
   ]
  },
  {
   "cell_type": "code",
   "execution_count": null,
   "metadata": {},
   "outputs": [],
   "source": []
  }
 ]
}