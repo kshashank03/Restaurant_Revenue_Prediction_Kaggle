{
 "metadata": {
  "language_info": {
   "codemirror_mode": {
    "name": "ipython",
    "version": 3
   },
   "file_extension": ".py",
   "mimetype": "text/x-python",
   "name": "python",
   "nbconvert_exporter": "python",
   "pygments_lexer": "ipython3",
   "version": "3.7.10-final"
  },
  "orig_nbformat": 2,
  "kernelspec": {
   "name": "python3",
   "display_name": "Python 3.7.10 64-bit ('tensorflow': conda)",
   "metadata": {
    "interpreter": {
     "hash": "d36e255458e31a29f527eb52fefea68899c70442c5f8ed7f862cc396cd8e7941"
    }
   }
  }
 },
 "nbformat": 4,
 "nbformat_minor": 2,
 "cells": [
  {
   "cell_type": "code",
   "execution_count": 23,
   "metadata": {},
   "outputs": [],
   "source": [
    "import numpy as np\n",
    "import pandas as pd\n",
    "from tensorflow import keras\n",
    "import os\n",
    "from sklearn.linear_model import LinearRegression\n",
    "from sklearn.model_selection import train_test_split"
   ]
  },
  {
   "cell_type": "code",
   "execution_count": 7,
   "metadata": {},
   "outputs": [],
   "source": [
    "pwd = os.getcwd()"
   ]
  },
  {
   "cell_type": "code",
   "execution_count": 8,
   "metadata": {},
   "outputs": [
    {
     "output_type": "execute_result",
     "data": {
      "text/plain": [
       "      Id   Open Date        City  City Group Type  P1   P2   P3   P4  P5  ...  \\\n",
       "0      0  07/17/1999    İstanbul  Big Cities   IL   4  5.0  4.0  4.0   2  ...   \n",
       "1      1  02/14/2008      Ankara  Big Cities   FC   4  5.0  4.0  4.0   1  ...   \n",
       "2      2  03/09/2013  Diyarbakır       Other   IL   2  4.0  2.0  5.0   2  ...   \n",
       "3      3  02/02/2012       Tokat       Other   IL   6  4.5  6.0  6.0   4  ...   \n",
       "4      4  05/09/2009   Gaziantep       Other   IL   3  4.0  3.0  4.0   2  ...   \n",
       "..   ...         ...         ...         ...  ...  ..  ...  ...  ...  ..  ...   \n",
       "132  132  06/25/2008     Trabzon       Other   FC   2  3.0  3.0  5.0   4  ...   \n",
       "133  133  10/12/2006       İzmir  Big Cities   FC   4  5.0  4.0  4.0   2  ...   \n",
       "134  134  07/08/2006     Kayseri       Other   FC   3  4.0  4.0  4.0   2  ...   \n",
       "135  135  10/29/2010    İstanbul  Big Cities   FC   4  5.0  4.0  5.0   2  ...   \n",
       "136  136  09/01/2009    İstanbul  Big Cities   FC   4  5.0  3.0  5.0   2  ...   \n",
       "\n",
       "     P29  P30  P31  P32  P33  P34  P35  P36  P37    revenue  \n",
       "0    3.0    5    3    4    5    5    4    3    4  5653753.0  \n",
       "1    3.0    0    0    0    0    0    0    0    0  6923131.0  \n",
       "2    3.0    0    0    0    0    0    0    0    0  2055379.0  \n",
       "3    7.5   25   12   10    6   18   12   12    6  2675511.0  \n",
       "4    3.0    5    1    3    2    3    4    3    3  4316715.0  \n",
       "..   ...  ...  ...  ...  ...  ...  ...  ...  ...        ...  \n",
       "132  3.0    0    0    0    0    0    0    0    0  5787594.0  \n",
       "133  3.0    0    0    0    0    0    0    0    0  9262754.0  \n",
       "134  3.0    0    0    0    0    0    0    0    0  2544857.0  \n",
       "135  3.0    0    0    0    0    0    0    0    0  7217634.0  \n",
       "136  3.0    0    0    0    0    0    0    0    0  6363241.0  \n",
       "\n",
       "[137 rows x 43 columns]"
      ],
      "text/html": "<div>\n<style scoped>\n    .dataframe tbody tr th:only-of-type {\n        vertical-align: middle;\n    }\n\n    .dataframe tbody tr th {\n        vertical-align: top;\n    }\n\n    .dataframe thead th {\n        text-align: right;\n    }\n</style>\n<table border=\"1\" class=\"dataframe\">\n  <thead>\n    <tr style=\"text-align: right;\">\n      <th></th>\n      <th>Id</th>\n      <th>Open Date</th>\n      <th>City</th>\n      <th>City Group</th>\n      <th>Type</th>\n      <th>P1</th>\n      <th>P2</th>\n      <th>P3</th>\n      <th>P4</th>\n      <th>P5</th>\n      <th>...</th>\n      <th>P29</th>\n      <th>P30</th>\n      <th>P31</th>\n      <th>P32</th>\n      <th>P33</th>\n      <th>P34</th>\n      <th>P35</th>\n      <th>P36</th>\n      <th>P37</th>\n      <th>revenue</th>\n    </tr>\n  </thead>\n  <tbody>\n    <tr>\n      <th>0</th>\n      <td>0</td>\n      <td>07/17/1999</td>\n      <td>İstanbul</td>\n      <td>Big Cities</td>\n      <td>IL</td>\n      <td>4</td>\n      <td>5.0</td>\n      <td>4.0</td>\n      <td>4.0</td>\n      <td>2</td>\n      <td>...</td>\n      <td>3.0</td>\n      <td>5</td>\n      <td>3</td>\n      <td>4</td>\n      <td>5</td>\n      <td>5</td>\n      <td>4</td>\n      <td>3</td>\n      <td>4</td>\n      <td>5653753.0</td>\n    </tr>\n    <tr>\n      <th>1</th>\n      <td>1</td>\n      <td>02/14/2008</td>\n      <td>Ankara</td>\n      <td>Big Cities</td>\n      <td>FC</td>\n      <td>4</td>\n      <td>5.0</td>\n      <td>4.0</td>\n      <td>4.0</td>\n      <td>1</td>\n      <td>...</td>\n      <td>3.0</td>\n      <td>0</td>\n      <td>0</td>\n      <td>0</td>\n      <td>0</td>\n      <td>0</td>\n      <td>0</td>\n      <td>0</td>\n      <td>0</td>\n      <td>6923131.0</td>\n    </tr>\n    <tr>\n      <th>2</th>\n      <td>2</td>\n      <td>03/09/2013</td>\n      <td>Diyarbakır</td>\n      <td>Other</td>\n      <td>IL</td>\n      <td>2</td>\n      <td>4.0</td>\n      <td>2.0</td>\n      <td>5.0</td>\n      <td>2</td>\n      <td>...</td>\n      <td>3.0</td>\n      <td>0</td>\n      <td>0</td>\n      <td>0</td>\n      <td>0</td>\n      <td>0</td>\n      <td>0</td>\n      <td>0</td>\n      <td>0</td>\n      <td>2055379.0</td>\n    </tr>\n    <tr>\n      <th>3</th>\n      <td>3</td>\n      <td>02/02/2012</td>\n      <td>Tokat</td>\n      <td>Other</td>\n      <td>IL</td>\n      <td>6</td>\n      <td>4.5</td>\n      <td>6.0</td>\n      <td>6.0</td>\n      <td>4</td>\n      <td>...</td>\n      <td>7.5</td>\n      <td>25</td>\n      <td>12</td>\n      <td>10</td>\n      <td>6</td>\n      <td>18</td>\n      <td>12</td>\n      <td>12</td>\n      <td>6</td>\n      <td>2675511.0</td>\n    </tr>\n    <tr>\n      <th>4</th>\n      <td>4</td>\n      <td>05/09/2009</td>\n      <td>Gaziantep</td>\n      <td>Other</td>\n      <td>IL</td>\n      <td>3</td>\n      <td>4.0</td>\n      <td>3.0</td>\n      <td>4.0</td>\n      <td>2</td>\n      <td>...</td>\n      <td>3.0</td>\n      <td>5</td>\n      <td>1</td>\n      <td>3</td>\n      <td>2</td>\n      <td>3</td>\n      <td>4</td>\n      <td>3</td>\n      <td>3</td>\n      <td>4316715.0</td>\n    </tr>\n    <tr>\n      <th>...</th>\n      <td>...</td>\n      <td>...</td>\n      <td>...</td>\n      <td>...</td>\n      <td>...</td>\n      <td>...</td>\n      <td>...</td>\n      <td>...</td>\n      <td>...</td>\n      <td>...</td>\n      <td>...</td>\n      <td>...</td>\n      <td>...</td>\n      <td>...</td>\n      <td>...</td>\n      <td>...</td>\n      <td>...</td>\n      <td>...</td>\n      <td>...</td>\n      <td>...</td>\n      <td>...</td>\n    </tr>\n    <tr>\n      <th>132</th>\n      <td>132</td>\n      <td>06/25/2008</td>\n      <td>Trabzon</td>\n      <td>Other</td>\n      <td>FC</td>\n      <td>2</td>\n      <td>3.0</td>\n      <td>3.0</td>\n      <td>5.0</td>\n      <td>4</td>\n      <td>...</td>\n      <td>3.0</td>\n      <td>0</td>\n      <td>0</td>\n      <td>0</td>\n      <td>0</td>\n      <td>0</td>\n      <td>0</td>\n      <td>0</td>\n      <td>0</td>\n      <td>5787594.0</td>\n    </tr>\n    <tr>\n      <th>133</th>\n      <td>133</td>\n      <td>10/12/2006</td>\n      <td>İzmir</td>\n      <td>Big Cities</td>\n      <td>FC</td>\n      <td>4</td>\n      <td>5.0</td>\n      <td>4.0</td>\n      <td>4.0</td>\n      <td>2</td>\n      <td>...</td>\n      <td>3.0</td>\n      <td>0</td>\n      <td>0</td>\n      <td>0</td>\n      <td>0</td>\n      <td>0</td>\n      <td>0</td>\n      <td>0</td>\n      <td>0</td>\n      <td>9262754.0</td>\n    </tr>\n    <tr>\n      <th>134</th>\n      <td>134</td>\n      <td>07/08/2006</td>\n      <td>Kayseri</td>\n      <td>Other</td>\n      <td>FC</td>\n      <td>3</td>\n      <td>4.0</td>\n      <td>4.0</td>\n      <td>4.0</td>\n      <td>2</td>\n      <td>...</td>\n      <td>3.0</td>\n      <td>0</td>\n      <td>0</td>\n      <td>0</td>\n      <td>0</td>\n      <td>0</td>\n      <td>0</td>\n      <td>0</td>\n      <td>0</td>\n      <td>2544857.0</td>\n    </tr>\n    <tr>\n      <th>135</th>\n      <td>135</td>\n      <td>10/29/2010</td>\n      <td>İstanbul</td>\n      <td>Big Cities</td>\n      <td>FC</td>\n      <td>4</td>\n      <td>5.0</td>\n      <td>4.0</td>\n      <td>5.0</td>\n      <td>2</td>\n      <td>...</td>\n      <td>3.0</td>\n      <td>0</td>\n      <td>0</td>\n      <td>0</td>\n      <td>0</td>\n      <td>0</td>\n      <td>0</td>\n      <td>0</td>\n      <td>0</td>\n      <td>7217634.0</td>\n    </tr>\n    <tr>\n      <th>136</th>\n      <td>136</td>\n      <td>09/01/2009</td>\n      <td>İstanbul</td>\n      <td>Big Cities</td>\n      <td>FC</td>\n      <td>4</td>\n      <td>5.0</td>\n      <td>3.0</td>\n      <td>5.0</td>\n      <td>2</td>\n      <td>...</td>\n      <td>3.0</td>\n      <td>0</td>\n      <td>0</td>\n      <td>0</td>\n      <td>0</td>\n      <td>0</td>\n      <td>0</td>\n      <td>0</td>\n      <td>0</td>\n      <td>6363241.0</td>\n    </tr>\n  </tbody>\n</table>\n<p>137 rows × 43 columns</p>\n</div>"
     },
     "metadata": {},
     "execution_count": 8
    }
   ],
   "source": [
    "train_import = pd.read_csv(pwd + \"/train.csv\")\n",
    "train_import"
   ]
  },
  {
   "cell_type": "code",
   "execution_count": 25,
   "metadata": {},
   "outputs": [
    {
     "output_type": "execute_result",
     "data": {
      "text/plain": [
       "array([[4., 5., 4., ..., 4., 3., 4.],\n",
       "       [4., 5., 4., ..., 0., 0., 0.],\n",
       "       [2., 4., 2., ..., 0., 0., 0.],\n",
       "       ...,\n",
       "       [3., 4., 4., ..., 0., 0., 0.],\n",
       "       [4., 5., 4., ..., 0., 0., 0.],\n",
       "       [4., 5., 3., ..., 0., 0., 0.]])"
      ]
     },
     "metadata": {},
     "execution_count": 25
    }
   ],
   "source": [
    "x_train = np.array(train_import.iloc[:, 5:-1])\n",
    "x_train"
   ]
  },
  {
   "cell_type": "code",
   "execution_count": 26,
   "metadata": {},
   "outputs": [
    {
     "output_type": "execute_result",
     "data": {
      "text/plain": [
       "array([ 5653753.,  6923131.,  2055379.,  2675511.,  4316715.,  5017319.,\n",
       "        5166635.,  4491607.,  4952497.,  5444227.,  3745135.,  5161370.,\n",
       "        1734634.,  4807746.,  1999097.,  3218918., 19696939.,  8213524.,\n",
       "        5337526.,  2021934.,  5525735.,  1149870.,  3956086.,  2999068.,\n",
       "        8904084.,  3778621.,  2267425.,  5435276.,  4705945.,  3447890.,\n",
       "        3008199.,  2058644.,  3261924.,  2371202.,  4100886.,  3903884.,\n",
       "        3028267.,  2740687.,  5461700.,  3818055.,  6836483.,  4554237.,\n",
       "        4952255.,  2732645.,  4264176.,  3752885.,  4250758.,  7865428.,\n",
       "        7201784.,  8630682.,  2156098.,  3273041.,  1763231.,  5595267.,\n",
       "        4651866.,  6941173.,  2390534.,  3258837.,  3004429.,  3600467.,\n",
       "        3164972.,  4350573.,  5286212.,  1619683.,  2551252.,  1756069.,\n",
       "        1882131.,  4052733.,  3836721.,  3452382.,  3982767.,  4136425.,\n",
       "        2525375.,  3347767.,  5500818., 16549064.,  4590423.,  1904842.,\n",
       "        3871344.,  6313221.,  3727364.,  4066618.,  3807496.,  5966193.,\n",
       "        4250553.,  7495092.,  3351383.,  5906596.,  2025297.,  2364478.,\n",
       "        3426169.,  2083447.,  6782425.,  3410878.,  3753720.,  1270499.,\n",
       "        6412623.,  6694797.,  2344689., 13575224.,  9652350.,  4758476.,\n",
       "        2738052.,  4429512.,  4467728.,  2792031.,  4888774.,  3248660.,\n",
       "        3570392.,  4219263.,  2954086.,  2993069.,  3784230.,  2097022.,\n",
       "        4155435.,  4882985.,  8894598.,  2018785.,  1847826.,  3780019.,\n",
       "        4067566.,  3445076.,  4286645.,  4263629.,  3810007.,  4780607.,\n",
       "        4015749.,  7592272.,  2383840.,  3939804.,  3376145.,  3199619.,\n",
       "        5787594.,  9262754.,  2544857.,  7217634.,  6363241.])"
      ]
     },
     "metadata": {},
     "execution_count": 26
    }
   ],
   "source": [
    "y_train = np.array(train_import[\"revenue\"])\n",
    "y_train"
   ]
  },
  {
   "cell_type": "code",
   "execution_count": 27,
   "metadata": {},
   "outputs": [],
   "source": [
    "from sklearn.model_selection import train_test_split\n",
    "\n",
    "x_train, x_test, y_train, y_test = train_test_split(x_train,y_train,test_size=0.2,random_state=42)"
   ]
  },
  {
   "cell_type": "code",
   "execution_count": 35,
   "metadata": {},
   "outputs": [],
   "source": [
    "from sklearn.preprocessing import StandardScaler\n",
    "\n",
    "sc_x = StandardScaler()\n",
    "\n",
    "x_train = sc_x.fit_transform(x_train)\n",
    "x_test = sc_x.transform(x_test)"
   ]
  },
  {
   "cell_type": "code",
   "execution_count": 34,
   "metadata": {},
   "outputs": [],
   "source": [
    "# There's no revenue data here so I can't really use it with my models, just for entry into the contest\n",
    "\n",
    "# test_import = pd.read_csv(pwd + \"/test.csv\")\n",
    "# test_import"
   ]
  },
  {
   "cell_type": "code",
   "execution_count": 10,
   "metadata": {},
   "outputs": [],
   "source": [
    "test_data = test_import.copy()\n",
    "train_data = train_import.copy()"
   ]
  },
  {
   "cell_type": "code",
   "execution_count": 18,
   "metadata": {},
   "outputs": [
    {
     "output_type": "execute_result",
     "data": {
      "text/plain": [
       "array([[ 1. ,  4. ,  4. , ...,  0. ,  0. ,  0. ],\n",
       "       [ 3. ,  4. ,  4. , ...,  0. ,  0. ,  0. ],\n",
       "       [ 3. ,  4. ,  4. , ...,  0. ,  0. ,  0. ],\n",
       "       ...,\n",
       "       [ 4. ,  5. ,  4. , ...,  4. ,  4. ,  2. ],\n",
       "       [12. ,  7.5,  6. , ...,  0. ,  0. ,  0. ],\n",
       "       [ 2. ,  5. ,  4. , ...,  4. ,  2. ,  0. ]])"
      ]
     },
     "metadata": {},
     "execution_count": 18
    }
   ],
   "source": [
    "x_test = np.array(test_data.iloc[:, 5:])\n",
    "x_test"
   ]
  },
  {
   "cell_type": "code",
   "execution_count": 19,
   "metadata": {},
   "outputs": [
    {
     "output_type": "execute_result",
     "data": {
      "text/plain": [
       "array([[4., 5., 4., ..., 4., 3., 4.],\n",
       "       [4., 5., 4., ..., 0., 0., 0.],\n",
       "       [2., 4., 2., ..., 0., 0., 0.],\n",
       "       ...,\n",
       "       [3., 4., 4., ..., 0., 0., 0.],\n",
       "       [4., 5., 4., ..., 0., 0., 0.],\n",
       "       [4., 5., 3., ..., 0., 0., 0.]])"
      ]
     },
     "metadata": {},
     "execution_count": 19
    }
   ],
   "source": [
    "x_train = np.array(train_data.iloc[:, 5:-1])\n",
    "x_train"
   ]
  },
  {
   "cell_type": "code",
   "execution_count": 13,
   "metadata": {},
   "outputs": [
    {
     "output_type": "execute_result",
     "data": {
      "text/plain": [
       "array([ 5653753.,  6923131.,  2055379.,  2675511.,  4316715.,  5017319.,\n",
       "        5166635.,  4491607.,  4952497.,  5444227.,  3745135.,  5161370.,\n",
       "        1734634.,  4807746.,  1999097.,  3218918., 19696939.,  8213524.,\n",
       "        5337526.,  2021934.,  5525735.,  1149870.,  3956086.,  2999068.,\n",
       "        8904084.,  3778621.,  2267425.,  5435276.,  4705945.,  3447890.,\n",
       "        3008199.,  2058644.,  3261924.,  2371202.,  4100886.,  3903884.,\n",
       "        3028267.,  2740687.,  5461700.,  3818055.,  6836483.,  4554237.,\n",
       "        4952255.,  2732645.,  4264176.,  3752885.,  4250758.,  7865428.,\n",
       "        7201784.,  8630682.,  2156098.,  3273041.,  1763231.,  5595267.,\n",
       "        4651866.,  6941173.,  2390534.,  3258837.,  3004429.,  3600467.,\n",
       "        3164972.,  4350573.,  5286212.,  1619683.,  2551252.,  1756069.,\n",
       "        1882131.,  4052733.,  3836721.,  3452382.,  3982767.,  4136425.,\n",
       "        2525375.,  3347767.,  5500818., 16549064.,  4590423.,  1904842.,\n",
       "        3871344.,  6313221.,  3727364.,  4066618.,  3807496.,  5966193.,\n",
       "        4250553.,  7495092.,  3351383.,  5906596.,  2025297.,  2364478.,\n",
       "        3426169.,  2083447.,  6782425.,  3410878.,  3753720.,  1270499.,\n",
       "        6412623.,  6694797.,  2344689., 13575224.,  9652350.,  4758476.,\n",
       "        2738052.,  4429512.,  4467728.,  2792031.,  4888774.,  3248660.,\n",
       "        3570392.,  4219263.,  2954086.,  2993069.,  3784230.,  2097022.,\n",
       "        4155435.,  4882985.,  8894598.,  2018785.,  1847826.,  3780019.,\n",
       "        4067566.,  3445076.,  4286645.,  4263629.,  3810007.,  4780607.,\n",
       "        4015749.,  7592272.,  2383840.,  3939804.,  3376145.,  3199619.,\n",
       "        5787594.,  9262754.,  2544857.,  7217634.,  6363241.])"
      ]
     },
     "metadata": {},
     "execution_count": 13
    }
   ],
   "source": [
    "y_train = np.array(train_data[\"revenue\"])\n",
    "y_train"
   ]
  },
  {
   "source": [
    "Receiving a \"direct kernel connection broken\" error here"
   ],
   "cell_type": "markdown",
   "metadata": {}
  },
  {
   "cell_type": "code",
   "execution_count": 7,
   "metadata": {},
   "outputs": [
    {
     "output_type": "stream",
     "name": "stdout",
     "text": [
      "Train on 137 samples\nEpoch 1/100\n"
     ]
    }
   ],
   "source": [
    "model = keras.models.Sequential([\n",
    "    keras.layers.Flatten(),\n",
    "    keras.layers.Dense(units=128, activation='relu'),\n",
    "    keras.layers.Dense(units=64)\n",
    "])\n",
    "\n",
    "model.compile(optimizer='adam', loss='mse', metrics=['mae'])\n",
    "\n",
    "history = model.fit(x_train, y_train, epochs=100)"
   ]
  },
  {
   "cell_type": "code",
   "execution_count": 7,
   "metadata": {},
   "outputs": [
    {
     "output_type": "stream",
     "name": "stdout",
     "text": [
      "Train on 10 samples\nEpoch 1/100\n"
     ]
    }
   ],
   "source": [
    "rooms = np.array(range(1, 11))\n",
    "price = np.array(range(100, 600, 50))\n",
    "\n",
    "model = keras.models.Sequential([\n",
    "    keras.layers.Flatten(),\n",
    "    keras.layers.Dense(units=128, activation='relu'),\n",
    "    keras.layers.Dense(units=64) \n",
    "])\n",
    "\n",
    "model.compile(optimizer='adam', loss='mse', metrics=['mae'])\n",
    "\n",
    "history = model.fit(rooms, price, epochs=100)\n",
    "\n",
    "print(model.predict([7.0]))"
   ]
  },
  {
   "source": [
    "# Multiple Linear Regression"
   ],
   "cell_type": "markdown",
   "metadata": {}
  },
  {
   "cell_type": "code",
   "execution_count": 36,
   "metadata": {},
   "outputs": [],
   "source": [
    "# # Scaling values\n",
    "# from sklearn.compose import ColumnTransformer\n",
    "# from sklearn.preprocessing import OneHotEncoder\n",
    "\n",
    "# ct = ColumnTransformer(transformers=[('encoder', OneHotEncoder(), (0, 1, 2))], remainder='passthrough')\n",
    "# X = np.array(ct.fit_transform(x_train))\n",
    "# X"
   ]
  },
  {
   "cell_type": "code",
   "execution_count": 49,
   "metadata": {},
   "outputs": [
    {
     "output_type": "execute_result",
     "data": {
      "text/plain": [
       "LinearRegression()"
      ]
     },
     "metadata": {},
     "execution_count": 49
    }
   ],
   "source": [
    "from sklearn.linear_model import LinearRegression\n",
    "from sklearn.metrics import mean_squared_error\n",
    "\n",
    "regressor = LinearRegression()\n",
    "regressor.fit(x_train, y_train)"
   ]
  },
  {
   "cell_type": "code",
   "execution_count": 38,
   "metadata": {},
   "outputs": [
    {
     "output_type": "execute_result",
     "data": {
      "text/plain": [
       "array([ 2480433.55, -2676811.92,  1974982.26,  5085938.51,  4797791.87,\n",
       "        4034271.49,  7476796.34,  1834625.38,  4885354.53,  4631910.08,\n",
       "        1218920.96,  -320206.43,  3706689.01,  7069159.62,  1502641.59,\n",
       "        3083970.4 ,  4548768.2 ,  4147395.18,  3552766.81,  4073549.57,\n",
       "       -6033368.5 ,  2465801.73,  4824766.74,  3218442.01,  3994736.93,\n",
       "        5066134.53,  4388800.31,  3697780.8 ])"
      ]
     },
     "metadata": {},
     "execution_count": 38
    }
   ],
   "source": [
    "y_pred = regressor.predict(x_test)\n",
    "y_pred"
   ]
  },
  {
   "cell_type": "code",
   "execution_count": 39,
   "metadata": {},
   "outputs": [
    {
     "output_type": "stream",
     "name": "stdout",
     "text": [
      "[[ 2480433.55  2792031.  ]\n [-2676811.92  4467728.  ]\n [ 1974982.26  1734634.  ]\n [ 5085938.51  2267425.  ]\n [ 4797791.87  4263629.  ]\n [ 4034271.49  1882131.  ]\n [ 7476796.34  2551252.  ]\n [ 1834625.38  4882985.  ]\n [ 4885354.53  9262754.  ]\n [ 4631910.08  7495092.  ]\n [ 1218920.96  4250553.  ]\n [ -320206.43  3752885.  ]\n [ 3706689.01  3452382.  ]\n [ 7069159.62  4052733.  ]\n [ 1502641.59  2058644.  ]\n [ 3083970.4   4952255.  ]\n [ 4548768.2   5435276.  ]\n [ 4147395.18  2021934.  ]\n [ 3552766.81  5787594.  ]\n [ 4073549.57  2390534.  ]\n [-6033368.5   4780607.  ]\n [ 2465801.73  4316715.  ]\n [ 4824766.74  4219263.  ]\n [ 3218442.01  3028267.  ]\n [ 3994736.93  2364478.  ]\n [ 5066134.53  9652350.  ]\n [ 4388800.31 19696939.  ]\n [ 3697780.8   5337526.  ]]\n"
     ]
    }
   ],
   "source": [
    "print(np.concatenate((y_pred.reshape(len(y_pred), 1), y_test.reshape(len(y_test), 1)), axis=1))"
   ]
  },
  {
   "source": [
    "# Support Vector Machines"
   ],
   "cell_type": "markdown",
   "metadata": {}
  },
  {
   "cell_type": "code",
   "execution_count": 62,
   "metadata": {},
   "outputs": [
    {
     "output_type": "execute_result",
     "data": {
      "text/plain": [
       "SVR()"
      ]
     },
     "metadata": {},
     "execution_count": 62
    }
   ],
   "source": [
    "from sklearn.svm import SVR\n",
    "regressor = SVR(kernel='rbf')\n",
    "regressor.fit(x_train, y_train)"
   ]
  },
  {
   "cell_type": "code",
   "execution_count": 63,
   "metadata": {},
   "outputs": [
    {
     "output_type": "stream",
     "name": "stdout",
     "text": [
      "[[ 3871336.15  2792031.  ]\n [ 3871345.3   4467728.  ]\n [ 3871335.6   1734634.  ]\n [ 3871345.26  2267425.  ]\n [ 3871335.77  4263629.  ]\n [ 3871335.99  1882131.  ]\n [ 3871344.37  2551252.  ]\n [ 3871344.17  4882985.  ]\n [ 3871337.63  9262754.  ]\n [ 3871337.51  7495092.  ]\n [ 3871345.41  4250553.  ]\n [ 3871345.54  3752885.  ]\n [ 3871335.97  3452382.  ]\n [ 3871341.41  4052733.  ]\n [ 3871345.48  2058644.  ]\n [ 3871345.87  4952255.  ]\n [ 3871341.91  5435276.  ]\n [ 3871336.    2021934.  ]\n [ 3871335.96  5787594.  ]\n [ 3871338.32  2390534.  ]\n [ 3871343.84  4780607.  ]\n [ 3871343.86  4316715.  ]\n [ 3871337.29  4219263.  ]\n [ 3871340.64  3028267.  ]\n [ 3871342.09  2364478.  ]\n [ 3871338.71  9652350.  ]\n [ 3871337.55 19696939.  ]\n [ 3871347.38  5337526.  ]]\n"
     ]
    }
   ],
   "source": [
    "y_pred = regressor.predict(x_test)\n",
    "print(np.concatenate((y_pred.reshape(len(y_pred), 1), y_test.reshape(len(y_test), 1)), axis=1))"
   ]
  },
  {
   "cell_type": "code",
   "execution_count": 64,
   "metadata": {},
   "outputs": [
    {
     "output_type": "execute_result",
     "data": {
      "text/plain": [
       "3607695.1901047085"
      ]
     },
     "metadata": {},
     "execution_count": 64
    }
   ],
   "source": [
    "rmse = np.sqrt(mean_squared_error(y_test, y_pred))\n",
    "rmse"
   ]
  },
  {
   "cell_type": "code",
   "execution_count": 42,
   "metadata": {},
   "outputs": [
    {
     "output_type": "execute_result",
     "data": {
      "text/plain": [
       "array([[-1.73, -4.16, -3.45, ..., -0.79, -0.7 , -1.01],\n",
       "       [-1.38, -2.76, -4.34, ..., -0.4 , -0.5 , -0.35],\n",
       "       [-1.62, -4.16, -4.34, ..., -0.79, -0.7 , -1.01],\n",
       "       ...,\n",
       "       [-1.5 , -2.76, -4.34, ..., -0.79, -0.7 , -1.01],\n",
       "       [-1.5 , -2.76, -4.34, ..., -0.79, -0.7 , -1.01],\n",
       "       [-1.38, -2.76, -4.34, ..., -0.4 , -0.5 , -0.35]])"
      ]
     },
     "metadata": {},
     "execution_count": 42
    }
   ],
   "source": [
    "y_pred"
   ]
  },
  {
   "source": [
    "# XGBoost"
   ],
   "cell_type": "markdown",
   "metadata": {}
  },
  {
   "cell_type": "code",
   "execution_count": 91,
   "metadata": {},
   "outputs": [],
   "source": [
    "import xgboost as xgb"
   ]
  },
  {
   "cell_type": "code",
   "execution_count": 92,
   "metadata": {},
   "outputs": [],
   "source": [
    "# Convert the dataset into an optimized data structure called Dmatrix that XGBoost supports and gives it acclaimed performance and efficiency gains.\n",
    "\n",
    "data_dmatrix = xgb.DMatrix(data=x_train, label=y_train)"
   ]
  },
  {
   "cell_type": "code",
   "execution_count": 93,
   "metadata": {},
   "outputs": [
    {
     "output_type": "stream",
     "name": "stdout",
     "text": [
      "[22:24:48] WARNING: /Users/runner/miniforge3/conda-bld/xgboost_1607604592557/work/src/objective/regression_obj.cu:170: reg:linear is now deprecated in favor of reg:squarederror.\n"
     ]
    },
    {
     "output_type": "execute_result",
     "data": {
      "text/plain": [
       "XGBRegressor(alpha=10, base_score=0.5, booster='gbtree', colsample_bylevel=1,\n",
       "             colsample_bynode=1, colsample_bytree=0.3, gamma=0, gpu_id=-1,\n",
       "             importance_type='gain', interaction_constraints='',\n",
       "             learning_rate=0.1, max_delta_step=0, max_depth=5,\n",
       "             min_child_weight=1, missing=nan, monotone_constraints='()',\n",
       "             n_estimators=37, n_jobs=12, num_parallel_tree=1,\n",
       "             objective='reg:linear', random_state=0, reg_alpha=10, reg_lambda=1,\n",
       "             scale_pos_weight=1, subsample=1, tree_method='exact',\n",
       "             validate_parameters=1, verbosity=None)"
      ]
     },
     "metadata": {},
     "execution_count": 93
    }
   ],
   "source": [
    "xg_reg = xgb.XGBRegressor(objective='reg:linear', colsample_bytree=0.3, learning_rate=0.1, max_depth = 5, alpha=10, n_estimators=37)\n",
    "xg_reg.fit(x_train, y_train)"
   ]
  },
  {
   "cell_type": "code",
   "execution_count": 94,
   "metadata": {},
   "outputs": [
    {
     "output_type": "execute_result",
     "data": {
      "text/plain": [
       "3397373.678355542"
      ]
     },
     "metadata": {},
     "execution_count": 94
    }
   ],
   "source": [
    "y_pred = xg_reg.predict(x_test)\n",
    "rmse = np.sqrt(mean_squared_error(y_test, y_pred))\n",
    "rmse"
   ]
  },
  {
   "cell_type": "code",
   "execution_count": 95,
   "metadata": {},
   "outputs": [
    {
     "output_type": "execute_result",
     "data": {
      "text/plain": [
       "     Predicted      Actual   Difference\n",
       "0   2396398.75   2792031.0   -395632.25\n",
       "1   4310062.50   4467728.0  -2071329.25\n",
       "2   3028950.75   1734634.0    661764.75\n",
       "3   4402993.00   2267425.0    128973.75\n",
       "4   3269804.50   4263629.0  -1867230.25\n",
       "5   2949179.50   1882131.0    514267.75\n",
       "6   3877983.50   2551252.0   -154853.25\n",
       "7   3740843.50   4882985.0  -2486586.25\n",
       "8   5836961.50   9262754.0  -6866355.25\n",
       "9   4540477.00   7495092.0  -5098693.25\n",
       "10  4236761.00   4250553.0  -1854154.25\n",
       "11  4955568.00   3752885.0  -1356486.25\n",
       "12  3228476.00   3452382.0  -1055983.25\n",
       "13  7374976.00   4052733.0  -1656334.25\n",
       "14  4596433.50   2058644.0    337754.75\n",
       "15  5069091.50   4952255.0  -2555856.25\n",
       "16  5225313.00   5435276.0  -3038877.25\n",
       "17  3150295.50   2021934.0    374464.75\n",
       "18  3470713.25   5787594.0  -3391195.25\n",
       "19  4864527.50   2390534.0      5864.75\n",
       "20  3644225.00   4780607.0  -2384208.25\n",
       "21  4154103.50   4316715.0  -1920316.25\n",
       "22  3921966.25   4219263.0  -1822864.25\n",
       "23  4493270.50   3028267.0   -631868.25\n",
       "24  3521163.25   2364478.0     31920.75\n",
       "25  4546734.50   9652350.0  -7255951.25\n",
       "26  4617690.50  19696939.0 -17300540.25\n",
       "27  4352279.00   5337526.0  -2941127.25"
      ],
      "text/html": "<div>\n<style scoped>\n    .dataframe tbody tr th:only-of-type {\n        vertical-align: middle;\n    }\n\n    .dataframe tbody tr th {\n        vertical-align: top;\n    }\n\n    .dataframe thead th {\n        text-align: right;\n    }\n</style>\n<table border=\"1\" class=\"dataframe\">\n  <thead>\n    <tr style=\"text-align: right;\">\n      <th></th>\n      <th>Predicted</th>\n      <th>Actual</th>\n      <th>Difference</th>\n    </tr>\n  </thead>\n  <tbody>\n    <tr>\n      <th>0</th>\n      <td>2396398.75</td>\n      <td>2792031.0</td>\n      <td>-395632.25</td>\n    </tr>\n    <tr>\n      <th>1</th>\n      <td>4310062.50</td>\n      <td>4467728.0</td>\n      <td>-2071329.25</td>\n    </tr>\n    <tr>\n      <th>2</th>\n      <td>3028950.75</td>\n      <td>1734634.0</td>\n      <td>661764.75</td>\n    </tr>\n    <tr>\n      <th>3</th>\n      <td>4402993.00</td>\n      <td>2267425.0</td>\n      <td>128973.75</td>\n    </tr>\n    <tr>\n      <th>4</th>\n      <td>3269804.50</td>\n      <td>4263629.0</td>\n      <td>-1867230.25</td>\n    </tr>\n    <tr>\n      <th>5</th>\n      <td>2949179.50</td>\n      <td>1882131.0</td>\n      <td>514267.75</td>\n    </tr>\n    <tr>\n      <th>6</th>\n      <td>3877983.50</td>\n      <td>2551252.0</td>\n      <td>-154853.25</td>\n    </tr>\n    <tr>\n      <th>7</th>\n      <td>3740843.50</td>\n      <td>4882985.0</td>\n      <td>-2486586.25</td>\n    </tr>\n    <tr>\n      <th>8</th>\n      <td>5836961.50</td>\n      <td>9262754.0</td>\n      <td>-6866355.25</td>\n    </tr>\n    <tr>\n      <th>9</th>\n      <td>4540477.00</td>\n      <td>7495092.0</td>\n      <td>-5098693.25</td>\n    </tr>\n    <tr>\n      <th>10</th>\n      <td>4236761.00</td>\n      <td>4250553.0</td>\n      <td>-1854154.25</td>\n    </tr>\n    <tr>\n      <th>11</th>\n      <td>4955568.00</td>\n      <td>3752885.0</td>\n      <td>-1356486.25</td>\n    </tr>\n    <tr>\n      <th>12</th>\n      <td>3228476.00</td>\n      <td>3452382.0</td>\n      <td>-1055983.25</td>\n    </tr>\n    <tr>\n      <th>13</th>\n      <td>7374976.00</td>\n      <td>4052733.0</td>\n      <td>-1656334.25</td>\n    </tr>\n    <tr>\n      <th>14</th>\n      <td>4596433.50</td>\n      <td>2058644.0</td>\n      <td>337754.75</td>\n    </tr>\n    <tr>\n      <th>15</th>\n      <td>5069091.50</td>\n      <td>4952255.0</td>\n      <td>-2555856.25</td>\n    </tr>\n    <tr>\n      <th>16</th>\n      <td>5225313.00</td>\n      <td>5435276.0</td>\n      <td>-3038877.25</td>\n    </tr>\n    <tr>\n      <th>17</th>\n      <td>3150295.50</td>\n      <td>2021934.0</td>\n      <td>374464.75</td>\n    </tr>\n    <tr>\n      <th>18</th>\n      <td>3470713.25</td>\n      <td>5787594.0</td>\n      <td>-3391195.25</td>\n    </tr>\n    <tr>\n      <th>19</th>\n      <td>4864527.50</td>\n      <td>2390534.0</td>\n      <td>5864.75</td>\n    </tr>\n    <tr>\n      <th>20</th>\n      <td>3644225.00</td>\n      <td>4780607.0</td>\n      <td>-2384208.25</td>\n    </tr>\n    <tr>\n      <th>21</th>\n      <td>4154103.50</td>\n      <td>4316715.0</td>\n      <td>-1920316.25</td>\n    </tr>\n    <tr>\n      <th>22</th>\n      <td>3921966.25</td>\n      <td>4219263.0</td>\n      <td>-1822864.25</td>\n    </tr>\n    <tr>\n      <th>23</th>\n      <td>4493270.50</td>\n      <td>3028267.0</td>\n      <td>-631868.25</td>\n    </tr>\n    <tr>\n      <th>24</th>\n      <td>3521163.25</td>\n      <td>2364478.0</td>\n      <td>31920.75</td>\n    </tr>\n    <tr>\n      <th>25</th>\n      <td>4546734.50</td>\n      <td>9652350.0</td>\n      <td>-7255951.25</td>\n    </tr>\n    <tr>\n      <th>26</th>\n      <td>4617690.50</td>\n      <td>19696939.0</td>\n      <td>-17300540.25</td>\n    </tr>\n    <tr>\n      <th>27</th>\n      <td>4352279.00</td>\n      <td>5337526.0</td>\n      <td>-2941127.25</td>\n    </tr>\n  </tbody>\n</table>\n</div>"
     },
     "metadata": {},
     "execution_count": 95
    }
   ],
   "source": [
    "differences = [i - j for i in y_pred for j in y_test]\n",
    "evaluation_values = list(zip(y_pred,y_test, differences))\n",
    "\n",
    "pd.DataFrame(data=evaluation_values, columns=[\"Predicted\", \"Actual\", \"Difference\"])"
   ]
  },
  {
   "source": [
    "# XGBoost: Determining the Best Predictor"
   ],
   "cell_type": "markdown",
   "metadata": {}
  },
  {
   "cell_type": "code",
   "execution_count": 96,
   "metadata": {},
   "outputs": [
    {
     "output_type": "execute_result",
     "data": {
      "text/plain": [
       "['P1',\n",
       " 'P2',\n",
       " 'P3',\n",
       " 'P4',\n",
       " 'P5',\n",
       " 'P6',\n",
       " 'P7',\n",
       " 'P8',\n",
       " 'P9',\n",
       " 'P10',\n",
       " 'P11',\n",
       " 'P12',\n",
       " 'P13',\n",
       " 'P14',\n",
       " 'P15',\n",
       " 'P16',\n",
       " 'P17',\n",
       " 'P18',\n",
       " 'P19',\n",
       " 'P20',\n",
       " 'P21',\n",
       " 'P22',\n",
       " 'P23',\n",
       " 'P24',\n",
       " 'P25',\n",
       " 'P26',\n",
       " 'P27',\n",
       " 'P28',\n",
       " 'P29',\n",
       " 'P30',\n",
       " 'P31',\n",
       " 'P32',\n",
       " 'P33',\n",
       " 'P34',\n",
       " 'P35',\n",
       " 'P36',\n",
       " 'P37']"
      ]
     },
     "metadata": {},
     "execution_count": 96
    }
   ],
   "source": [
    "data_columns = list(train_data.columns[5: -1])\n",
    "data_columns"
   ]
  },
  {
   "cell_type": "code",
   "execution_count": 110,
   "metadata": {},
   "outputs": [
    {
     "output_type": "stream",
     "name": "stdout",
     "text": [
      "[22:29:35] WARNING: /Users/runner/miniforge3/conda-bld/xgboost_1607604592557/work/src/objective/regression_obj.cu:170: reg:linear is now deprecated in favor of reg:squarederror.\n",
      "[22:29:35] WARNING: /Users/runner/miniforge3/conda-bld/xgboost_1607604592557/work/src/objective/regression_obj.cu:170: reg:linear is now deprecated in favor of reg:squarederror.\n",
      "[22:29:35] WARNING: /Users/runner/miniforge3/conda-bld/xgboost_1607604592557/work/src/objective/regression_obj.cu:170: reg:linear is now deprecated in favor of reg:squarederror.\n",
      "[22:29:35] WARNING: /Users/runner/miniforge3/conda-bld/xgboost_1607604592557/work/src/objective/regression_obj.cu:170: reg:linear is now deprecated in favor of reg:squarederror.\n",
      "[22:29:35] WARNING: /Users/runner/miniforge3/conda-bld/xgboost_1607604592557/work/src/objective/regression_obj.cu:170: reg:linear is now deprecated in favor of reg:squarederror.\n",
      "[22:29:35] WARNING: /Users/runner/miniforge3/conda-bld/xgboost_1607604592557/work/src/objective/regression_obj.cu:170: reg:linear is now deprecated in favor of reg:squarederror.\n",
      "[22:29:35] WARNING: /Users/runner/miniforge3/conda-bld/xgboost_1607604592557/work/src/objective/regression_obj.cu:170: reg:linear is now deprecated in favor of reg:squarederror.\n",
      "[22:29:35] WARNING: /Users/runner/miniforge3/conda-bld/xgboost_1607604592557/work/src/objective/regression_obj.cu:170: reg:linear is now deprecated in favor of reg:squarederror.\n",
      "[22:29:35] WARNING: /Users/runner/miniforge3/conda-bld/xgboost_1607604592557/work/src/objective/regression_obj.cu:170: reg:linear is now deprecated in favor of reg:squarederror.\n",
      "[22:29:35] WARNING: /Users/runner/miniforge3/conda-bld/xgboost_1607604592557/work/src/objective/regression_obj.cu:170: reg:linear is now deprecated in favor of reg:squarederror.\n",
      "[22:29:35] WARNING: /Users/runner/miniforge3/conda-bld/xgboost_1607604592557/work/src/objective/regression_obj.cu:170: reg:linear is now deprecated in favor of reg:squarederror.\n",
      "[22:29:35] WARNING: /Users/runner/miniforge3/conda-bld/xgboost_1607604592557/work/src/objective/regression_obj.cu:170: reg:linear is now deprecated in favor of reg:squarederror.\n",
      "[22:29:35] WARNING: /Users/runner/miniforge3/conda-bld/xgboost_1607604592557/work/src/objective/regression_obj.cu:170: reg:linear is now deprecated in favor of reg:squarederror.\n",
      "[22:29:35] WARNING: /Users/runner/miniforge3/conda-bld/xgboost_1607604592557/work/src/objective/regression_obj.cu:170: reg:linear is now deprecated in favor of reg:squarederror.\n",
      "[22:29:35] WARNING: /Users/runner/miniforge3/conda-bld/xgboost_1607604592557/work/src/objective/regression_obj.cu:170: reg:linear is now deprecated in favor of reg:squarederror.\n",
      "[22:29:35] WARNING: /Users/runner/miniforge3/conda-bld/xgboost_1607604592557/work/src/objective/regression_obj.cu:170: reg:linear is now deprecated in favor of reg:squarederror.\n",
      "[22:29:35] WARNING: /Users/runner/miniforge3/conda-bld/xgboost_1607604592557/work/src/objective/regression_obj.cu:170: reg:linear is now deprecated in favor of reg:squarederror.\n",
      "[22:29:35] WARNING: /Users/runner/miniforge3/conda-bld/xgboost_1607604592557/work/src/objective/regression_obj.cu:170: reg:linear is now deprecated in favor of reg:squarederror.\n",
      "[22:29:35] WARNING: /Users/runner/miniforge3/conda-bld/xgboost_1607604592557/work/src/objective/regression_obj.cu:170: reg:linear is now deprecated in favor of reg:squarederror.\n",
      "[22:29:35] WARNING: /Users/runner/miniforge3/conda-bld/xgboost_1607604592557/work/src/objective/regression_obj.cu:170: reg:linear is now deprecated in favor of reg:squarederror.\n",
      "[22:29:35] WARNING: /Users/runner/miniforge3/conda-bld/xgboost_1607604592557/work/src/objective/regression_obj.cu:170: reg:linear is now deprecated in favor of reg:squarederror.\n",
      "[22:29:35] WARNING: /Users/runner/miniforge3/conda-bld/xgboost_1607604592557/work/src/objective/regression_obj.cu:170: reg:linear is now deprecated in favor of reg:squarederror.\n",
      "[22:29:35] WARNING: /Users/runner/miniforge3/conda-bld/xgboost_1607604592557/work/src/objective/regression_obj.cu:170: reg:linear is now deprecated in favor of reg:squarederror.\n",
      "[22:29:35] WARNING: /Users/runner/miniforge3/conda-bld/xgboost_1607604592557/work/src/objective/regression_obj.cu:170: reg:linear is now deprecated in favor of reg:squarederror.\n",
      "[22:29:35] WARNING: /Users/runner/miniforge3/conda-bld/xgboost_1607604592557/work/src/objective/regression_obj.cu:170: reg:linear is now deprecated in favor of reg:squarederror.\n",
      "[22:29:35] WARNING: /Users/runner/miniforge3/conda-bld/xgboost_1607604592557/work/src/objective/regression_obj.cu:170: reg:linear is now deprecated in favor of reg:squarederror.\n",
      "[22:29:35] WARNING: /Users/runner/miniforge3/conda-bld/xgboost_1607604592557/work/src/objective/regression_obj.cu:170: reg:linear is now deprecated in favor of reg:squarederror.\n",
      "[22:29:35] WARNING: /Users/runner/miniforge3/conda-bld/xgboost_1607604592557/work/src/objective/regression_obj.cu:170: reg:linear is now deprecated in favor of reg:squarederror.\n",
      "[22:29:35] WARNING: /Users/runner/miniforge3/conda-bld/xgboost_1607604592557/work/src/objective/regression_obj.cu:170: reg:linear is now deprecated in favor of reg:squarederror.\n",
      "[22:29:35] WARNING: /Users/runner/miniforge3/conda-bld/xgboost_1607604592557/work/src/objective/regression_obj.cu:170: reg:linear is now deprecated in favor of reg:squarederror.\n",
      "[22:29:35] WARNING: /Users/runner/miniforge3/conda-bld/xgboost_1607604592557/work/src/objective/regression_obj.cu:170: reg:linear is now deprecated in favor of reg:squarederror.\n",
      "[22:29:35] WARNING: /Users/runner/miniforge3/conda-bld/xgboost_1607604592557/work/src/objective/regression_obj.cu:170: reg:linear is now deprecated in favor of reg:squarederror.\n",
      "[22:29:35] WARNING: /Users/runner/miniforge3/conda-bld/xgboost_1607604592557/work/src/objective/regression_obj.cu:170: reg:linear is now deprecated in favor of reg:squarederror.\n",
      "[22:29:35] WARNING: /Users/runner/miniforge3/conda-bld/xgboost_1607604592557/work/src/objective/regression_obj.cu:170: reg:linear is now deprecated in favor of reg:squarederror.\n",
      "[22:29:35] WARNING: /Users/runner/miniforge3/conda-bld/xgboost_1607604592557/work/src/objective/regression_obj.cu:170: reg:linear is now deprecated in favor of reg:squarederror.\n",
      "[22:29:35] WARNING: /Users/runner/miniforge3/conda-bld/xgboost_1607604592557/work/src/objective/regression_obj.cu:170: reg:linear is now deprecated in favor of reg:squarederror.\n",
      "[22:29:35] WARNING: /Users/runner/miniforge3/conda-bld/xgboost_1607604592557/work/src/objective/regression_obj.cu:170: reg:linear is now deprecated in favor of reg:squarederror.\n"
     ]
    },
    {
     "output_type": "execute_result",
     "data": {
      "text/plain": [
       "[('P1', 4055429.5598395076),\n",
       " ('P2', 3902955.1874582013),\n",
       " ('P3', 3988268.554669144),\n",
       " ('P4', 3997695.299494247),\n",
       " ('P5', 3987322.6667521233),\n",
       " ('P6', 3962508.169753699),\n",
       " ('P7', 3991173.1431297534),\n",
       " ('P8', 3979728.282420966),\n",
       " ('P9', 3993454.9892118177),\n",
       " ('P10', 3940302.98273921),\n",
       " ('P11', 3970171.0337823248),\n",
       " ('P12', 4091517.5480089905),\n",
       " ('P13', 3937221.211140536),\n",
       " ('P14', 4069553.893310859),\n",
       " ('P15', 4011910.8906503166),\n",
       " ('P16', 4035851.878988354),\n",
       " ('P17', 4050546.4354938306),\n",
       " ('P18', 4040869.923313019),\n",
       " ('P19', 4084850.218645744),\n",
       " ('P20', 3945643.9584370037),\n",
       " ('P21', 4008773.077968041),\n",
       " ('P22', 4003420.9105809764),\n",
       " ('P23', 4037171.7264988944),\n",
       " ('P24', 4020063.665000636),\n",
       " ('P25', 4030530.705422222),\n",
       " ('P26', 4028384.287320061),\n",
       " ('P27', 3990357.757425615),\n",
       " ('P28', 4009201.4519840353),\n",
       " ('P29', 4024007.422628658),\n",
       " ('P30', 4027848.396975335),\n",
       " ('P31', 4015067.7634051),\n",
       " ('P32', 4036956.789382087),\n",
       " ('P33', 3993118.3408750035),\n",
       " ('P34', 4024281.2036644714),\n",
       " ('P35', 4028342.378940913),\n",
       " ('P36', 4051288.696670842),\n",
       " ('P37', 4006557.8866699794)]"
      ]
     },
     "metadata": {},
     "execution_count": 110
    }
   ],
   "source": [
    "rmse_values = []\n",
    "\n",
    "xg_reg = xgb.XGBRegressor(objective='reg:linear', colsample_bytree=0.3, learning_rate=0.1, max_depth = 5, alpha=10, n_estimators=10)\n",
    "\n",
    "for i in data_columns:\n",
    "    x_train_shrunk = np.array([[x] for x in x_train[:, data_columns.index(i)]])\n",
    "    x_test_shrunk = np.array(np.array([[x] for x in x_test[:, data_columns.index(i)]]))\n",
    "    xg_reg.fit(x_train_shrunk, y_train)\n",
    "    y_pred = xg_reg.predict(x_test_shrunk)\n",
    "    rmse = np.sqrt(mean_squared_error(y_test, y_pred))\n",
    "\n",
    "    rmse_values.append(rmse)\n",
    "\n",
    "list(zip(data_columns, rmse_values))"
   ]
  },
  {
   "cell_type": "code",
   "execution_count": 105,
   "metadata": {},
   "outputs": [
    {
     "output_type": "execute_result",
     "data": {
      "text/plain": [
       "array([[-1.04, -1.66,  0.65, ..., -0.6 , -0.56, -0.64],\n",
       "       [-0.01,  0.38, -0.29, ...,  0.64,  0.23,  0.51],\n",
       "       [-0.7 , -1.66, -0.29, ..., -0.6 , -0.56, -0.64],\n",
       "       ...,\n",
       "       [-0.35,  0.38, -0.29, ..., -0.6 , -0.56, -0.64],\n",
       "       [-0.35,  0.38, -0.29, ..., -0.6 , -0.56, -0.64],\n",
       "       [-0.01,  0.38, -0.29, ...,  0.64,  0.23,  0.51]])"
      ]
     },
     "metadata": {},
     "execution_count": 105
    }
   ],
   "source": [
    "x_test"
   ]
  },
  {
   "cell_type": "code",
   "execution_count": 102,
   "metadata": {},
   "outputs": [
    {
     "output_type": "execute_result",
     "data": {
      "text/plain": [
       "[[-0.6438017133089915],\n",
       " [-0.6438017133089915],\n",
       " [-0.6438017133089915],\n",
       " [0.5065980694890425],\n",
       " [-0.06860182190997448],\n",
       " [-0.6438017133089915],\n",
       " [-0.6438017133089915],\n",
       " [-0.06860182190997448],\n",
       " [1.6569978522870765],\n",
       " [1.6569978522870765],\n",
       " [0.5065980694890425],\n",
       " [1.0817979608880595],\n",
       " [0.5065980694890425],\n",
       " [0.5065980694890425],\n",
       " [0.5065980694890425],\n",
       " [2.8073976350851106],\n",
       " [1.0817979608880595],\n",
       " [1.6569978522870765],\n",
       " [1.6569978522870765],\n",
       " [-0.6438017133089915],\n",
       " [0.5065980694890425],\n",
       " [-0.6438017133089915],\n",
       " [-0.6438017133089915],\n",
       " [-0.6438017133089915],\n",
       " [-0.6438017133089915],\n",
       " [-0.06860182190997448],\n",
       " [-0.6438017133089915],\n",
       " [-0.6438017133089915],\n",
       " [-0.6438017133089915],\n",
       " [-0.6438017133089915],\n",
       " [-0.6438017133089915],\n",
       " [-0.6438017133089915],\n",
       " [-0.6438017133089915],\n",
       " [1.0817979608880595],\n",
       " [1.6569978522870765],\n",
       " [-0.6438017133089915],\n",
       " [1.6569978522870765],\n",
       " [-0.6438017133089915],\n",
       " [-0.6438017133089915],\n",
       " [-0.6438017133089915],\n",
       " [-0.6438017133089915],\n",
       " [-0.6438017133089915],\n",
       " [1.0817979608880595],\n",
       " [-0.6438017133089915],\n",
       " [2.232197743686094],\n",
       " [-0.6438017133089915],\n",
       " [-0.6438017133089915],\n",
       " [-0.6438017133089915],\n",
       " [-0.6438017133089915],\n",
       " [-0.6438017133089915],\n",
       " [-0.6438017133089915],\n",
       " [2.232197743686094],\n",
       " [-0.6438017133089915],\n",
       " [-0.6438017133089915],\n",
       " [2.8073976350851106],\n",
       " [-0.6438017133089915],\n",
       " [-0.6438017133089915],\n",
       " [-0.06860182190997448],\n",
       " [2.8073976350851106],\n",
       " [1.6569978522870765],\n",
       " [-0.6438017133089915],\n",
       " [-0.6438017133089915],\n",
       " [1.0817979608880595],\n",
       " [-0.6438017133089915],\n",
       " [1.0817979608880595],\n",
       " [-0.6438017133089915],\n",
       " [1.0817979608880595],\n",
       " [-0.6438017133089915],\n",
       " [-0.6438017133089915],\n",
       " [-0.6438017133089915],\n",
       " [1.0817979608880595],\n",
       " [-0.6438017133089915],\n",
       " [-0.6438017133089915],\n",
       " [-0.06860182190997448],\n",
       " [-0.6438017133089915],\n",
       " [-0.6438017133089915],\n",
       " [-0.6438017133089915],\n",
       " [-0.6438017133089915],\n",
       " [-0.6438017133089915],\n",
       " [-0.6438017133089915],\n",
       " [-0.6438017133089915],\n",
       " [-0.6438017133089915],\n",
       " [-0.6438017133089915],\n",
       " [-0.6438017133089915],\n",
       " [-0.6438017133089915],\n",
       " [0.5065980694890425],\n",
       " [-0.06860182190997448],\n",
       " [-0.6438017133089915],\n",
       " [1.0817979608880595],\n",
       " [0.5065980694890425],\n",
       " [-0.6438017133089915],\n",
       " [-0.6438017133089915],\n",
       " [-0.6438017133089915],\n",
       " [-0.6438017133089915],\n",
       " [-0.6438017133089915],\n",
       " [-0.6438017133089915],\n",
       " [1.0817979608880595],\n",
       " [-0.6438017133089915],\n",
       " [-0.6438017133089915],\n",
       " [-0.6438017133089915],\n",
       " [1.6569978522870765],\n",
       " [-0.6438017133089915],\n",
       " [-0.6438017133089915],\n",
       " [1.6569978522870765],\n",
       " [2.8073976350851106],\n",
       " [-0.6438017133089915],\n",
       " [-0.6438017133089915],\n",
       " [-0.6438017133089915],\n",
       " [-0.6438017133089915]]"
      ]
     },
     "metadata": {},
     "execution_count": 102
    }
   ],
   "source": [
    "[[x] for x in x_train[:, data_columns.index(i)]]"
   ]
  },
  {
   "cell_type": "code",
   "execution_count": null,
   "metadata": {},
   "outputs": [],
   "source": []
  }
 ]
}